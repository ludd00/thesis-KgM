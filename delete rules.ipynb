{
 "cells": [
  {
   "cell_type": "code",
   "execution_count": 1,
   "metadata": {},
   "outputs": [],
   "source": [
    "import json\n"
   ]
  },
  {
   "cell_type": "code",
   "execution_count": null,
   "metadata": {},
   "outputs": [],
   "source": [
    "rules = []\n",
    "i = 0\n",
    "with open('../../output/ruleset_both_pruned.ndjson', 'r') as fh:\n",
    "    for line in fh:\n",
    "        f = open(\"C:/Users/Dominika/Documents/SKOLA/ING/DIPLOMKA/output/ruleset_both_pruned_no_dupes.ndjson\", \"a\")\n",
    "        if (line.find(\"554>\") == -1 and line.find(\"514c>\") == -1 and line.find(\"84>\") == -1 and line.find(\"1a>\") == -1 and line.find(\"641>\") == -1):\n",
    "            f.write(line)\n",
    "        f.close()"
   ]
  },
  {
   "cell_type": "code",
   "execution_count": 5,
   "metadata": {},
   "outputs": [],
   "source": [
    "with open('../../output/ruleset_both_pruned.ndjson', 'r') as fh:\n",
    "    for line in fh:\n",
    "        with open('C:/Users/Dominika/Documents/SKOLA/ING/DIPLOMKA/output/ruleset_both_pruned_no_dupes.ndjson', \"r\") as f:\n",
    "            if line not in f:\n",
    "                f = open('C:/Users/Dominika/Documents/SKOLA/ING/DIPLOMKA/output/ruleset_both_pruned_no_dupes.ndjson', \"a\")\n",
    "                f.write(line)\n",
    "            f.close()"
   ]
  },
  {
   "cell_type": "code",
   "execution_count": null,
   "metadata": {},
   "outputs": [],
   "source": []
  }
 ],
 "metadata": {
  "kernelspec": {
   "display_name": "pyth12",
   "language": "python",
   "name": "python3"
  },
  "language_info": {
   "codemirror_mode": {
    "name": "ipython",
    "version": 3
   },
   "file_extension": ".py",
   "mimetype": "text/x-python",
   "name": "python",
   "nbconvert_exporter": "python",
   "pygments_lexer": "ipython3",
   "version": "3.12.3"
  }
 },
 "nbformat": 4,
 "nbformat_minor": 2
}
