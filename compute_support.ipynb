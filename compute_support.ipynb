{
 "cells": [
  {
   "cell_type": "code",
   "execution_count": 1,
   "metadata": {},
   "outputs": [],
   "source": [
    "#!pip install rdflib\n",
    "import rdflib\n",
    "from rdflib import Graph\n",
    "import pandas as pd\n",
    "import json\n",
    "import urllib.parse"
   ]
  },
  {
   "cell_type": "code",
   "execution_count": 2,
   "metadata": {},
   "outputs": [
    {
     "data": {
      "text/plain": [
       "<Graph identifier=N66bbe88d101142528ab07e2ded715837 (<class 'rdflib.graph.Graph'>)>"
      ]
     },
     "execution_count": 2,
     "metadata": {},
     "output_type": "execute_result"
    }
   ],
   "source": [
    "g = Graph()\n",
    "g.parse(\"original_train.ttl\")"
   ]
  },
  {
   "cell_type": "code",
   "execution_count": 3,
   "metadata": {},
   "outputs": [],
   "source": [
    "df = pd.read_csv(\"../../output/new_media_rules.csv\", header=None)\n",
    "top40 = df[0].tolist()\n",
    "for i in range(len(top40)):\n",
    "    top40[i] = rdflib.term.URIRef(top40[i])"
   ]
  },
  {
   "cell_type": "code",
   "execution_count": 10,
   "metadata": {},
   "outputs": [],
   "source": [
    "top40 = list(dict.fromkeys(top40))"
   ]
  },
  {
   "cell_type": "code",
   "execution_count": 11,
   "metadata": {},
   "outputs": [],
   "source": [
    "support = dict.fromkeys(top40, 0)"
   ]
  },
  {
   "cell_type": "code",
   "execution_count": 12,
   "metadata": {},
   "outputs": [
    {
     "data": {
      "text/plain": [
       "{rdflib.term.URIRef('urn:unknown:medium%3AJ26'): 0,\n",
       " rdflib.term.URIRef('urn:unknown:medium%3AJ28'): 0,\n",
       " rdflib.term.URIRef('urn:unknown:medium%3AJ75'): 0,\n",
       " rdflib.term.URIRef('urn:unknown:medium%3A1'): 0,\n",
       " rdflib.term.URIRef('urn:unknown:medium%3A535'): 0,\n",
       " rdflib.term.URIRef('urn:unknown:medium%3AJ528'): 0,\n",
       " rdflib.term.URIRef('urn:unknown:medium%3A220'): 0,\n",
       " rdflib.term.URIRef('urn:unknown:medium%3AJ12'): 0,\n",
       " rdflib.term.URIRef('urn:unknown:medium%3A535a'): 0,\n",
       " rdflib.term.URIRef('urn:unknown:medium%3AJ302'): 0,\n",
       " rdflib.term.URIRef('urn:unknown:medium%3AJ118'): 0,\n",
       " rdflib.term.URIRef('urn:unknown:medium%3A248'): 0,\n",
       " rdflib.term.URIRef('urn:unknown:medium%3AJ42'): 0,\n",
       " rdflib.term.URIRef('urn:unknown:medium%3AJ475'): 0,\n",
       " rdflib.term.URIRef('urn:unknown:medium%3AJ569'): 0,\n",
       " rdflib.term.URIRef('urn:unknown:medium%3AJ27'): 0,\n",
       " rdflib.term.URIRef('urn:unknown:medium%3A252'): 0,\n",
       " rdflib.term.URIRef('urn:unknown:medium%3AJ61'): 0,\n",
       " rdflib.term.URIRef('urn:unknown:medium%3AJ346'): 0,\n",
       " rdflib.term.URIRef('urn:unknown:medium%3AJ43'): 0,\n",
       " rdflib.term.URIRef('urn:unknown:medium%3AJ256'): 0,\n",
       " rdflib.term.URIRef('urn:unknown:medium%3AJ58'): 0,\n",
       " rdflib.term.URIRef('urn:unknown:medium%3AJ74'): 0,\n",
       " rdflib.term.URIRef('urn:unknown:medium%3A83'): 0,\n",
       " rdflib.term.URIRef('urn:unknown:medium%3AJ104'): 0,\n",
       " rdflib.term.URIRef('urn:unknown:medium%3AJ50'): 0,\n",
       " rdflib.term.URIRef('urn:unknown:medium%3AJ1099'): 0,\n",
       " rdflib.term.URIRef('urn:unknown:medium%3AJ804'): 0,\n",
       " rdflib.term.URIRef('urn:unknown:medium%3AJ677'): 0,\n",
       " rdflib.term.URIRef('urn:unknown:medium%3A250'): 0,\n",
       " rdflib.term.URIRef('urn:unknown:medium%3AJ386'): 0,\n",
       " rdflib.term.URIRef('urn:unknown:medium%3AJ282'): 0,\n",
       " rdflib.term.URIRef('urn:unknown:medium%3AJ162'): 0,\n",
       " rdflib.term.URIRef('urn:unknown:medium%3A123'): 0}"
      ]
     },
     "execution_count": 12,
     "metadata": {},
     "output_type": "execute_result"
    }
   ],
   "source": [
    "support"
   ]
  },
  {
   "cell_type": "code",
   "execution_count": 13,
   "metadata": {},
   "outputs": [],
   "source": [
    "query = \"\"\"\n",
    "SELECT ?s ?p ?o\n",
    "WHERE {\n",
    "  ?s ?p ?o .\n",
    "}\n",
    "\"\"\"\n",
    "\n",
    "for row in top40:\n",
    "   filtered_gq = g.query(query, initBindings = {\n",
    "      \"p\": rdflib.term.URIRef(\"https://w3id.org/biolink/vocab/occurs_in\"),\n",
    "      \"o\": row\n",
    "    })\n",
    "   for triple in filtered_gq:\n",
    "        if triple.o in top40 and triple.s[0:40] == \"http://purl.obolibrary.org/obo/NCBITaxon\":\n",
    "            support[triple.o] = support[triple.o] + 1\n",
    "\n"
   ]
  },
  {
   "cell_type": "code",
   "execution_count": 14,
   "metadata": {},
   "outputs": [
    {
     "data": {
      "text/plain": [
       "{rdflib.term.URIRef('urn:unknown:medium%3A535'): 1179,\n",
       " rdflib.term.URIRef('urn:unknown:medium%3A1'): 1090,\n",
       " rdflib.term.URIRef('urn:unknown:medium%3AJ118'): 1089,\n",
       " rdflib.term.URIRef('urn:unknown:medium%3AJ346'): 770,\n",
       " rdflib.term.URIRef('urn:unknown:medium%3A220'): 722,\n",
       " rdflib.term.URIRef('urn:unknown:medium%3AJ26'): 619,\n",
       " rdflib.term.URIRef('urn:unknown:medium%3AJ43'): 486,\n",
       " rdflib.term.URIRef('urn:unknown:medium%3AJ42'): 456,\n",
       " rdflib.term.URIRef('urn:unknown:medium%3A252'): 383,\n",
       " rdflib.term.URIRef('urn:unknown:medium%3AJ28'): 296,\n",
       " rdflib.term.URIRef('urn:unknown:medium%3AJ475'): 275,\n",
       " rdflib.term.URIRef('urn:unknown:medium%3AJ75'): 257,\n",
       " rdflib.term.URIRef('urn:unknown:medium%3AJ27'): 219,\n",
       " rdflib.term.URIRef('urn:unknown:medium%3AJ12'): 215,\n",
       " rdflib.term.URIRef('urn:unknown:medium%3AJ58'): 193,\n",
       " rdflib.term.URIRef('urn:unknown:medium%3AJ61'): 165,\n",
       " rdflib.term.URIRef('urn:unknown:medium%3AJ50'): 156,\n",
       " rdflib.term.URIRef('urn:unknown:medium%3AJ386'): 143,\n",
       " rdflib.term.URIRef('urn:unknown:medium%3AJ74'): 121,\n",
       " rdflib.term.URIRef('urn:unknown:medium%3A83'): 117,\n",
       " rdflib.term.URIRef('urn:unknown:medium%3AJ256'): 89,\n",
       " rdflib.term.URIRef('urn:unknown:medium%3A535a'): 81,\n",
       " rdflib.term.URIRef('urn:unknown:medium%3AJ104'): 80,\n",
       " rdflib.term.URIRef('urn:unknown:medium%3AJ282'): 58,\n",
       " rdflib.term.URIRef('urn:unknown:medium%3AJ569'): 35,\n",
       " rdflib.term.URIRef('urn:unknown:medium%3A248'): 30,\n",
       " rdflib.term.URIRef('urn:unknown:medium%3AJ677'): 29,\n",
       " rdflib.term.URIRef('urn:unknown:medium%3A250'): 28,\n",
       " rdflib.term.URIRef('urn:unknown:medium%3A123'): 22,\n",
       " rdflib.term.URIRef('urn:unknown:medium%3AJ302'): 14,\n",
       " rdflib.term.URIRef('urn:unknown:medium%3AJ804'): 7,\n",
       " rdflib.term.URIRef('urn:unknown:medium%3AJ528'): 6,\n",
       " rdflib.term.URIRef('urn:unknown:medium%3AJ1099'): 5,\n",
       " rdflib.term.URIRef('urn:unknown:medium%3AJ162'): 3}"
      ]
     },
     "execution_count": 14,
     "metadata": {},
     "output_type": "execute_result"
    }
   ],
   "source": [
    "data_sorted = {k: v for k, v in sorted(support.items(), key=lambda x: x[1], reverse=True)}\n",
    "data_sorted"
   ]
  },
  {
   "cell_type": "code",
   "execution_count": 15,
   "metadata": {},
   "outputs": [],
   "source": [
    "import json\n",
    "with open(\"support_rulemaker_new_media.json\", \"w\") as outfile: \n",
    "    json.dump(data_sorted, outfile)"
   ]
  },
  {
   "cell_type": "code",
   "execution_count": null,
   "metadata": {},
   "outputs": [],
   "source": []
  }
 ],
 "metadata": {
  "kernelspec": {
   "display_name": "pyth12",
   "language": "python",
   "name": "python3"
  },
  "language_info": {
   "codemirror_mode": {
    "name": "ipython",
    "version": 3
   },
   "file_extension": ".py",
   "mimetype": "text/x-python",
   "name": "python",
   "nbconvert_exporter": "python",
   "pygments_lexer": "ipython3",
   "version": "3.12.3"
  }
 },
 "nbformat": 4,
 "nbformat_minor": 2
}
