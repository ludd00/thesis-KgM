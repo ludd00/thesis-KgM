{
 "cells": [
  {
   "cell_type": "code",
   "execution_count": 1,
   "metadata": {},
   "outputs": [],
   "source": [
    "#!pip install rdflib\n",
    "import rdflib\n",
    "from rdflib import Graph\n",
    "import pandas as pd\n",
    "import json\n",
    "import urllib.parse"
   ]
  },
  {
   "cell_type": "code",
   "execution_count": 2,
   "metadata": {},
   "outputs": [
    {
     "data": {
      "text/plain": [
       "<Graph identifier=N9d421372534347b69798e5ea1417946c (<class 'rdflib.graph.Graph'>)>"
      ]
     },
     "execution_count": 2,
     "metadata": {},
     "output_type": "execute_result"
    }
   ],
   "source": [
    "g = Graph()\n",
    "g.parse(\"C:/Users/Dominika/Documents/SKOLA/ING/DIPLOMKA/1019/same test as berkley/train_data_1019.ttl\")"
   ]
  },
  {
   "cell_type": "code",
   "execution_count": 3,
   "metadata": {},
   "outputs": [],
   "source": [
    "df = pd.read_csv(\"top40_old.csv\", header=None)\n",
    "top40 = df[0].tolist()\n",
    "for i in range(len(top40)):\n",
    "    top40[i] = rdflib.term.URIRef(top40[i])"
   ]
  },
  {
   "cell_type": "code",
   "execution_count": 4,
   "metadata": {},
   "outputs": [],
   "source": [
    "support = dict.fromkeys(top40, 0)"
   ]
  },
  {
   "cell_type": "code",
   "execution_count": 9,
   "metadata": {},
   "outputs": [
    {
     "data": {
      "text/plain": [
       "{rdflib.term.URIRef('urn:unknown:medium%3A65'): 0,\n",
       " rdflib.term.URIRef('urn:unknown:medium%3A514'): 0,\n",
       " rdflib.term.URIRef('urn:unknown:medium%3A693'): 0,\n",
       " rdflib.term.URIRef('urn:unknown:medium%3A830'): 0,\n",
       " rdflib.term.URIRef('urn:unknown:medium%3A92'): 0,\n",
       " rdflib.term.URIRef('urn:unknown:medium%3A11'): 0,\n",
       " rdflib.term.URIRef('urn:unknown:medium%3A645'): 0,\n",
       " rdflib.term.URIRef('urn:unknown:medium%3A104'): 0,\n",
       " rdflib.term.URIRef('urn:unknown:medium%3AJ14'): 0,\n",
       " rdflib.term.URIRef('urn:unknown:medium%3A1a'): 0,\n",
       " rdflib.term.URIRef('urn:unknown:medium%3A110'): 0,\n",
       " rdflib.term.URIRef('urn:unknown:medium%3A372'): 0,\n",
       " rdflib.term.URIRef('urn:unknown:medium%3A58'): 0,\n",
       " rdflib.term.URIRef('urn:unknown:medium%3A1076b'): 0,\n",
       " rdflib.term.URIRef('urn:unknown:medium%3A545'): 0,\n",
       " rdflib.term.URIRef('urn:unknown:medium%3A830c'): 0,\n",
       " rdflib.term.URIRef('urn:unknown:medium%3A553'): 0,\n",
       " rdflib.term.URIRef('urn:unknown:medium%3A104b'): 0,\n",
       " rdflib.term.URIRef('urn:unknown:medium%3A98'): 0,\n",
       " rdflib.term.URIRef('urn:unknown:medium%3A514c'): 0,\n",
       " rdflib.term.URIRef('urn:unknown:medium%3A215'): 0,\n",
       " rdflib.term.URIRef('urn:unknown:medium%3A63'): 0,\n",
       " rdflib.term.URIRef('urn:unknown:medium%3A78'): 0,\n",
       " rdflib.term.URIRef('urn:unknown:medium%3A119'): 0,\n",
       " rdflib.term.URIRef('urn:unknown:medium%3A381'): 0,\n",
       " rdflib.term.URIRef('urn:unknown:medium%3A27'): 0,\n",
       " rdflib.term.URIRef('urn:unknown:medium%3A641'): 0,\n",
       " rdflib.term.URIRef('urn:unknown:medium%3AJ574'): 0,\n",
       " rdflib.term.URIRef('urn:unknown:medium%3A514b'): 0,\n",
       " rdflib.term.URIRef('urn:unknown:medium%3A84'): 0,\n",
       " rdflib.term.URIRef('urn:unknown:medium%3A535b'): 0,\n",
       " rdflib.term.URIRef('urn:unknown:medium%3A104c'): 0,\n",
       " rdflib.term.URIRef('urn:unknown:medium%3A760'): 0,\n",
       " rdflib.term.URIRef('urn:unknown:medium%3A339'): 0,\n",
       " rdflib.term.URIRef('urn:unknown:medium%3A554'): 0,\n",
       " rdflib.term.URIRef('urn:unknown:medium%3A1560'): 0,\n",
       " rdflib.term.URIRef('urn:unknown:medium%3A195c'): 0,\n",
       " rdflib.term.URIRef('urn:unknown:medium%3A28'): 0,\n",
       " rdflib.term.URIRef('urn:unknown:medium%3A141'): 0,\n",
       " rdflib.term.URIRef('urn:unknown:medium%3A503'): 0}"
      ]
     },
     "execution_count": 9,
     "metadata": {},
     "output_type": "execute_result"
    }
   ],
   "source": [
    "support"
   ]
  },
  {
   "cell_type": "code",
   "execution_count": 12,
   "metadata": {},
   "outputs": [],
   "source": [
    "query = \"\"\"\n",
    "SELECT ?s ?p ?o\n",
    "WHERE {\n",
    "  ?s ?p ?o .\n",
    "}\n",
    "\"\"\"\n",
    "\n",
    "for row in top40:\n",
    "   filtered_gq = g.query(query, initBindings = {\n",
    "      \"p\": rdflib.term.URIRef(\"https://w3id.org/biolink/vocab/occurs_in\"),\n",
    "      \"o\": row\n",
    "    })\n",
    "   for triple in filtered_gq:\n",
    "        if triple.o in top40 and triple.s[0:40] == \"http://purl.obolibrary.org/obo/NCBITaxon\":\n",
    "            support[triple.o] = support[triple.o] + 1\n",
    "\n"
   ]
  },
  {
   "cell_type": "code",
   "execution_count": 20,
   "metadata": {},
   "outputs": [
    {
     "data": {
      "text/plain": [
       "{rdflib.term.URIRef('urn:unknown:medium%3A65'): 1721,\n",
       " rdflib.term.URIRef('urn:unknown:medium%3A514'): 1277,\n",
       " rdflib.term.URIRef('urn:unknown:medium%3A693'): 1157,\n",
       " rdflib.term.URIRef('urn:unknown:medium%3A92'): 1060,\n",
       " rdflib.term.URIRef('urn:unknown:medium%3A830'): 1033,\n",
       " rdflib.term.URIRef('urn:unknown:medium%3A84'): 786,\n",
       " rdflib.term.URIRef('urn:unknown:medium%3AJ14'): 535,\n",
       " rdflib.term.URIRef('urn:unknown:medium%3A104'): 362,\n",
       " rdflib.term.URIRef('urn:unknown:medium%3A553'): 347,\n",
       " rdflib.term.URIRef('urn:unknown:medium%3A554'): 271,\n",
       " rdflib.term.URIRef('urn:unknown:medium%3A11'): 260,\n",
       " rdflib.term.URIRef('urn:unknown:medium%3A215'): 254,\n",
       " rdflib.term.URIRef('urn:unknown:medium%3A110'): 194,\n",
       " rdflib.term.URIRef('urn:unknown:medium%3A78'): 179,\n",
       " rdflib.term.URIRef('urn:unknown:medium%3A645'): 178,\n",
       " rdflib.term.URIRef('urn:unknown:medium%3A1a'): 159,\n",
       " rdflib.term.URIRef('urn:unknown:medium%3A545'): 152,\n",
       " rdflib.term.URIRef('urn:unknown:medium%3A58'): 150,\n",
       " rdflib.term.URIRef('urn:unknown:medium%3A381'): 120,\n",
       " rdflib.term.URIRef('urn:unknown:medium%3A339'): 119,\n",
       " rdflib.term.URIRef('urn:unknown:medium%3A104b'): 100,\n",
       " rdflib.term.URIRef('urn:unknown:medium%3A830c'): 90,\n",
       " rdflib.term.URIRef('urn:unknown:medium%3A372'): 88,\n",
       " rdflib.term.URIRef('urn:unknown:medium%3AJ574'): 85,\n",
       " rdflib.term.URIRef('urn:unknown:medium%3A514c'): 67,\n",
       " rdflib.term.URIRef('urn:unknown:medium%3A98'): 64,\n",
       " rdflib.term.URIRef('urn:unknown:medium%3A1076b'): 61,\n",
       " rdflib.term.URIRef('urn:unknown:medium%3A63'): 58,\n",
       " rdflib.term.URIRef('urn:unknown:medium%3A535b'): 55,\n",
       " rdflib.term.URIRef('urn:unknown:medium%3A104c'): 52,\n",
       " rdflib.term.URIRef('urn:unknown:medium%3A119'): 51,\n",
       " rdflib.term.URIRef('urn:unknown:medium%3A514b'): 49,\n",
       " rdflib.term.URIRef('urn:unknown:medium%3A641'): 48,\n",
       " rdflib.term.URIRef('urn:unknown:medium%3A27'): 46,\n",
       " rdflib.term.URIRef('urn:unknown:medium%3A1560'): 46,\n",
       " rdflib.term.URIRef('urn:unknown:medium%3A195c'): 33,\n",
       " rdflib.term.URIRef('urn:unknown:medium%3A28'): 33,\n",
       " rdflib.term.URIRef('urn:unknown:medium%3A760'): 31,\n",
       " rdflib.term.URIRef('urn:unknown:medium%3A503'): 31,\n",
       " rdflib.term.URIRef('urn:unknown:medium%3A141'): 28}"
      ]
     },
     "execution_count": 20,
     "metadata": {},
     "output_type": "execute_result"
    }
   ],
   "source": [
    "data_sorted = {k: v for k, v in sorted(support.items(), key=lambda x: x[1], reverse=True)}\n",
    "data_sorted"
   ]
  },
  {
   "cell_type": "code",
   "execution_count": 21,
   "metadata": {},
   "outputs": [],
   "source": [
    "import json\n",
    "with open(\"support_for_berkley.json\", \"w\") as outfile: \n",
    "    json.dump(data_sorted, outfile)"
   ]
  },
  {
   "cell_type": "code",
   "execution_count": null,
   "metadata": {},
   "outputs": [],
   "source": []
  }
 ],
 "metadata": {
  "kernelspec": {
   "display_name": "pyth12",
   "language": "python",
   "name": "python3"
  },
  "language_info": {
   "codemirror_mode": {
    "name": "ipython",
    "version": 3
   },
   "file_extension": ".py",
   "mimetype": "text/x-python",
   "name": "python",
   "nbconvert_exporter": "python",
   "pygments_lexer": "ipython3",
   "version": "3.12.3"
  }
 },
 "nbformat": 4,
 "nbformat_minor": 2
}
