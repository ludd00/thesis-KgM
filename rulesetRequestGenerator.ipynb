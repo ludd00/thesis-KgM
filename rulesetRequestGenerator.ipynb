{
 "cells": [
  {
   "cell_type": "code",
   "execution_count": 3,
   "metadata": {},
   "outputs": [],
   "source": [
    "import requests\n",
    "import json\n",
    "import time"
   ]
  },
  {
   "cell_type": "code",
   "execution_count": 4,
   "metadata": {},
   "outputs": [],
   "source": [
    "with open('rulemaker.json', 'r') as file:\n",
    "    bodyTemplate = json.load(file)"
   ]
  },
  {
   "cell_type": "code",
   "execution_count": 5,
   "metadata": {},
   "outputs": [],
   "source": [
    "with open('support_rulemaker.json', 'r') as file:\n",
    "    top40 = json.load(file)"
   ]
  },
  {
   "cell_type": "code",
   "execution_count": 6,
   "metadata": {},
   "outputs": [
    {
     "data": {
      "text/plain": [
       "50"
      ]
     },
     "execution_count": 6,
     "metadata": {},
     "output_type": "execute_result"
    }
   ],
   "source": [
    "bodyTemplate[2][\"parameters\"][\"min\"]"
   ]
  },
  {
   "cell_type": "code",
   "execution_count": 7,
   "metadata": {},
   "outputs": [
    {
     "data": {
      "text/plain": [
       "'/kg-microbe/abc'"
      ]
     },
     "execution_count": 7,
     "metadata": {},
     "output_type": "execute_result"
    }
   ],
   "source": [
    "bodyTemplate[3][\"parameters\"][\"path\"]"
   ]
  },
  {
   "cell_type": "code",
   "execution_count": null,
   "metadata": {},
   "outputs": [
    {
     "name": "stdout",
     "output_type": "stream",
     "text": [
      "Odeslal se pozadavek na nalezeni pravidel k mediu  https://mediadive.dsmz.de/medium/65 , task id je  4a991c8e-9e64-4952-9d9c-1f2e7f9143ee support je  51\n",
      "[{'name': 'LoadIndex', 'parameters': {'path': '/kg-microbe/kgm_train.index', 'partially': False}}, {'name': 'Mine', 'parameters': {'thresholds': [{'name': 'MinSupport', 'value': 51}, {'name': 'MaxRuleLength', 'value': 4}], 'ruleConsumers': [{'name': 'topK', 'k': 100000, 'allowOverflow': True}], 'patterns': [{'body': [], 'head': {'subject': {'name': 'Variable', 'value': 'a'}, 'predicate': {'name': 'Constant', 'value': 'biolink:occurs_in'}, 'object': {'name': 'Constant', 'value': '<https://mediadive.dsmz.de/medium/65>'}, 'graph': {'name': 'Any'}}, 'exact': False, 'orderless': True}], 'constraints': [{'name': 'WithoutPredicates', 'values': ['<http://www.w3.org/1999/02/22-rdf-syntax-ns#type>', 'rdfs:label']}, {'name': 'OnlyLowerCardinalitySideConstants'}, {'name': 'WithoutDuplicitPredicates'}], 'parallelism': 0}}, {'name': 'ComputeSupport', 'parameters': {'name': 'Support', 'min': 51}}, {'name': 'ComputeConfidence', 'parameters': {'name': 'PcaConfidence', 'min': 0.01}}, {'name': 'ComputeConfidence', 'parameters': {'name': 'Lift'}}, {'name': 'SortRuleset', 'parameters': {'by': [{'measure': 'PcaConfidence', 'reversed': False}]}}, {'name': 'Prune', 'parameters': {'strategy': 'DataCoveragePruning', 'onlyFunctionalProperties': False, 'onlyExistingTriples': True, 'injectiveMapping': True}}, {'name': 'ExportRules', 'parameters': {'path': '/kg-microbe/65_pruned.ndjson', 'format': 'ndjson'}}]\n",
      "https://mediadive.dsmz.de/medium/65 ( 1 / 40 ) 202  ... LOGY: [{'message': 'Action Triple items indexing, steps: 1342680 (268482.3 per sec)', 'time': '2024-11-24T10:50:43.848Z'}, {'message': 'Action Triple items indexing, steps: 1567000 (44855.03 per sec)', 'time': '2024-11-24T10:50:48.848Z'}, {'message': 'Action Triple items indexing, steps: 2551057 (196772.05 per sec)', 'time': '2024-11-24T10:50:53.849Z'}]\n",
      "https://mediadive.dsmz.de/medium/65 ( 1 / 40 ) 202  ... LOGY: [{'message': 'Action Triple items indexing, steps: 2724486 (34671.93 per sec)', 'time': '2024-11-24T10:50:58.849Z'}, {'message': 'Action Triple items indexing, steps: 2879133 (30923.22 per sec)', 'time': '2024-11-24T10:51:03.849Z'}, {'message': 'Action Triple items indexing, steps: 2931178 (10406.92 per sec)', 'time': '2024-11-24T10:51:08.849Z'}]\n",
      "https://mediadive.dsmz.de/medium/65 ( 1 / 40 ) 202  ... LOGY: [{'message': 'Action Triple items indexing, steps: 3036226 (21005.4 per sec)', 'time': '2024-11-24T10:51:13.849Z'}, {'message': 'Action Triple items indexing, steps: 3126233 (17994.2 per sec)', 'time': '2024-11-24T10:51:18.850Z'}, {'message': 'Action Triple items indexing, steps: 4325777 -- ended', 'time': '2024-11-24T10:51:20.550Z'}, {'message': 'Action Dataset indexing, steps: 0 -- started', 'time': '2024-11-24T10:51:20.550Z'}, {'message': 'Action Dataset indexing, steps: 983810 (196722.66 per sec)', 'time': '2024-11-24T10:51:25.550Z'}]\n",
      "https://mediadive.dsmz.de/medium/65 ( 1 / 40 ) 202  ... LOGY: [{'message': 'Action Dataset indexing, steps: 1045672 (12367.45 per sec)', 'time': '2024-11-24T10:51:30.551Z'}, {'message': 'Action Dataset indexing, steps: 1995820 (189991.6 per sec)', 'time': '2024-11-24T10:51:35.551Z'}, {'message': 'Action Dataset indexing, steps: 2381949 (77210.36 per sec)', 'time': '2024-11-24T10:51:40.551Z'}]\n",
      "https://mediadive.dsmz.de/medium/65 ( 1 / 40 ) 202  ... LOGY: [{'message': 'Action Dataset indexing, steps: 2442674 (12142.57 per sec)', 'time': '2024-11-24T10:51:45.551Z'}, {'message': 'Action Dataset indexing, steps: 3416100 (194646.27 per sec)', 'time': '2024-11-24T10:51:50.551Z'}, {'message': 'Action Dataset indexing, steps: 3768062 (70378.32 per sec)', 'time': '2024-11-24T10:51:55.552Z'}]\n",
      "https://mediadive.dsmz.de/medium/65 ( 1 / 40 ) 202  ... LOGY: [{'message': 'Action Dataset indexing, steps: 3844345 (15253.55 per sec)', 'time': '2024-11-24T10:52:00.552Z'}, {'message': 'Action Dataset indexing, steps: 5155206 (262119.78 per sec)', 'time': '2024-11-24T10:52:05.552Z'}, {'message': 'Action Dataset indexing, steps: 5506813 (70307.34 per sec)', 'time': '2024-11-24T10:52:10.552Z'}]\n",
      "https://mediadive.dsmz.de/medium/65 ( 1 / 40 ) 202  ... LOGY: [{'message': 'Action Dataset indexing, steps: 5553407 (9316.94 per sec)', 'time': '2024-11-24T10:52:15.552Z'}, {'message': 'Action Dataset indexing, steps: 6798283 -- ended', 'time': '2024-11-24T10:52:17.077Z'}, {'message': 'Predicates trimming.', 'time': '2024-11-24T10:52:17.077Z'}, {'message': 'Subjects indexing.', 'time': '2024-11-24T10:52:20.319Z'}]\n",
      "https://mediadive.dsmz.de/medium/65 ( 1 / 40 ) 202  ... LOGY: [{'message': 'Subjects trimming.', 'time': '2024-11-24T10:52:33.966Z'}, {'message': 'Objects indexing.', 'time': '2024-11-24T10:52:35.896Z'}, {'message': 'Objects trimming.', 'time': '2024-11-24T10:52:40.084Z'}, {'message': 'Action Intervals index loading, steps: 0 of 52, progress: 0.0% -- started', 'time': '2024-11-24T10:52:40.769Z'}, {'message': 'Action Intervals index loading, steps: 52 of 52, progress: 100.0% -- ended', 'time': '2024-11-24T10:52:41.356Z'}, {'message': 'Amie task settings:\\nMinHeadSize=100,\\nMinHeadCoverage=0.0,\\nMinSupport=51,\\nMaxThreads=24,\\nMinAtomSize=0,\\nMaxRuleLength=4,\\nConstantsForPredicates=List(),\\nConstantsPosition=LowerCardinalitySide(false),\\nTimeout=-1,\\nLocalTimeout=None,\\nWithDuplicitPredicates=false,\\nInjectiveMapping=true,\\nPatterns=List(RulePattern(Vector(),Some(AtomPattern(Variable(?a),Constant(biolink:occurs_in),Constant(<https://mediadive.dsmz.de/medium/65>),Any)),false,true)),\\nOnlyPredicates=List(),\\nWithoutPredicates=List(<http://www.w3.org/1999/02/22-rdf-syntax-ns#type>, rdfs:label)\\nExperiment=false', 'time': '2024-11-24T10:52:41.356Z'}, {'message': 'Action Heads mining, steps: 0 -- started', 'time': '2024-11-24T10:52:41.356Z'}, {'message': 'Action Heads mining, steps: 1 -- ended', 'time': '2024-11-24T10:52:41.574Z'}, {'message': 'Action Amie rules mining, stage 1 of 3, steps: 0 of 1, progress: 0.0% -- started', 'time': '2024-11-24T10:52:41.574Z'}, {'message': 'Action Amie rules mining, stage 1 of 3, steps: 1 of 1, progress: 100.0% -- ended', 'time': '2024-11-24T10:52:41.608Z'}, {'message': 'Action Amie rules mining, stage 2 of 3, steps: 0 of 170, progress: 0.0% -- started', 'time': '2024-11-24T10:52:41.609Z'}, {'message': 'Action Amie rules mining, stage 2 of 3, steps: 170 of 170, progress: 100.0% -- ended', 'time': '2024-11-24T10:52:42.760Z'}, {'message': 'Action Amie rules mining, stage 3 of 3, steps: 0 of 4633, progress: 0.0% -- started', 'time': '2024-11-24T10:52:42.760Z'}]\n",
      "https://mediadive.dsmz.de/medium/65 ( 1 / 40 ) 202  ... LOGY: [{'message': 'Action Amie rules mining, stage 3 of 3, steps: 4628 of 4633, progress: 99.0% (925.41 per sec) -- processed rules, found closed rules: 29477, activeThreads: 6, duplicates: 33040', 'time': '2024-11-24T10:52:47.760Z'}, {'message': 'Action Amie rules mining, stage 3 of 3, steps: 4629 of 4633, progress: 99.0% (0.2 per sec) -- processed rules, found closed rules: 29479, activeThreads: 5, duplicates: 33040', 'time': '2024-11-24T10:52:52.760Z'}]\n",
      "https://mediadive.dsmz.de/medium/65 ( 1 / 40 ) 202  ... LOGY: [{'message': 'Action Amie rules mining, stage 3 of 3, steps: 4630 of 4633, progress: 99.0% (0.2 per sec) -- processed rules, found closed rules: 31161, activeThreads: 4, duplicates: 33040', 'time': '2024-11-24T10:53:02.760Z'}, {'message': 'Action Amie rules mining, stage 3 of 3, steps: 4631 of 4633, progress: 99.0% (0.2 per sec) -- processed rules, found closed rules: 33070, activeThreads: 3, duplicates: 33040', 'time': '2024-11-24T10:53:12.761Z'}]\n",
      "https://mediadive.dsmz.de/medium/65 ( 1 / 40 ) 202  ... LOGY: [{'message': 'Long refining of rule (?c biolink:consumes ?b) ^ (?a biolink:capable_of ?b) -> (?a biolink:occurs_in <https://mediadive.dsmz.de/medium/65>) | support: 295, headCoverage: 0.008876184744997743, headSize: 33235. Projections size: 13286. Step: 1527 of 1782', 'time': '2024-11-24T10:53:15.652Z'}, {'message': 'Long refining of rule (?c biolink:capable_of ?b) ^ (?a biolink:consumes ?b) -> (?a biolink:occurs_in <https://mediadive.dsmz.de/medium/65>) | support: 981, headCoverage: 0.029517075372348427, headSize: 33235. Projections size: 5449. Step: 1365 of 1782', 'time': '2024-11-24T10:53:15.757Z'}, {'message': 'Action Amie rules mining, stage 3 of 3, steps: 4633 of 4633, progress: 100.0% -- ended', 'time': '2024-11-24T10:53:22.377Z'}, {'message': 'Action Lift computing, steps: 0 -- started', 'time': '2024-11-24T10:53:22.420Z'}, {'message': 'Action PcaConfidence computing, steps: 0 -- started', 'time': '2024-11-24T10:53:22.420Z'}, {'message': 'Action Support computing, steps: 0 of 35593, progress: 0.0% -- started', 'time': '2024-11-24T10:53:22.420Z'}, {'message': 'Action Lift computing, steps: 10990 (2197.56 per sec)', 'time': '2024-11-24T10:53:27.421Z'}, {'message': 'Action PcaConfidence computing, steps: 11544 (2308.34 per sec)', 'time': '2024-11-24T10:53:27.421Z'}, {'message': 'Action Support computing, steps: 12529 of 35593, progress: 35.0% (2504.8 per sec)', 'time': '2024-11-24T10:53:27.421Z'}]\n",
      "https://mediadive.dsmz.de/medium/65 ( 1 / 40 ) 202  ... LOGY: [{'message': 'Action Lift computing, steps: 22556 (2312.74 per sec)', 'time': '2024-11-24T10:53:32.422Z'}, {'message': 'Action PcaConfidence computing, steps: 23110 (2312.74 per sec)', 'time': '2024-11-24T10:53:32.422Z'}, {'message': 'Action Support computing, steps: 24133 of 35593, progress: 67.0% (2320.34 per sec)', 'time': '2024-11-24T10:53:32.422Z'}, {'message': 'Action Lift computing, steps: 27114 (911.42 per sec)', 'time': '2024-11-24T10:53:37.423Z'}, {'message': 'Action Support computing, steps: 28691 of 35593, progress: 80.0% (911.42 per sec)', 'time': '2024-11-24T10:53:37.423Z'}, {'message': 'Action PcaConfidence computing, steps: 27668 (911.24 per sec)', 'time': '2024-11-24T10:53:37.424Z'}]\n",
      "https://mediadive.dsmz.de/medium/65 ( 1 / 40 ) 202  ... LOGY: [{'message': 'Action Lift computing, steps: 28020 (181.16 per sec)', 'time': '2024-11-24T10:53:47.425Z'}, {'message': 'Action PcaConfidence computing, steps: 29034 (273.15 per sec)', 'time': '2024-11-24T10:53:47.425Z'}, {'message': 'Action Support computing, steps: 30057 of 35593, progress: 84.0% (273.09 per sec)', 'time': '2024-11-24T10:53:47.426Z'}, {'message': 'Action Lift computing, steps: 28312 (58.38 per sec)', 'time': '2024-11-24T10:53:52.427Z'}, {'message': 'Action Support computing, steps: 30349 of 35593, progress: 85.0% (58.39 per sec)', 'time': '2024-11-24T10:53:52.427Z'}, {'message': 'Action PcaConfidence computing, steps: 29326 (58.39 per sec)', 'time': '2024-11-24T10:53:52.427Z'}, {'message': 'Action Lift computing, steps: 28435 (24.6 per sec)', 'time': '2024-11-24T10:53:57.428Z'}, {'message': 'Action PcaConfidence computing, steps: 29449 (24.6 per sec)', 'time': '2024-11-24T10:53:57.428Z'}, {'message': 'Action Support computing, steps: 30472 of 35593, progress: 85.0% (24.6 per sec)', 'time': '2024-11-24T10:53:57.428Z'}]\n",
      "https://mediadive.dsmz.de/medium/65 ( 1 / 40 ) 202  ... LOGY: [{'message': 'Action Lift computing, steps: 28438 (0.6 per sec)', 'time': '2024-11-24T10:54:12.429Z'}, {'message': 'Action PcaConfidence computing, steps: 29452 (0.6 per sec)', 'time': '2024-11-24T10:54:12.429Z'}, {'message': 'Action Support computing, steps: 30475 of 35593, progress: 85.0% (0.6 per sec)', 'time': '2024-11-24T10:54:12.429Z'}]\n",
      "https://mediadive.dsmz.de/medium/65 ( 1 / 40 ) 202  ... LOGY: [{'message': 'Action Lift computing, steps: 28528 (18.0 per sec)', 'time': '2024-11-24T10:54:27.430Z'}, {'message': 'Action PcaConfidence computing, steps: 29542 (17.99 per sec)', 'time': '2024-11-24T10:54:27.430Z'}, {'message': 'Action Support computing, steps: 30565 of 35593, progress: 85.0% (17.99 per sec)', 'time': '2024-11-24T10:54:27.430Z'}]\n",
      "https://mediadive.dsmz.de/medium/65 ( 1 / 40 ) 202  ... LOGY: [{'message': 'Action Lift computing, steps: 28559 (6.2 per sec)', 'time': '2024-11-24T10:54:32.430Z'}, {'message': 'Action PcaConfidence computing, steps: 29573 (6.2 per sec)', 'time': '2024-11-24T10:54:32.430Z'}, {'message': 'Action Support computing, steps: 30596 of 35593, progress: 85.0% (6.2 per sec)', 'time': '2024-11-24T10:54:32.430Z'}, {'message': 'Action Lift computing, steps: 29752 (238.55 per sec)', 'time': '2024-11-24T10:54:37.430Z'}, {'message': 'Action Support computing, steps: 31789 of 35593, progress: 89.0% (238.55 per sec)', 'time': '2024-11-24T10:54:37.430Z'}, {'message': 'Action PcaConfidence computing, steps: 30766 (238.55 per sec)', 'time': '2024-11-24T10:54:37.430Z'}, {'message': 'Action Lift computing, steps: 30298 (109.18 per sec)', 'time': '2024-11-24T10:54:42.431Z'}, {'message': 'Action Support computing, steps: 32335 of 35593, progress: 90.0% (109.18 per sec)', 'time': '2024-11-24T10:54:42.431Z'}, {'message': 'Action PcaConfidence computing, steps: 31312 (109.16 per sec)', 'time': '2024-11-24T10:54:42.431Z'}]\n",
      "https://mediadive.dsmz.de/medium/65 ( 1 / 40 ) 202  ... LOGY: [{'message': 'Action Lift computing, steps: 31458 (231.95 per sec)', 'time': '2024-11-24T10:54:47.432Z'}, {'message': 'Action PcaConfidence computing, steps: 32472 (231.95 per sec)', 'time': '2024-11-24T10:54:47.432Z'}, {'message': 'Action Support computing, steps: 33495 of 35593, progress: 94.0% (231.95 per sec)', 'time': '2024-11-24T10:54:47.432Z'}]\n",
      "https://mediadive.dsmz.de/medium/65 ( 1 / 40 ) 202  ... LOGY: [{'message': 'Action Lift computing, steps: 32048 (117.98 per sec)', 'time': '2024-11-24T10:55:02.595Z'}, {'message': 'Action PcaConfidence computing, steps: 33062 (117.98 per sec)', 'time': '2024-11-24T10:55:02.595Z'}, {'message': 'Action Support computing, steps: 34085 of 35593, progress: 95.0% (117.86 per sec)', 'time': '2024-11-24T10:55:02.600Z'}]\n",
      "https://mediadive.dsmz.de/medium/65 ( 1 / 40 ) 202  ... LOGY: [{'message': 'Action Support computing, steps: 34649 of 35593, progress: 97.0% (110.91 per sec)', 'time': '2024-11-24T10:55:17.684Z'}, {'message': 'Action PcaConfidence computing, steps: 33626 (110.83 per sec)', 'time': '2024-11-24T10:55:17.684Z'}, {'message': 'Action Lift computing, steps: 32612 (110.83 per sec)', 'time': '2024-11-24T10:55:17.684Z'}, {'message': 'Action Support computing, steps: 35225 of 35593, progress: 98.0% (115.15 per sec)', 'time': '2024-11-24T10:55:22.685Z'}, {'message': 'Action Lift computing, steps: 33188 (115.15 per sec)', 'time': '2024-11-24T10:55:22.685Z'}, {'message': 'Action PcaConfidence computing, steps: 34202 (115.18 per sec)', 'time': '2024-11-24T10:55:22.685Z'}, {'message': 'Action PcaConfidence computing, steps: 34215 (2.58 per sec)', 'time': '2024-11-24T10:55:27.723Z'}, {'message': 'Action Support computing, steps: 35238 of 35593, progress: 99.0% (2.58 per sec)', 'time': '2024-11-24T10:55:27.723Z'}, {'message': 'Action Lift computing, steps: 33201 (2.58 per sec)', 'time': '2024-11-24T10:55:27.723Z'}]\n",
      "https://mediadive.dsmz.de/medium/65 ( 1 / 40 ) 202  ... LOGY: [{'message': 'Action PcaConfidence computing, steps: 34229 (2.8 per sec)', 'time': '2024-11-24T10:55:32.723Z'}, {'message': 'Action Lift computing, steps: 33215 (2.8 per sec)', 'time': '2024-11-24T10:55:32.724Z'}, {'message': 'Action Support computing, steps: 35252 of 35593, progress: 99.0% (2.8 per sec)', 'time': '2024-11-24T10:55:32.724Z'}]\n",
      "https://mediadive.dsmz.de/medium/65 ( 1 / 40 ) 202  ... LOGY: [{'message': 'Action PcaConfidence computing, steps: 34390 (32.19 per sec)', 'time': '2024-11-24T10:55:52.736Z'}, {'message': 'Action Support computing, steps: 35413 of 35593, progress: 99.0% (32.19 per sec)', 'time': '2024-11-24T10:55:52.736Z'}, {'message': 'Action Lift computing, steps: 33376 (32.19 per sec)', 'time': '2024-11-24T10:55:52.736Z'}, {'message': 'Action Support computing, steps: 35424 of 35593, progress: 99.0% (2.2 per sec)', 'time': '2024-11-24T10:55:57.737Z'}, {'message': 'Action PcaConfidence computing, steps: 34401 (2.2 per sec)', 'time': '2024-11-24T10:55:57.737Z'}, {'message': 'Action Lift computing, steps: 33387 (2.2 per sec)', 'time': '2024-11-24T10:55:57.737Z'}]\n",
      "https://mediadive.dsmz.de/medium/65 ( 1 / 40 ) 202  ... LOGY: [{'message': 'Action Support computing, steps: 35490 of 35593, progress: 99.0% (13.19 per sec)', 'time': '2024-11-24T10:56:07.739Z'}, {'message': 'Action PcaConfidence computing, steps: 34467 (13.2 per sec)', 'time': '2024-11-24T10:56:07.739Z'}, {'message': 'Action Lift computing, steps: 33453 (13.2 per sec)', 'time': '2024-11-24T10:56:07.739Z'}, {'message': 'Action Support computing, steps: 35527 of 35593, progress: 99.0% (7.4 per sec)', 'time': '2024-11-24T10:56:12.739Z'}, {'message': 'Action PcaConfidence computing, steps: 34504 (7.4 per sec)', 'time': '2024-11-24T10:56:12.739Z'}, {'message': 'Action Lift computing, steps: 33490 (7.4 per sec)', 'time': '2024-11-24T10:56:12.739Z'}, {'message': 'Action Support computing, steps: 35593 of 35593, progress: 100.0% -- ended', 'time': '2024-11-24T10:56:13.839Z'}, {'message': 'Action Lift computing, steps: 34475 (196.92 per sec)', 'time': '2024-11-24T10:56:17.740Z'}, {'message': 'Action PcaConfidence computing, steps: 35489 (196.92 per sec)', 'time': '2024-11-24T10:56:17.740Z'}]\n",
      "https://mediadive.dsmz.de/medium/65 ( 1 / 40 ) 202  ... LOGY: [{'message': 'Action Lift computing, steps: 34528 (10.6 per sec)', 'time': '2024-11-24T10:56:22.741Z'}, {'message': 'Action PcaConfidence computing, steps: 35542 (10.6 per sec)', 'time': '2024-11-24T10:56:22.741Z'}, {'message': 'Action PcaConfidence computing, steps: 35545 (0.6 per sec)', 'time': '2024-11-24T10:56:27.742Z'}, {'message': 'Action Lift computing, steps: 34531 (0.6 per sec)', 'time': '2024-11-24T10:56:27.742Z'}]\n",
      "https://mediadive.dsmz.de/medium/65 ( 1 / 40 ) 202  ... LOGY: [{'message': 'Action Lift computing, steps: 34534 (0.59 per sec)', 'time': '2024-11-24T10:56:47.901Z'}, {'message': 'Action PcaConfidence computing, steps: 35548 (0.59 per sec)', 'time': '2024-11-24T10:56:47.901Z'}]\n",
      "https://mediadive.dsmz.de/medium/65 ( 1 / 40 ) 202  ... LOGY: [{'message': 'Action Lift computing, steps: 34559 (5.0 per sec)', 'time': '2024-11-24T10:56:57.901Z'}, {'message': 'Action PcaConfidence computing, steps: 35573 (5.0 per sec)', 'time': '2024-11-24T10:56:57.901Z'}, {'message': 'Action PcaConfidence computing, steps: 35593 -- ended', 'time': '2024-11-24T10:56:59.388Z'}, {'message': 'Action Lift computing, steps: 35593 -- ended', 'time': '2024-11-24T10:56:59.392Z'}, {'message': 'Action Predicted rules, steps: 0 of 35593, progress: 0.0% -- started', 'time': '2024-11-24T10:56:59.925Z'}, {'message': 'Action Predicted rules, steps: 5829 of 35593, progress: 16.0% (1165.57 per sec)', 'time': '2024-11-24T10:57:04.925Z'}]\n",
      "https://mediadive.dsmz.de/medium/65 ( 1 / 40 ) 202  ... LOGY: [{'message': 'Action Predicted rules, steps: 12228 of 35593, progress: 34.0% (1279.54 per sec)', 'time': '2024-11-24T10:57:09.925Z'}, {'message': 'Action Predicted rules, steps: 14684 of 35593, progress: 41.0% (410.57 per sec)', 'time': '2024-11-24T10:57:15.906Z'}]\n",
      "https://mediadive.dsmz.de/medium/65 ( 1 / 40 ) 202  ... LOGY: [{'message': 'Action Predicted rules, steps: 16736 of 35593, progress: 47.0% (410.32 per sec)', 'time': '2024-11-24T10:57:20.906Z'}, {'message': 'Action Predicted rules, steps: 18369 of 35593, progress: 51.0% (326.53 per sec)', 'time': '2024-11-24T10:57:25.907Z'}, {'message': 'Action Predicted rules, steps: 19814 of 35593, progress: 55.0% (288.94 per sec)', 'time': '2024-11-24T10:57:30.907Z'}, {'message': 'Action Predicted rules, steps: 21164 of 35593, progress: 59.0% (269.95 per sec)', 'time': '2024-11-24T10:57:35.907Z'}]\n",
      "https://mediadive.dsmz.de/medium/65 ( 1 / 40 ) 202  ... LOGY: [{'message': 'Action Predicted rules, steps: 22153 of 35593, progress: 62.0% (197.76 per sec)', 'time': '2024-11-24T10:57:40.907Z'}, {'message': 'Action Predicted rules, steps: 23517 of 35593, progress: 66.0% (272.75 per sec)', 'time': '2024-11-24T10:57:45.908Z'}, {'message': 'Action Predicted rules, steps: 24055 of 35593, progress: 67.0% (107.58 per sec)', 'time': '2024-11-24T10:57:50.908Z'}]\n",
      "https://mediadive.dsmz.de/medium/65 ( 1 / 40 ) 202  ... LOGY: [{'message': 'Action Predicted rules, steps: 24245 of 35593, progress: 68.0% (37.99 per sec)', 'time': '2024-11-24T10:57:55.908Z'}, {'message': 'Action Predicted rules, steps: 24372 of 35593, progress: 68.0% (25.39 per sec)', 'time': '2024-11-24T10:58:00.909Z'}, {'message': 'Action Predicted rules, steps: 24477 of 35593, progress: 68.0% (21.0 per sec)', 'time': '2024-11-24T10:58:05.910Z'}]\n"
     ]
    },
    {
     "ename": "KeyboardInterrupt",
     "evalue": "",
     "output_type": "error",
     "traceback": [
      "\u001b[1;31m---------------------------------------------------------------------------\u001b[0m",
      "\u001b[1;31mKeyboardInterrupt\u001b[0m                         Traceback (most recent call last)",
      "Cell \u001b[1;32mIn[14], line 36\u001b[0m\n\u001b[0;32m     34\u001b[0m     r \u001b[38;5;241m=\u001b[39m requests\u001b[38;5;241m.\u001b[39mget(getURL)\n\u001b[0;32m     35\u001b[0m     \u001b[38;5;28mprint\u001b[39m(row, \u001b[38;5;124m\"\u001b[39m\u001b[38;5;124m(\u001b[39m\u001b[38;5;124m\"\u001b[39m, row_id, \u001b[38;5;124m\"\u001b[39m\u001b[38;5;124m/\u001b[39m\u001b[38;5;124m\"\u001b[39m, \u001b[38;5;28mlen\u001b[39m(top40), \u001b[38;5;124m\"\u001b[39m\u001b[38;5;124m)\u001b[39m\u001b[38;5;124m\"\u001b[39m, r\u001b[38;5;241m.\u001b[39mstatus_code,\u001b[38;5;124m\"\u001b[39m\u001b[38;5;124m ... LOGY:\u001b[39m\u001b[38;5;124m\"\u001b[39m, r\u001b[38;5;241m.\u001b[39mjson()[\u001b[38;5;124m'\u001b[39m\u001b[38;5;124mlogs\u001b[39m\u001b[38;5;124m'\u001b[39m])\n\u001b[1;32m---> 36\u001b[0m     \u001b[43mtime\u001b[49m\u001b[38;5;241;43m.\u001b[39;49m\u001b[43msleep\u001b[49m\u001b[43m(\u001b[49m\u001b[38;5;241;43m15\u001b[39;49m\u001b[43m)\u001b[49m\n\u001b[0;32m     37\u001b[0m \u001b[38;5;28;01melse\u001b[39;00m:\n\u001b[0;32m     38\u001b[0m     \u001b[38;5;28;01mif\u001b[39;00m r\u001b[38;5;241m.\u001b[39mstatus_code \u001b[38;5;241m==\u001b[39m \u001b[38;5;241m200\u001b[39m:\n",
      "\u001b[1;31mKeyboardInterrupt\u001b[0m: "
     ]
    }
   ],
   "source": [
    "row_id = 0\n",
    "\n",
    "for row in top40:\n",
    "    row_id+=1\n",
    "    support = int(top40[row]*0.03)\n",
    "\n",
    "    bodyTemplate[1][\"parameters\"][\"patterns\"][0][\"head\"][\"object\"][\"value\"] = \"<\"+row+\">\"\n",
    "    bodyTemplate[1][\"parameters\"][\"thresholds\"][0][\"value\"] = support\n",
    "    bodyTemplate[2][\"parameters\"][\"min\"] = support\n",
    "    bodyTemplate[3][\"parameters\"][\"path\"] = '/kg-microbe/'+row.split(\"medium/\")[1]+'.ndjson'\n",
    "\n",
    "    URL = \"https://precog.vse.cz/rdfrules/api/task\"\n",
    "\n",
    "    body = bodyTemplate\n",
    "\n",
    "    r = requests.post(url = URL, json = body)\n",
    "\n",
    "    data = r.json()\n",
    "\n",
    "    id = data['id']\n",
    "    print(\"Odeslal se pozadavek na nalezeni pravidel k mediu \", row, \", task id je \", id, \"support je \", support)\n",
    "    print(bodyTemplate)\n",
    "\n",
    "    \n",
    "    #get requests\n",
    "    getURL = \"https://precog.vse.cz/rdfrules/api/task/\"+id\n",
    "\n",
    "\n",
    "    r = requests.get(getURL)\n",
    "\n",
    "    time.sleep(15)\n",
    "\n",
    "    while r.status_code == 202:\n",
    "        r = requests.get(getURL)\n",
    "        print(row, \"(\", row_id, \"/\", len(top40), \")\", r.status_code,\" ... LOGY:\", r.json()['logs'])\n",
    "        time.sleep(15)\n",
    "    else:\n",
    "        if r.status_code == 200:\n",
    "            print(\"\\n Pravidla nalezena k mediu \", row, \"(\", row_id, \"/\", len(top40), \")\", \"\\n\")\n",
    "        elif r.status_code != 202 and r.status_code != 200:\n",
    "            print(\"\\n v mediu \", row, \" task \", id, \" nastala chyba \", r.status_code, \"\\n\")\n",
    "\n",
    "\n",
    "\n"
   ]
  },
  {
   "cell_type": "code",
   "execution_count": null,
   "metadata": {},
   "outputs": [],
   "source": []
  }
 ],
 "metadata": {
  "kernelspec": {
   "display_name": "pyth12",
   "language": "python",
   "name": "python3"
  },
  "language_info": {
   "codemirror_mode": {
    "name": "ipython",
    "version": 3
   },
   "file_extension": ".py",
   "mimetype": "text/x-python",
   "name": "python",
   "nbconvert_exporter": "python",
   "pygments_lexer": "ipython3",
   "version": "3.12.3"
  }
 },
 "nbformat": 4,
 "nbformat_minor": 2
}
