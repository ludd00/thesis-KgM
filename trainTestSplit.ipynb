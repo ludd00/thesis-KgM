{
 "cells": [
  {
   "cell_type": "code",
   "execution_count": 1,
   "metadata": {},
   "outputs": [],
   "source": [
    "#!pip install rdflib\n",
    "import rdflib\n",
    "from rdflib import Graph\n",
    "import pandas as pd\n",
    "import copy\n",
    "import json\n",
    "import urllib.parse"
   ]
  },
  {
   "cell_type": "code",
   "execution_count": null,
   "metadata": {},
   "outputs": [],
   "source": [
    "g = Graph()\n",
    "g.parse(\"../FINAL/kg-microbe_wo_dupes.ttl\")"
   ]
  },
  {
   "cell_type": "code",
   "execution_count": 4,
   "metadata": {},
   "outputs": [
    {
     "name": "stdout",
     "output_type": "stream",
     "text": [
      "6827261\n"
     ]
    }
   ],
   "source": [
    "print(len(g))"
   ]
  },
  {
   "cell_type": "code",
   "execution_count": 5,
   "metadata": {},
   "outputs": [
    {
     "name": "stdout",
     "output_type": "stream",
     "text": [
      "sub: http://purl.obolibrary.org/obo/NCBITaxon_432608 pred: https://w3id.org/biolink/vocab/synonym obj: Candidatus Mycoplasma haemobos\n",
      "sub: urn:unknown:strain%3ACIP-52.72 pred: http://www.w3.org/1999/02/22-rdf-syntax-ns#type obj: https://w3id.org/biolink/vocab/OrganismTaxon\n",
      "sub: http://purl.obolibrary.org/obo/NCBITaxon_1543864 pred: http://purl.org/dc/terms/identifier obj: http://purl.obolibrary.org/obo/NCBITaxon_1543864\n",
      "sub: http://purl.obolibrary.org/obo/CHEBI_112369 pred: https://w3id.org/biolink/vocab/subclass_of obj: http://purl.obolibrary.org/obo/CHEBI_51681\n",
      "sub: http://purl.obolibrary.org/obo/CHEBI_143237 pred: https://w3id.org/biolink/vocab/subclass_of obj: http://purl.obolibrary.org/obo/CHEBI_37919\n",
      "sub: http://purl.obolibrary.org/obo/NCBITaxon_566547 pred: https://w3id.org/biolink/vocab/location_of obj: urn:unknown:isolation_source%3Ahost_animal_endotherm_intratissue\n",
      "sub: https://www.rhea-db.org/rhea/20282 pred: https://w3id.org/biolink/vocab/has_input obj: http://purl.obolibrary.org/obo/CHEBI_58339\n",
      "sub: urn:unknown:medium%3A1419 pred: https://w3id.org/biolink/vocab/has_part obj: urn:unknown:CAS-RN%3A51142-18-8\n",
      "sub: http://purl.obolibrary.org/obo/NCBITaxon_1068608 pred: https://w3id.org/biolink/vocab/subclass_of obj: http://purl.obolibrary.org/obo/NCBITaxon_562\n",
      "sub: http://purl.obolibrary.org/obo/NCBITaxon_1225314 pred: https://w3id.org/biolink/vocab/subclass_of obj: http://purl.obolibrary.org/obo/NCBITaxon_2649073\n"
     ]
    }
   ],
   "source": [
    "q = \"\"\"\n",
    "SELECT ?s ?p ?o\n",
    "{\n",
    "    ?s ?p ?o\n",
    "}\n",
    "LIMIT 10\n",
    "\"\"\"\n",
    "\n",
    "gq = g.query(q)\n",
    "\n",
    "for row in gq:\n",
    "    print(f\"sub: {row.s} pred: {row.p} obj: {row.o}\")"
   ]
  },
  {
   "cell_type": "code",
   "execution_count": 10,
   "metadata": {},
   "outputs": [
    {
     "data": {
      "text/html": [
       "<div>\n",
       "<style scoped>\n",
       "    .dataframe tbody tr th:only-of-type {\n",
       "        vertical-align: middle;\n",
       "    }\n",
       "\n",
       "    .dataframe tbody tr th {\n",
       "        vertical-align: top;\n",
       "    }\n",
       "\n",
       "    .dataframe thead th {\n",
       "        text-align: right;\n",
       "    }\n",
       "</style>\n",
       "<table border=\"1\" class=\"dataframe\">\n",
       "  <thead>\n",
       "    <tr style=\"text-align: right;\">\n",
       "      <th></th>\n",
       "      <th>subject</th>\n",
       "      <th>CHEBI:100147</th>\n",
       "      <th>CHEBI:12931</th>\n",
       "      <th>CHEBI:12936</th>\n",
       "      <th>CHEBI:132943</th>\n",
       "      <th>CHEBI:132950</th>\n",
       "      <th>CHEBI:133748</th>\n",
       "      <th>CHEBI:13705</th>\n",
       "      <th>CHEBI:143136</th>\n",
       "      <th>CHEBI:14314</th>\n",
       "      <th>...</th>\n",
       "      <th>temp_range:very_low</th>\n",
       "      <th>temperature:mesophilic</th>\n",
       "      <th>temperature:psychrophilic</th>\n",
       "      <th>temperature:thermophilic</th>\n",
       "      <th>trophic_type:chemoheterotrophy</th>\n",
       "      <th>trophic_type:chemoorganoheterotrophy</th>\n",
       "      <th>trophic_type:chemoorganotrophy</th>\n",
       "      <th>trophic_type:chemotrophy</th>\n",
       "      <th>trophic_type:heterotrophy</th>\n",
       "      <th>trophic_type:organotrophy</th>\n",
       "    </tr>\n",
       "  </thead>\n",
       "  <tbody>\n",
       "    <tr>\n",
       "      <th>0</th>\n",
       "      <td>NCBITaxon:1122600</td>\n",
       "      <td>0</td>\n",
       "      <td>0</td>\n",
       "      <td>0</td>\n",
       "      <td>0</td>\n",
       "      <td>0</td>\n",
       "      <td>0</td>\n",
       "      <td>0</td>\n",
       "      <td>0</td>\n",
       "      <td>0</td>\n",
       "      <td>...</td>\n",
       "      <td>0</td>\n",
       "      <td>1</td>\n",
       "      <td>0</td>\n",
       "      <td>0</td>\n",
       "      <td>0</td>\n",
       "      <td>0</td>\n",
       "      <td>0</td>\n",
       "      <td>0</td>\n",
       "      <td>0</td>\n",
       "      <td>0</td>\n",
       "    </tr>\n",
       "    <tr>\n",
       "      <th>1</th>\n",
       "      <td>NCBITaxon:684552</td>\n",
       "      <td>0</td>\n",
       "      <td>0</td>\n",
       "      <td>0</td>\n",
       "      <td>0</td>\n",
       "      <td>0</td>\n",
       "      <td>0</td>\n",
       "      <td>0</td>\n",
       "      <td>0</td>\n",
       "      <td>0</td>\n",
       "      <td>...</td>\n",
       "      <td>0</td>\n",
       "      <td>1</td>\n",
       "      <td>0</td>\n",
       "      <td>0</td>\n",
       "      <td>0</td>\n",
       "      <td>0</td>\n",
       "      <td>0</td>\n",
       "      <td>0</td>\n",
       "      <td>0</td>\n",
       "      <td>0</td>\n",
       "    </tr>\n",
       "    <tr>\n",
       "      <th>2</th>\n",
       "      <td>NCBITaxon:452922</td>\n",
       "      <td>0</td>\n",
       "      <td>0</td>\n",
       "      <td>0</td>\n",
       "      <td>0</td>\n",
       "      <td>0</td>\n",
       "      <td>0</td>\n",
       "      <td>0</td>\n",
       "      <td>0</td>\n",
       "      <td>0</td>\n",
       "      <td>...</td>\n",
       "      <td>1</td>\n",
       "      <td>1</td>\n",
       "      <td>0</td>\n",
       "      <td>0</td>\n",
       "      <td>0</td>\n",
       "      <td>0</td>\n",
       "      <td>0</td>\n",
       "      <td>0</td>\n",
       "      <td>0</td>\n",
       "      <td>0</td>\n",
       "    </tr>\n",
       "    <tr>\n",
       "      <th>3</th>\n",
       "      <td>NCBITaxon:447421</td>\n",
       "      <td>0</td>\n",
       "      <td>0</td>\n",
       "      <td>0</td>\n",
       "      <td>0</td>\n",
       "      <td>0</td>\n",
       "      <td>0</td>\n",
       "      <td>0</td>\n",
       "      <td>0</td>\n",
       "      <td>0</td>\n",
       "      <td>...</td>\n",
       "      <td>0</td>\n",
       "      <td>1</td>\n",
       "      <td>0</td>\n",
       "      <td>0</td>\n",
       "      <td>0</td>\n",
       "      <td>0</td>\n",
       "      <td>0</td>\n",
       "      <td>0</td>\n",
       "      <td>0</td>\n",
       "      <td>0</td>\n",
       "    </tr>\n",
       "    <tr>\n",
       "      <th>4</th>\n",
       "      <td>NCBITaxon:273384</td>\n",
       "      <td>0</td>\n",
       "      <td>0</td>\n",
       "      <td>0</td>\n",
       "      <td>0</td>\n",
       "      <td>0</td>\n",
       "      <td>0</td>\n",
       "      <td>0</td>\n",
       "      <td>0</td>\n",
       "      <td>0</td>\n",
       "      <td>...</td>\n",
       "      <td>0</td>\n",
       "      <td>1</td>\n",
       "      <td>0</td>\n",
       "      <td>0</td>\n",
       "      <td>0</td>\n",
       "      <td>0</td>\n",
       "      <td>0</td>\n",
       "      <td>0</td>\n",
       "      <td>0</td>\n",
       "      <td>0</td>\n",
       "    </tr>\n",
       "    <tr>\n",
       "      <th>...</th>\n",
       "      <td>...</td>\n",
       "      <td>...</td>\n",
       "      <td>...</td>\n",
       "      <td>...</td>\n",
       "      <td>...</td>\n",
       "      <td>...</td>\n",
       "      <td>...</td>\n",
       "      <td>...</td>\n",
       "      <td>...</td>\n",
       "      <td>...</td>\n",
       "      <td>...</td>\n",
       "      <td>...</td>\n",
       "      <td>...</td>\n",
       "      <td>...</td>\n",
       "      <td>...</td>\n",
       "      <td>...</td>\n",
       "      <td>...</td>\n",
       "      <td>...</td>\n",
       "      <td>...</td>\n",
       "      <td>...</td>\n",
       "      <td>...</td>\n",
       "    </tr>\n",
       "    <tr>\n",
       "      <th>1226</th>\n",
       "      <td>NCBITaxon:1465756</td>\n",
       "      <td>0</td>\n",
       "      <td>0</td>\n",
       "      <td>0</td>\n",
       "      <td>0</td>\n",
       "      <td>0</td>\n",
       "      <td>0</td>\n",
       "      <td>0</td>\n",
       "      <td>0</td>\n",
       "      <td>0</td>\n",
       "      <td>...</td>\n",
       "      <td>0</td>\n",
       "      <td>1</td>\n",
       "      <td>0</td>\n",
       "      <td>0</td>\n",
       "      <td>0</td>\n",
       "      <td>0</td>\n",
       "      <td>0</td>\n",
       "      <td>0</td>\n",
       "      <td>0</td>\n",
       "      <td>0</td>\n",
       "    </tr>\n",
       "    <tr>\n",
       "      <th>1227</th>\n",
       "      <td>NCBITaxon:872983</td>\n",
       "      <td>0</td>\n",
       "      <td>0</td>\n",
       "      <td>0</td>\n",
       "      <td>0</td>\n",
       "      <td>0</td>\n",
       "      <td>0</td>\n",
       "      <td>0</td>\n",
       "      <td>0</td>\n",
       "      <td>0</td>\n",
       "      <td>...</td>\n",
       "      <td>0</td>\n",
       "      <td>1</td>\n",
       "      <td>0</td>\n",
       "      <td>0</td>\n",
       "      <td>0</td>\n",
       "      <td>0</td>\n",
       "      <td>0</td>\n",
       "      <td>0</td>\n",
       "      <td>0</td>\n",
       "      <td>0</td>\n",
       "    </tr>\n",
       "    <tr>\n",
       "      <th>1228</th>\n",
       "      <td>NCBITaxon:184924</td>\n",
       "      <td>0</td>\n",
       "      <td>0</td>\n",
       "      <td>0</td>\n",
       "      <td>0</td>\n",
       "      <td>0</td>\n",
       "      <td>0</td>\n",
       "      <td>0</td>\n",
       "      <td>0</td>\n",
       "      <td>0</td>\n",
       "      <td>...</td>\n",
       "      <td>0</td>\n",
       "      <td>1</td>\n",
       "      <td>0</td>\n",
       "      <td>0</td>\n",
       "      <td>0</td>\n",
       "      <td>0</td>\n",
       "      <td>0</td>\n",
       "      <td>0</td>\n",
       "      <td>0</td>\n",
       "      <td>0</td>\n",
       "    </tr>\n",
       "    <tr>\n",
       "      <th>1229</th>\n",
       "      <td>NCBITaxon:1223526</td>\n",
       "      <td>0</td>\n",
       "      <td>0</td>\n",
       "      <td>0</td>\n",
       "      <td>0</td>\n",
       "      <td>0</td>\n",
       "      <td>0</td>\n",
       "      <td>0</td>\n",
       "      <td>0</td>\n",
       "      <td>0</td>\n",
       "      <td>...</td>\n",
       "      <td>0</td>\n",
       "      <td>1</td>\n",
       "      <td>0</td>\n",
       "      <td>0</td>\n",
       "      <td>0</td>\n",
       "      <td>0</td>\n",
       "      <td>0</td>\n",
       "      <td>0</td>\n",
       "      <td>0</td>\n",
       "      <td>0</td>\n",
       "    </tr>\n",
       "    <tr>\n",
       "      <th>1230</th>\n",
       "      <td>NCBITaxon:221126</td>\n",
       "      <td>0</td>\n",
       "      <td>0</td>\n",
       "      <td>0</td>\n",
       "      <td>0</td>\n",
       "      <td>0</td>\n",
       "      <td>0</td>\n",
       "      <td>0</td>\n",
       "      <td>0</td>\n",
       "      <td>0</td>\n",
       "      <td>...</td>\n",
       "      <td>1</td>\n",
       "      <td>1</td>\n",
       "      <td>0</td>\n",
       "      <td>0</td>\n",
       "      <td>0</td>\n",
       "      <td>0</td>\n",
       "      <td>0</td>\n",
       "      <td>0</td>\n",
       "      <td>0</td>\n",
       "      <td>0</td>\n",
       "    </tr>\n",
       "  </tbody>\n",
       "</table>\n",
       "<p>1231 rows × 569 columns</p>\n",
       "</div>"
      ],
      "text/plain": [
       "                subject  CHEBI:100147  CHEBI:12931  CHEBI:12936  CHEBI:132943  \\\n",
       "0     NCBITaxon:1122600             0            0            0             0   \n",
       "1      NCBITaxon:684552             0            0            0             0   \n",
       "2      NCBITaxon:452922             0            0            0             0   \n",
       "3      NCBITaxon:447421             0            0            0             0   \n",
       "4      NCBITaxon:273384             0            0            0             0   \n",
       "...                 ...           ...          ...          ...           ...   \n",
       "1226  NCBITaxon:1465756             0            0            0             0   \n",
       "1227   NCBITaxon:872983             0            0            0             0   \n",
       "1228   NCBITaxon:184924             0            0            0             0   \n",
       "1229  NCBITaxon:1223526             0            0            0             0   \n",
       "1230   NCBITaxon:221126             0            0            0             0   \n",
       "\n",
       "      CHEBI:132950  CHEBI:133748  CHEBI:13705  CHEBI:143136  CHEBI:14314  ...  \\\n",
       "0                0             0            0             0            0  ...   \n",
       "1                0             0            0             0            0  ...   \n",
       "2                0             0            0             0            0  ...   \n",
       "3                0             0            0             0            0  ...   \n",
       "4                0             0            0             0            0  ...   \n",
       "...            ...           ...          ...           ...          ...  ...   \n",
       "1226             0             0            0             0            0  ...   \n",
       "1227             0             0            0             0            0  ...   \n",
       "1228             0             0            0             0            0  ...   \n",
       "1229             0             0            0             0            0  ...   \n",
       "1230             0             0            0             0            0  ...   \n",
       "\n",
       "      temp_range:very_low  temperature:mesophilic  temperature:psychrophilic  \\\n",
       "0                       0                       1                          0   \n",
       "1                       0                       1                          0   \n",
       "2                       1                       1                          0   \n",
       "3                       0                       1                          0   \n",
       "4                       0                       1                          0   \n",
       "...                   ...                     ...                        ...   \n",
       "1226                    0                       1                          0   \n",
       "1227                    0                       1                          0   \n",
       "1228                    0                       1                          0   \n",
       "1229                    0                       1                          0   \n",
       "1230                    1                       1                          0   \n",
       "\n",
       "      temperature:thermophilic  trophic_type:chemoheterotrophy  \\\n",
       "0                            0                               0   \n",
       "1                            0                               0   \n",
       "2                            0                               0   \n",
       "3                            0                               0   \n",
       "4                            0                               0   \n",
       "...                        ...                             ...   \n",
       "1226                         0                               0   \n",
       "1227                         0                               0   \n",
       "1228                         0                               0   \n",
       "1229                         0                               0   \n",
       "1230                         0                               0   \n",
       "\n",
       "      trophic_type:chemoorganoheterotrophy  trophic_type:chemoorganotrophy  \\\n",
       "0                                        0                               0   \n",
       "1                                        0                               0   \n",
       "2                                        0                               0   \n",
       "3                                        0                               0   \n",
       "4                                        0                               0   \n",
       "...                                    ...                             ...   \n",
       "1226                                     0                               0   \n",
       "1227                                     0                               0   \n",
       "1228                                     0                               0   \n",
       "1229                                     0                               0   \n",
       "1230                                     0                               0   \n",
       "\n",
       "      trophic_type:chemotrophy  trophic_type:heterotrophy  \\\n",
       "0                            0                          0   \n",
       "1                            0                          0   \n",
       "2                            0                          0   \n",
       "3                            0                          0   \n",
       "4                            0                          0   \n",
       "...                        ...                        ...   \n",
       "1226                         0                          0   \n",
       "1227                         0                          0   \n",
       "1228                         0                          0   \n",
       "1229                         0                          0   \n",
       "1230                         0                          0   \n",
       "\n",
       "      trophic_type:organotrophy  \n",
       "0                             0  \n",
       "1                             0  \n",
       "2                             0  \n",
       "3                             0  \n",
       "4                             0  \n",
       "...                         ...  \n",
       "1226                          0  \n",
       "1227                          0  \n",
       "1228                          0  \n",
       "1229                          0  \n",
       "1230                          0  \n",
       "\n",
       "[1231 rows x 569 columns]"
      ]
     },
     "execution_count": 10,
     "metadata": {},
     "output_type": "execute_result"
    }
   ],
   "source": [
    "df = pd.read_csv(\"C:/Users/Dominika/Documents/SKOLA/ING/DIPLOMKA/output/test_data.tsv\", delimiter = \"\\t\")\n",
    "df"
   ]
  },
  {
   "cell_type": "code",
   "execution_count": 15,
   "metadata": {},
   "outputs": [],
   "source": [
    "pairs = []\n",
    "for i in range(len(df)): \n",
    "    for j in range (1, len(df.columns)):\n",
    "        if df.iloc[i, j] == 1:\n",
    "            sub = df.iloc[i, 0]\n",
    "            val = df.columns[j] \n",
    "            pairs.append([sub, val])"
   ]
  },
  {
   "cell_type": "code",
   "execution_count": 16,
   "metadata": {},
   "outputs": [
    {
     "data": {
      "text/plain": [
       "28116"
      ]
     },
     "execution_count": 16,
     "metadata": {},
     "output_type": "execute_result"
    }
   ],
   "source": [
    "len(pairs)"
   ]
  },
  {
   "cell_type": "code",
   "execution_count": 17,
   "metadata": {},
   "outputs": [],
   "source": [
    "taxons = []\n",
    "for i in range(len(df)): \n",
    "    taxons.append(df.iloc[i, 0])"
   ]
  },
  {
   "cell_type": "code",
   "execution_count": 18,
   "metadata": {},
   "outputs": [
    {
     "data": {
      "text/plain": [
       "1231"
      ]
     },
     "execution_count": 18,
     "metadata": {},
     "output_type": "execute_result"
    }
   ],
   "source": [
    "len(taxons)"
   ]
  },
  {
   "cell_type": "code",
   "execution_count": 22,
   "metadata": {},
   "outputs": [
    {
     "data": {
      "text/plain": [
       "1231"
      ]
     },
     "execution_count": 22,
     "metadata": {},
     "output_type": "execute_result"
    }
   ],
   "source": [
    "\n",
    "bioregistry_prefixes = {}\n",
    "f = open(\"C:/Users/Dominika/Documents/SKOLA/ING/DIPLOMKA/registry.json\")\n",
    "data = json.load(f)\n",
    "for entity in data.values():\n",
    "    bioregistry_prefixes[entity[\"prefix\"]] = {\"name\": entity[\"name\"], \"uri_format\": entity[\"uri_format\"]}\n",
    "f.close()\n",
    "del data\n",
    "\n",
    "\n",
    "\n",
    "def extract_uri(id: str):\n",
    "    uri_parts = id.split(\":\", 1)\n",
    "    if len(uri_parts) == 1:\n",
    "        encoded_id = urllib.parse.quote(id, safe=\"\")\n",
    "        return f\"urn:unknown:{encoded_id}\"\n",
    "    elif len(uri_parts) > 1:\n",
    "        prefix = uri_parts[0].lower()\n",
    "        def_prefix = bioregistry_prefixes.get(prefix)\n",
    "        if def_prefix is None:\n",
    "            encoded_id = urllib.parse.quote(id, safe=\"\")\n",
    "            return f\"urn:unknown:{encoded_id}\"\n",
    "        else:\n",
    "            uf = def_prefix[\"uri_format\"]  # type: str\n",
    "            if uf is None or \"$1\" not in uf:\n",
    "                return f\"https://bioregistry.io/{prefix}:{uri_parts[1]}\"\n",
    "            else:\n",
    "                return uf.replace(\"$1\", uri_parts[1])\n",
    "    return None\n",
    "\n",
    "\n",
    "taxons_prefixed = []\n",
    "for row in taxons:\n",
    "    uri_1 = extract_uri(row)\n",
    "    taxons_prefixed.append(uri_1)\n",
    "\n",
    "len(taxons_prefixed)"
   ]
  },
  {
   "cell_type": "code",
   "execution_count": 23,
   "metadata": {},
   "outputs": [
    {
     "name": "stdout",
     "output_type": "stream",
     "text": [
      "39049\n",
      "50703\n"
     ]
    }
   ],
   "source": [
    "query = \"\"\"\n",
    "SELECT ?s ?p ?o\n",
    "WHERE {\n",
    "  ?s ?p ?o .\n",
    "}\n",
    "\"\"\"\n",
    "new_graph = Graph()\n",
    "\n",
    "for row in taxons_prefixed:\n",
    "    subjectitos = rdflib.term.URIRef(row)\n",
    "    filtered_gq = g.query(query, initBindings = {\n",
    "        \"s\": subjectitos\n",
    "    })\n",
    "    new_graph += filtered_gq\n",
    "\n",
    "print(len(new_graph))\n",
    "\n",
    "query = \"\"\"\n",
    "SELECT ?s ?p ?o\n",
    "WHERE {\n",
    "  ?s ?p ?o .\n",
    "}\n",
    "\"\"\"\n",
    "\n",
    "for row in taxons_prefixed:\n",
    "    objectitos = rdflib.term.URIRef(row)\n",
    "    filtered_gq = g.query(query, initBindings = {\n",
    "        \"o\": objectitos\n",
    "    })\n",
    "    new_graph += filtered_gq\n",
    "\n",
    "print(len(new_graph))"
   ]
  },
  {
   "cell_type": "code",
   "execution_count": 24,
   "metadata": {},
   "outputs": [
    {
     "data": {
      "text/plain": [
       "50703"
      ]
     },
     "execution_count": 24,
     "metadata": {},
     "output_type": "execute_result"
    }
   ],
   "source": [
    "new_real_graph = Graph()\n",
    "for row in new_graph:\n",
    "    new_real_graph.add(row)\n",
    "\n",
    "len(new_real_graph)"
   ]
  },
  {
   "cell_type": "code",
   "execution_count": 25,
   "metadata": {},
   "outputs": [],
   "source": [
    "for row in new_real_graph:\n",
    "    g.remove(row)"
   ]
  },
  {
   "cell_type": "code",
   "execution_count": 29,
   "metadata": {},
   "outputs": [
    {
     "data": {
      "text/plain": [
       "1924792"
      ]
     },
     "execution_count": 29,
     "metadata": {},
     "output_type": "execute_result"
    }
   ],
   "source": [
    "len(g)"
   ]
  },
  {
   "cell_type": "code",
   "execution_count": 22,
   "metadata": {},
   "outputs": [
    {
     "data": {
      "text/plain": [
       "<Graph identifier=N12ce4aa801664865a5415eb784c722cb (<class 'rdflib.graph.Graph'>)>"
      ]
     },
     "execution_count": 22,
     "metadata": {},
     "output_type": "execute_result"
    }
   ],
   "source": [
    "g.serialize(destination=\"train_data_from_spaqrl.ttl\")"
   ]
  },
  {
   "cell_type": "code",
   "execution_count": 28,
   "metadata": {},
   "outputs": [
    {
     "ename": "KeyboardInterrupt",
     "evalue": "",
     "output_type": "error",
     "traceback": [
      "\u001b[1;31m---------------------------------------------------------------------------\u001b[0m",
      "\u001b[1;31mKeyboardInterrupt\u001b[0m                         Traceback (most recent call last)",
      "Cell \u001b[1;32mIn[28], line 2\u001b[0m\n\u001b[0;32m      1\u001b[0m g \u001b[38;5;241m=\u001b[39m Graph()\n\u001b[1;32m----> 2\u001b[0m \u001b[43mg\u001b[49m\u001b[38;5;241;43m.\u001b[39;49m\u001b[43mparse\u001b[49m\u001b[43m(\u001b[49m\u001b[38;5;124;43m\"\u001b[39;49m\u001b[38;5;124;43m../FINAL/kg-microbe_wo_dupes.ttl\u001b[39;49m\u001b[38;5;124;43m\"\u001b[39;49m\u001b[43m)\u001b[49m\n",
      "File \u001b[1;32mc:\\Users\\Dominika\\anaconda3\\envs\\pyth12\\Lib\\site-packages\\rdflib\\graph.py:1492\u001b[0m, in \u001b[0;36mGraph.parse\u001b[1;34m(self, source, publicID, format, location, file, data, **args)\u001b[0m\n\u001b[0;32m   1489\u001b[0m parser \u001b[38;5;241m=\u001b[39m plugin\u001b[38;5;241m.\u001b[39mget(\u001b[38;5;28mformat\u001b[39m, Parser)()\n\u001b[0;32m   1490\u001b[0m \u001b[38;5;28;01mtry\u001b[39;00m:\n\u001b[0;32m   1491\u001b[0m     \u001b[38;5;66;03m# TODO FIXME: Parser.parse should have **kwargs argument.\u001b[39;00m\n\u001b[1;32m-> 1492\u001b[0m     \u001b[43mparser\u001b[49m\u001b[38;5;241;43m.\u001b[39;49m\u001b[43mparse\u001b[49m\u001b[43m(\u001b[49m\u001b[43msource\u001b[49m\u001b[43m,\u001b[49m\u001b[43m \u001b[49m\u001b[38;5;28;43mself\u001b[39;49m\u001b[43m,\u001b[49m\u001b[43m \u001b[49m\u001b[38;5;241;43m*\u001b[39;49m\u001b[38;5;241;43m*\u001b[39;49m\u001b[43margs\u001b[49m\u001b[43m)\u001b[49m\n\u001b[0;32m   1493\u001b[0m \u001b[38;5;28;01mexcept\u001b[39;00m \u001b[38;5;167;01mSyntaxError\u001b[39;00m \u001b[38;5;28;01mas\u001b[39;00m se:\n\u001b[0;32m   1494\u001b[0m     \u001b[38;5;28;01mif\u001b[39;00m could_not_guess_format:\n",
      "File \u001b[1;32mc:\\Users\\Dominika\\anaconda3\\envs\\pyth12\\Lib\\site-packages\\rdflib\\plugins\\parsers\\notation3.py:2021\u001b[0m, in \u001b[0;36mTurtleParser.parse\u001b[1;34m(self, source, graph, encoding, turtle)\u001b[0m\n\u001b[0;32m   2019\u001b[0m \u001b[38;5;28;01mif\u001b[39;00m \u001b[38;5;129;01mnot\u001b[39;00m stream:\n\u001b[0;32m   2020\u001b[0m     stream \u001b[38;5;241m=\u001b[39m source\u001b[38;5;241m.\u001b[39mgetByteStream()\n\u001b[1;32m-> 2021\u001b[0m \u001b[43mp\u001b[49m\u001b[38;5;241;43m.\u001b[39;49m\u001b[43mloadStream\u001b[49m\u001b[43m(\u001b[49m\u001b[43mstream\u001b[49m\u001b[43m)\u001b[49m\n\u001b[0;32m   2023\u001b[0m \u001b[38;5;28;01mfor\u001b[39;00m prefix, namespace \u001b[38;5;129;01min\u001b[39;00m p\u001b[38;5;241m.\u001b[39m_bindings\u001b[38;5;241m.\u001b[39mitems():\n\u001b[0;32m   2024\u001b[0m     graph\u001b[38;5;241m.\u001b[39mbind(prefix, namespace)\n",
      "File \u001b[1;32mc:\\Users\\Dominika\\anaconda3\\envs\\pyth12\\Lib\\site-packages\\rdflib\\plugins\\parsers\\notation3.py:479\u001b[0m, in \u001b[0;36mSinkParser.loadStream\u001b[1;34m(self, stream)\u001b[0m\n\u001b[0;32m    478\u001b[0m \u001b[38;5;28;01mdef\u001b[39;00m \u001b[38;5;21mloadStream\u001b[39m(\u001b[38;5;28mself\u001b[39m, stream: Union[IO[\u001b[38;5;28mstr\u001b[39m], IO[\u001b[38;5;28mbytes\u001b[39m]]) \u001b[38;5;241m-\u001b[39m\u001b[38;5;241m>\u001b[39m Optional[\u001b[38;5;124m\"\u001b[39m\u001b[38;5;124mFormula\u001b[39m\u001b[38;5;124m\"\u001b[39m]:\n\u001b[1;32m--> 479\u001b[0m     \u001b[38;5;28;01mreturn\u001b[39;00m \u001b[38;5;28;43mself\u001b[39;49m\u001b[38;5;241;43m.\u001b[39;49m\u001b[43mloadBuf\u001b[49m\u001b[43m(\u001b[49m\u001b[43mstream\u001b[49m\u001b[38;5;241;43m.\u001b[39;49m\u001b[43mread\u001b[49m\u001b[43m(\u001b[49m\u001b[43m)\u001b[49m\u001b[43m)\u001b[49m\n",
      "File \u001b[1;32mc:\\Users\\Dominika\\anaconda3\\envs\\pyth12\\Lib\\site-packages\\rdflib\\plugins\\parsers\\notation3.py:485\u001b[0m, in \u001b[0;36mSinkParser.loadBuf\u001b[1;34m(self, buf)\u001b[0m\n\u001b[0;32m    482\u001b[0m \u001b[38;5;250m\u001b[39m\u001b[38;5;124;03m\"\"\"Parses a buffer and returns its top level formula\"\"\"\u001b[39;00m\n\u001b[0;32m    483\u001b[0m \u001b[38;5;28mself\u001b[39m\u001b[38;5;241m.\u001b[39mstartDoc()\n\u001b[1;32m--> 485\u001b[0m \u001b[38;5;28;43mself\u001b[39;49m\u001b[38;5;241;43m.\u001b[39;49m\u001b[43mfeed\u001b[49m\u001b[43m(\u001b[49m\u001b[43mbuf\u001b[49m\u001b[43m)\u001b[49m\n\u001b[0;32m    486\u001b[0m \u001b[38;5;28;01mreturn\u001b[39;00m \u001b[38;5;28mself\u001b[39m\u001b[38;5;241m.\u001b[39mendDoc()\n",
      "File \u001b[1;32mc:\\Users\\Dominika\\anaconda3\\envs\\pyth12\\Lib\\site-packages\\rdflib\\plugins\\parsers\\notation3.py:511\u001b[0m, in \u001b[0;36mSinkParser.feed\u001b[1;34m(self, octets)\u001b[0m\n\u001b[0;32m    508\u001b[0m \u001b[38;5;28;01mif\u001b[39;00m j \u001b[38;5;241m<\u001b[39m \u001b[38;5;241m0\u001b[39m:\n\u001b[0;32m    509\u001b[0m     \u001b[38;5;28;01mreturn\u001b[39;00m\n\u001b[1;32m--> 511\u001b[0m i \u001b[38;5;241m=\u001b[39m \u001b[38;5;28;43mself\u001b[39;49m\u001b[38;5;241;43m.\u001b[39;49m\u001b[43mdirectiveOrStatement\u001b[49m\u001b[43m(\u001b[49m\u001b[43ms\u001b[49m\u001b[43m,\u001b[49m\u001b[43m \u001b[49m\u001b[43mj\u001b[49m\u001b[43m)\u001b[49m\n\u001b[0;32m    512\u001b[0m \u001b[38;5;28;01mif\u001b[39;00m i \u001b[38;5;241m<\u001b[39m \u001b[38;5;241m0\u001b[39m:\n\u001b[0;32m    513\u001b[0m     \u001b[38;5;66;03m# print(\"# next char: %s\" % s[j])\u001b[39;00m\n\u001b[0;32m    514\u001b[0m     \u001b[38;5;28mself\u001b[39m\u001b[38;5;241m.\u001b[39mBadSyntax(s, j, \u001b[38;5;124m\"\u001b[39m\u001b[38;5;124mexpected directive or statement\u001b[39m\u001b[38;5;124m\"\u001b[39m)\n",
      "File \u001b[1;32mc:\\Users\\Dominika\\anaconda3\\envs\\pyth12\\Lib\\site-packages\\rdflib\\plugins\\parsers\\notation3.py:530\u001b[0m, in \u001b[0;36mSinkParser.directiveOrStatement\u001b[1;34m(self, argstr, h)\u001b[0m\n\u001b[0;32m    527\u001b[0m \u001b[38;5;28;01mif\u001b[39;00m j \u001b[38;5;241m>\u001b[39m\u001b[38;5;241m=\u001b[39m \u001b[38;5;241m0\u001b[39m:\n\u001b[0;32m    528\u001b[0m     \u001b[38;5;28;01mreturn\u001b[39;00m \u001b[38;5;28mself\u001b[39m\u001b[38;5;241m.\u001b[39mcheckDot(argstr, j)\n\u001b[1;32m--> 530\u001b[0m j \u001b[38;5;241m=\u001b[39m \u001b[38;5;28;43mself\u001b[39;49m\u001b[38;5;241;43m.\u001b[39;49m\u001b[43mstatement\u001b[49m\u001b[43m(\u001b[49m\u001b[43margstr\u001b[49m\u001b[43m,\u001b[49m\u001b[43m \u001b[49m\u001b[43mi\u001b[49m\u001b[43m)\u001b[49m\n\u001b[0;32m    531\u001b[0m \u001b[38;5;28;01mif\u001b[39;00m j \u001b[38;5;241m>\u001b[39m\u001b[38;5;241m=\u001b[39m \u001b[38;5;241m0\u001b[39m:\n\u001b[0;32m    532\u001b[0m     \u001b[38;5;28;01mreturn\u001b[39;00m \u001b[38;5;28mself\u001b[39m\u001b[38;5;241m.\u001b[39mcheckDot(argstr, j)\n",
      "File \u001b[1;32mc:\\Users\\Dominika\\anaconda3\\envs\\pyth12\\Lib\\site-packages\\rdflib\\plugins\\parsers\\notation3.py:778\u001b[0m, in \u001b[0;36mSinkParser.statement\u001b[1;34m(self, argstr, i)\u001b[0m\n\u001b[0;32m    775\u001b[0m \u001b[38;5;28;01mif\u001b[39;00m i \u001b[38;5;241m<\u001b[39m \u001b[38;5;241m0\u001b[39m:\n\u001b[0;32m    776\u001b[0m     \u001b[38;5;28;01mreturn\u001b[39;00m i\n\u001b[1;32m--> 778\u001b[0m j \u001b[38;5;241m=\u001b[39m \u001b[38;5;28;43mself\u001b[39;49m\u001b[38;5;241;43m.\u001b[39;49m\u001b[43mproperty_list\u001b[49m\u001b[43m(\u001b[49m\u001b[43margstr\u001b[49m\u001b[43m,\u001b[49m\u001b[43m \u001b[49m\u001b[43mi\u001b[49m\u001b[43m,\u001b[49m\u001b[43m \u001b[49m\u001b[43mr\u001b[49m\u001b[43m[\u001b[49m\u001b[38;5;241;43m0\u001b[39;49m\u001b[43m]\u001b[49m\u001b[43m)\u001b[49m\n\u001b[0;32m    780\u001b[0m \u001b[38;5;28;01mif\u001b[39;00m j \u001b[38;5;241m<\u001b[39m \u001b[38;5;241m0\u001b[39m:\n\u001b[0;32m    781\u001b[0m     \u001b[38;5;28mself\u001b[39m\u001b[38;5;241m.\u001b[39mBadSyntax(argstr, i, \u001b[38;5;124m\"\u001b[39m\u001b[38;5;124mexpected propertylist\u001b[39m\u001b[38;5;124m\"\u001b[39m)\n",
      "File \u001b[1;32mc:\\Users\\Dominika\\anaconda3\\envs\\pyth12\\Lib\\site-packages\\rdflib\\plugins\\parsers\\notation3.py:1140\u001b[0m, in \u001b[0;36mSinkParser.property_list\u001b[1;34m(self, argstr, i, subj)\u001b[0m\n\u001b[0;32m   1137\u001b[0m     \u001b[38;5;28;01mreturn\u001b[39;00m i  \u001b[38;5;66;03m# void but valid\u001b[39;00m\n\u001b[0;32m   1139\u001b[0m objs: typing\u001b[38;5;241m.\u001b[39mList[Any] \u001b[38;5;241m=\u001b[39m []\n\u001b[1;32m-> 1140\u001b[0m i \u001b[38;5;241m=\u001b[39m \u001b[38;5;28;43mself\u001b[39;49m\u001b[38;5;241;43m.\u001b[39;49m\u001b[43mobjectList\u001b[49m\u001b[43m(\u001b[49m\u001b[43margstr\u001b[49m\u001b[43m,\u001b[49m\u001b[43m \u001b[49m\u001b[43mj\u001b[49m\u001b[43m,\u001b[49m\u001b[43m \u001b[49m\u001b[43mobjs\u001b[49m\u001b[43m)\u001b[49m\n\u001b[0;32m   1141\u001b[0m \u001b[38;5;28;01mif\u001b[39;00m i \u001b[38;5;241m<\u001b[39m \u001b[38;5;241m0\u001b[39m:\n\u001b[0;32m   1142\u001b[0m     \u001b[38;5;28mself\u001b[39m\u001b[38;5;241m.\u001b[39mBadSyntax(argstr, j, \u001b[38;5;124m\"\u001b[39m\u001b[38;5;124mobjectList expected\u001b[39m\u001b[38;5;124m\"\u001b[39m)\n",
      "File \u001b[1;32mc:\\Users\\Dominika\\anaconda3\\envs\\pyth12\\Lib\\site-packages\\rdflib\\plugins\\parsers\\notation3.py:1190\u001b[0m, in \u001b[0;36mSinkParser.objectList\u001b[1;34m(self, argstr, i, res)\u001b[0m\n\u001b[0;32m   1189\u001b[0m \u001b[38;5;28;01mdef\u001b[39;00m \u001b[38;5;21mobjectList\u001b[39m(\u001b[38;5;28mself\u001b[39m, argstr: \u001b[38;5;28mstr\u001b[39m, i: \u001b[38;5;28mint\u001b[39m, res: MutableSequence[Any]) \u001b[38;5;241m-\u001b[39m\u001b[38;5;241m>\u001b[39m \u001b[38;5;28mint\u001b[39m:\n\u001b[1;32m-> 1190\u001b[0m     i \u001b[38;5;241m=\u001b[39m \u001b[38;5;28;43mself\u001b[39;49m\u001b[38;5;241;43m.\u001b[39;49m\u001b[43mobject\u001b[49m\u001b[43m(\u001b[49m\u001b[43margstr\u001b[49m\u001b[43m,\u001b[49m\u001b[43m \u001b[49m\u001b[43mi\u001b[49m\u001b[43m,\u001b[49m\u001b[43m \u001b[49m\u001b[43mres\u001b[49m\u001b[43m)\u001b[49m\n\u001b[0;32m   1191\u001b[0m     \u001b[38;5;28;01mif\u001b[39;00m i \u001b[38;5;241m<\u001b[39m \u001b[38;5;241m0\u001b[39m:\n\u001b[0;32m   1192\u001b[0m         \u001b[38;5;28;01mreturn\u001b[39;00m \u001b[38;5;241m-\u001b[39m\u001b[38;5;241m1\u001b[39m\n",
      "File \u001b[1;32mc:\\Users\\Dominika\\anaconda3\\envs\\pyth12\\Lib\\site-packages\\rdflib\\plugins\\parsers\\notation3.py:1487\u001b[0m, in \u001b[0;36mSinkParser.object\u001b[1;34m(self, argstr, i, res)\u001b[0m\n\u001b[0;32m   1481\u001b[0m \u001b[38;5;28;01mdef\u001b[39;00m \u001b[38;5;21mobject\u001b[39m(\n\u001b[0;32m   1482\u001b[0m     \u001b[38;5;28mself\u001b[39m,\n\u001b[0;32m   1483\u001b[0m     argstr: \u001b[38;5;28mstr\u001b[39m,\n\u001b[0;32m   1484\u001b[0m     i: \u001b[38;5;28mint\u001b[39m,\n\u001b[0;32m   1485\u001b[0m     res: MutableSequence[Any],\n\u001b[0;32m   1486\u001b[0m ) \u001b[38;5;241m-\u001b[39m\u001b[38;5;241m>\u001b[39m \u001b[38;5;28mint\u001b[39m:\n\u001b[1;32m-> 1487\u001b[0m     j \u001b[38;5;241m=\u001b[39m \u001b[38;5;28;43mself\u001b[39;49m\u001b[38;5;241;43m.\u001b[39;49m\u001b[43msubject\u001b[49m\u001b[43m(\u001b[49m\u001b[43margstr\u001b[49m\u001b[43m,\u001b[49m\u001b[43m \u001b[49m\u001b[43mi\u001b[49m\u001b[43m,\u001b[49m\u001b[43m \u001b[49m\u001b[43mres\u001b[49m\u001b[43m)\u001b[49m\n\u001b[0;32m   1488\u001b[0m     \u001b[38;5;28;01mif\u001b[39;00m j \u001b[38;5;241m>\u001b[39m\u001b[38;5;241m=\u001b[39m \u001b[38;5;241m0\u001b[39m:\n\u001b[0;32m   1489\u001b[0m         \u001b[38;5;28;01mreturn\u001b[39;00m j\n",
      "File \u001b[1;32mc:\\Users\\Dominika\\anaconda3\\envs\\pyth12\\Lib\\site-packages\\rdflib\\plugins\\parsers\\notation3.py:785\u001b[0m, in \u001b[0;36mSinkParser.subject\u001b[1;34m(self, argstr, i, res)\u001b[0m\n\u001b[0;32m    784\u001b[0m \u001b[38;5;28;01mdef\u001b[39;00m \u001b[38;5;21msubject\u001b[39m(\u001b[38;5;28mself\u001b[39m, argstr: \u001b[38;5;28mstr\u001b[39m, i: \u001b[38;5;28mint\u001b[39m, res: MutableSequence[Any]) \u001b[38;5;241m-\u001b[39m\u001b[38;5;241m>\u001b[39m \u001b[38;5;28mint\u001b[39m:\n\u001b[1;32m--> 785\u001b[0m     \u001b[38;5;28;01mreturn\u001b[39;00m \u001b[38;5;28;43mself\u001b[39;49m\u001b[38;5;241;43m.\u001b[39;49m\u001b[43mitem\u001b[49m\u001b[43m(\u001b[49m\u001b[43margstr\u001b[49m\u001b[43m,\u001b[49m\u001b[43m \u001b[49m\u001b[43mi\u001b[49m\u001b[43m,\u001b[49m\u001b[43m \u001b[49m\u001b[43mres\u001b[49m\u001b[43m)\u001b[49m\n",
      "File \u001b[1;32mc:\\Users\\Dominika\\anaconda3\\envs\\pyth12\\Lib\\site-packages\\rdflib\\plugins\\parsers\\notation3.py:877\u001b[0m, in \u001b[0;36mSinkParser.item\u001b[1;34m(self, argstr, i, res)\u001b[0m\n\u001b[0;32m    876\u001b[0m \u001b[38;5;28;01mdef\u001b[39;00m \u001b[38;5;21mitem\u001b[39m(\u001b[38;5;28mself\u001b[39m, argstr: \u001b[38;5;28mstr\u001b[39m, i, res: MutableSequence[Any]) \u001b[38;5;241m-\u001b[39m\u001b[38;5;241m>\u001b[39m \u001b[38;5;28mint\u001b[39m:\n\u001b[1;32m--> 877\u001b[0m     \u001b[38;5;28;01mreturn\u001b[39;00m \u001b[38;5;28;43mself\u001b[39;49m\u001b[38;5;241;43m.\u001b[39;49m\u001b[43mpath\u001b[49m\u001b[43m(\u001b[49m\u001b[43margstr\u001b[49m\u001b[43m,\u001b[49m\u001b[43m \u001b[49m\u001b[43mi\u001b[49m\u001b[43m,\u001b[49m\u001b[43m \u001b[49m\u001b[43mres\u001b[49m\u001b[43m)\u001b[49m\n",
      "File \u001b[1;32mc:\\Users\\Dominika\\anaconda3\\envs\\pyth12\\Lib\\site-packages\\rdflib\\plugins\\parsers\\notation3.py:884\u001b[0m, in \u001b[0;36mSinkParser.path\u001b[1;34m(self, argstr, i, res)\u001b[0m\n\u001b[0;32m    882\u001b[0m \u001b[38;5;28;01mdef\u001b[39;00m \u001b[38;5;21mpath\u001b[39m(\u001b[38;5;28mself\u001b[39m, argstr: \u001b[38;5;28mstr\u001b[39m, i: \u001b[38;5;28mint\u001b[39m, res: MutableSequence[Any]) \u001b[38;5;241m-\u001b[39m\u001b[38;5;241m>\u001b[39m \u001b[38;5;28mint\u001b[39m:\n\u001b[0;32m    883\u001b[0m \u001b[38;5;250m    \u001b[39m\u001b[38;5;124;03m\"\"\"Parse the path production.\"\"\"\u001b[39;00m\n\u001b[1;32m--> 884\u001b[0m     j \u001b[38;5;241m=\u001b[39m \u001b[38;5;28;43mself\u001b[39;49m\u001b[38;5;241;43m.\u001b[39;49m\u001b[43mnodeOrLiteral\u001b[49m\u001b[43m(\u001b[49m\u001b[43margstr\u001b[49m\u001b[43m,\u001b[49m\u001b[43m \u001b[49m\u001b[43mi\u001b[49m\u001b[43m,\u001b[49m\u001b[43m \u001b[49m\u001b[43mres\u001b[49m\u001b[43m)\u001b[49m\n\u001b[0;32m    885\u001b[0m     \u001b[38;5;28;01mif\u001b[39;00m j \u001b[38;5;241m<\u001b[39m \u001b[38;5;241m0\u001b[39m:\n\u001b[0;32m    886\u001b[0m         \u001b[38;5;28;01mreturn\u001b[39;00m j  \u001b[38;5;66;03m# nope\u001b[39;00m\n",
      "File \u001b[1;32mc:\\Users\\Dominika\\anaconda3\\envs\\pyth12\\Lib\\site-packages\\rdflib\\plugins\\parsers\\notation3.py:1577\u001b[0m, in \u001b[0;36mSinkParser.nodeOrLiteral\u001b[1;34m(self, argstr, i, res)\u001b[0m\n\u001b[0;32m   1575\u001b[0m         j \u001b[38;5;241m=\u001b[39m \u001b[38;5;28mself\u001b[39m\u001b[38;5;241m.\u001b[39muri_ref2(argstr, j \u001b[38;5;241m+\u001b[39m \u001b[38;5;241m2\u001b[39m, res2)  \u001b[38;5;66;03m# Read datatype URI\u001b[39;00m\n\u001b[0;32m   1576\u001b[0m         dt \u001b[38;5;241m=\u001b[39m res2[\u001b[38;5;241m0\u001b[39m]\n\u001b[1;32m-> 1577\u001b[0m     res\u001b[38;5;241m.\u001b[39mappend(\u001b[38;5;28;43mself\u001b[39;49m\u001b[38;5;241;43m.\u001b[39;49m\u001b[43m_store\u001b[49m\u001b[38;5;241;43m.\u001b[39;49m\u001b[43mnewLiteral\u001b[49m\u001b[43m(\u001b[49m\u001b[43ms\u001b[49m\u001b[43m,\u001b[49m\u001b[43m \u001b[49m\u001b[43mdt\u001b[49m\u001b[43m,\u001b[49m\u001b[43m \u001b[49m\u001b[43mlang\u001b[49m\u001b[43m)\u001b[49m)\n\u001b[0;32m   1578\u001b[0m     \u001b[38;5;28;01mreturn\u001b[39;00m j\n\u001b[0;32m   1579\u001b[0m \u001b[38;5;28;01melse\u001b[39;00m:\n",
      "File \u001b[1;32mc:\\Users\\Dominika\\anaconda3\\envs\\pyth12\\Lib\\site-packages\\rdflib\\plugins\\parsers\\notation3.py:1859\u001b[0m, in \u001b[0;36mRDFSink.newLiteral\u001b[1;34m(self, s, dt, lang)\u001b[0m\n\u001b[0;32m   1857\u001b[0m     \u001b[38;5;28;01mreturn\u001b[39;00m Literal(s, datatype\u001b[38;5;241m=\u001b[39mdt)\n\u001b[0;32m   1858\u001b[0m \u001b[38;5;28;01melse\u001b[39;00m:\n\u001b[1;32m-> 1859\u001b[0m     \u001b[38;5;28;01mreturn\u001b[39;00m \u001b[43mLiteral\u001b[49m\u001b[43m(\u001b[49m\u001b[43ms\u001b[49m\u001b[43m,\u001b[49m\u001b[43m \u001b[49m\u001b[43mlang\u001b[49m\u001b[38;5;241;43m=\u001b[39;49m\u001b[43mlang\u001b[49m\u001b[43m)\u001b[49m\n",
      "File \u001b[1;32mc:\\Users\\Dominika\\anaconda3\\envs\\pyth12\\Lib\\site-packages\\rdflib\\term.py:615\u001b[0m, in \u001b[0;36mLiteral.__new__\u001b[1;34m(cls, lexical_or_value, lang, datatype, normalize)\u001b[0m\n\u001b[0;32m    612\u001b[0m _ill_typed: Optional[\u001b[38;5;28mbool\u001b[39m]\n\u001b[0;32m    613\u001b[0m \u001b[38;5;18m__slots__\u001b[39m \u001b[38;5;241m=\u001b[39m (\u001b[38;5;124m\"\u001b[39m\u001b[38;5;124m_language\u001b[39m\u001b[38;5;124m\"\u001b[39m, \u001b[38;5;124m\"\u001b[39m\u001b[38;5;124m_datatype\u001b[39m\u001b[38;5;124m\"\u001b[39m, \u001b[38;5;124m\"\u001b[39m\u001b[38;5;124m_value\u001b[39m\u001b[38;5;124m\"\u001b[39m, \u001b[38;5;124m\"\u001b[39m\u001b[38;5;124m_ill_typed\u001b[39m\u001b[38;5;124m\"\u001b[39m)\n\u001b[1;32m--> 615\u001b[0m \u001b[38;5;28;01mdef\u001b[39;00m \u001b[38;5;21m__new__\u001b[39m(\n\u001b[0;32m    616\u001b[0m     \u001b[38;5;28mcls\u001b[39m,\n\u001b[0;32m    617\u001b[0m     lexical_or_value: Any,\n\u001b[0;32m    618\u001b[0m     lang: Optional[\u001b[38;5;28mstr\u001b[39m] \u001b[38;5;241m=\u001b[39m \u001b[38;5;28;01mNone\u001b[39;00m,\n\u001b[0;32m    619\u001b[0m     datatype: Optional[\u001b[38;5;28mstr\u001b[39m] \u001b[38;5;241m=\u001b[39m \u001b[38;5;28;01mNone\u001b[39;00m,\n\u001b[0;32m    620\u001b[0m     normalize: Optional[\u001b[38;5;28mbool\u001b[39m] \u001b[38;5;241m=\u001b[39m \u001b[38;5;28;01mNone\u001b[39;00m,\n\u001b[0;32m    621\u001b[0m ) \u001b[38;5;241m-\u001b[39m\u001b[38;5;241m>\u001b[39m \u001b[38;5;124m\"\u001b[39m\u001b[38;5;124mLiteral\u001b[39m\u001b[38;5;124m\"\u001b[39m:\n\u001b[0;32m    622\u001b[0m     \u001b[38;5;28;01mif\u001b[39;00m lang \u001b[38;5;241m==\u001b[39m \u001b[38;5;124m\"\u001b[39m\u001b[38;5;124m\"\u001b[39m:\n\u001b[0;32m    623\u001b[0m         lang \u001b[38;5;241m=\u001b[39m \u001b[38;5;28;01mNone\u001b[39;00m  \u001b[38;5;66;03m# no empty lang-tags in RDF\u001b[39;00m\n",
      "\u001b[1;31mKeyboardInterrupt\u001b[0m: "
     ]
    }
   ],
   "source": [
    "new_g = Graph()\n",
    "new_g.parse(\"../FINAL/kg-microbe_wo_dupes.ttl\")"
   ]
  },
  {
   "cell_type": "code",
   "execution_count": null,
   "metadata": {},
   "outputs": [],
   "source": [
    "q = \"\"\"\n",
    "SELECT ?s ?p ?o\n",
    "{\n",
    "    ?s ?p ?o\n",
    "}\n",
    "\"\"\"\n",
    "\n",
    "gq = g.query(q)\n",
    "\n",
    "train_taxons = []\n",
    "\n",
    "for row in gq:\n",
    "    if (row.s.startswith(\"obo:NCBITaxon\")):\n",
    "        train_taxons.append(row.s)\n",
    "\n",
    "print(len(train_taxons))"
   ]
  },
  {
   "cell_type": "code",
   "execution_count": null,
   "metadata": {},
   "outputs": [],
   "source": [
    "query = \"\"\"\n",
    "SELECT ?s ?p ?o\n",
    "WHERE {\n",
    "  ?s ?p ?o .\n",
    "}\n",
    "\"\"\"\n",
    "new_graph_train = Graph()\n",
    "\n",
    "for row in train_taxons:\n",
    "    subjectitos = rdflib.term.URIRef(row)\n",
    "    filtered_gq = g.query(query, initBindings = {\n",
    "        \"s\": subjectitos\n",
    "    })\n",
    "    new_graph_train += filtered_gq\n",
    "\n",
    "print(len(new_graph_train))\n",
    "\n",
    "query = \"\"\"\n",
    "SELECT ?s ?p ?o\n",
    "WHERE {\n",
    "  ?s ?p ?o .\n",
    "}\n",
    "\"\"\"\n",
    "\n",
    "for row in train_taxons:\n",
    "    objectitos = rdflib.term.URIRef(row)\n",
    "    filtered_gq = g.query(query, initBindings = {\n",
    "        \"o\": objectitos\n",
    "    })\n",
    "    new_graph_train += filtered_gq\n",
    "\n",
    "print(len(new_graph_train))"
   ]
  },
  {
   "cell_type": "code",
   "execution_count": null,
   "metadata": {},
   "outputs": [],
   "source": [
    "new_real_graph_train = Graph()\n",
    "for row in new_graph_train:\n",
    "    new_real_graph_train.add(row)\n",
    "\n",
    "len(new_real_graph_train)"
   ]
  },
  {
   "cell_type": "code",
   "execution_count": null,
   "metadata": {},
   "outputs": [],
   "source": [
    "for row in new_real_graph_train:\n",
    "    new_g.remove(row)"
   ]
  },
  {
   "cell_type": "code",
   "execution_count": 27,
   "metadata": {},
   "outputs": [
    {
     "data": {
      "text/plain": [
       "<Graph identifier=N862500ad7f7c4f69bc9ab88e9bc56189 (<class 'rdflib.graph.Graph'>)>"
      ]
     },
     "execution_count": 27,
     "metadata": {},
     "output_type": "execute_result"
    }
   ],
   "source": [
    "new_g.serialize(destination=\"test_data_from_spaqrl.ttl\")"
   ]
  },
  {
   "cell_type": "code",
   "execution_count": null,
   "metadata": {},
   "outputs": [],
   "source": []
  }
 ],
 "metadata": {
  "kernelspec": {
   "display_name": "pyth12",
   "language": "python",
   "name": "python3"
  },
  "language_info": {
   "codemirror_mode": {
    "name": "ipython",
    "version": 3
   },
   "file_extension": ".py",
   "mimetype": "text/x-python",
   "name": "python",
   "nbconvert_exporter": "python",
   "pygments_lexer": "ipython3",
   "version": "3.12.3"
  }
 },
 "nbformat": 4,
 "nbformat_minor": 2
}
