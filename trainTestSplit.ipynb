{
 "cells": [
  {
   "cell_type": "code",
   "execution_count": 1,
   "metadata": {},
   "outputs": [],
   "source": [
    "#!pip install rdflib\n",
    "import rdflib\n",
    "from rdflib import Graph\n",
    "import pandas as pd\n",
    "import json\n",
    "import urllib.parse"
   ]
  },
  {
   "cell_type": "code",
   "execution_count": 2,
   "metadata": {},
   "outputs": [
    {
     "data": {
      "text/plain": [
       "<Graph identifier=Naa1cef661b914ad49718bd46e2c01577 (<class 'rdflib.graph.Graph'>)>"
      ]
     },
     "execution_count": 2,
     "metadata": {},
     "output_type": "execute_result"
    }
   ],
   "source": [
    "g = Graph()\n",
    "g.parse(\"kg-mic.ttl\")"
   ]
  },
  {
   "cell_type": "code",
   "execution_count": 3,
   "metadata": {},
   "outputs": [
    {
     "data": {
      "text/plain": [
       "<Graph identifier=N39181cd92372482691fdbadb96595a2b (<class 'rdflib.graph.Graph'>)>"
      ]
     },
     "execution_count": 3,
     "metadata": {},
     "output_type": "execute_result"
    }
   ],
   "source": [
    "#g.serialize(destination=\"kg-mic.ttl\")"
   ]
  },
  {
   "cell_type": "code",
   "execution_count": 3,
   "metadata": {},
   "outputs": [
    {
     "name": "stdout",
     "output_type": "stream",
     "text": [
      "6827261\n"
     ]
    }
   ],
   "source": [
    "print(len(g))"
   ]
  },
  {
   "cell_type": "code",
   "execution_count": 4,
   "metadata": {},
   "outputs": [
    {
     "data": {
      "text/html": [
       "<div>\n",
       "<style scoped>\n",
       "    .dataframe tbody tr th:only-of-type {\n",
       "        vertical-align: middle;\n",
       "    }\n",
       "\n",
       "    .dataframe tbody tr th {\n",
       "        vertical-align: top;\n",
       "    }\n",
       "\n",
       "    .dataframe thead th {\n",
       "        text-align: right;\n",
       "    }\n",
       "</style>\n",
       "<table border=\"1\" class=\"dataframe\">\n",
       "  <thead>\n",
       "    <tr style=\"text-align: right;\">\n",
       "      <th></th>\n",
       "      <th>subject</th>\n",
       "      <th>CHEBI:100147</th>\n",
       "      <th>CHEBI:12931</th>\n",
       "      <th>CHEBI:12936</th>\n",
       "      <th>CHEBI:132943</th>\n",
       "      <th>CHEBI:132950</th>\n",
       "      <th>CHEBI:133748</th>\n",
       "      <th>CHEBI:13705</th>\n",
       "      <th>CHEBI:143136</th>\n",
       "      <th>CHEBI:14314</th>\n",
       "      <th>...</th>\n",
       "      <th>temp_range:very_low</th>\n",
       "      <th>temperature:mesophilic</th>\n",
       "      <th>temperature:psychrophilic</th>\n",
       "      <th>temperature:thermophilic</th>\n",
       "      <th>trophic_type:chemoheterotrophy</th>\n",
       "      <th>trophic_type:chemoorganoheterotrophy</th>\n",
       "      <th>trophic_type:chemoorganotrophy</th>\n",
       "      <th>trophic_type:chemotrophy</th>\n",
       "      <th>trophic_type:heterotrophy</th>\n",
       "      <th>trophic_type:organotrophy</th>\n",
       "    </tr>\n",
       "  </thead>\n",
       "  <tbody>\n",
       "    <tr>\n",
       "      <th>0</th>\n",
       "      <td>NCBITaxon:1122600</td>\n",
       "      <td>0</td>\n",
       "      <td>0</td>\n",
       "      <td>0</td>\n",
       "      <td>0</td>\n",
       "      <td>0</td>\n",
       "      <td>0</td>\n",
       "      <td>0</td>\n",
       "      <td>0</td>\n",
       "      <td>0</td>\n",
       "      <td>...</td>\n",
       "      <td>0</td>\n",
       "      <td>1</td>\n",
       "      <td>0</td>\n",
       "      <td>0</td>\n",
       "      <td>0</td>\n",
       "      <td>0</td>\n",
       "      <td>0</td>\n",
       "      <td>0</td>\n",
       "      <td>0</td>\n",
       "      <td>0</td>\n",
       "    </tr>\n",
       "    <tr>\n",
       "      <th>1</th>\n",
       "      <td>NCBITaxon:684552</td>\n",
       "      <td>0</td>\n",
       "      <td>0</td>\n",
       "      <td>0</td>\n",
       "      <td>0</td>\n",
       "      <td>0</td>\n",
       "      <td>0</td>\n",
       "      <td>0</td>\n",
       "      <td>0</td>\n",
       "      <td>0</td>\n",
       "      <td>...</td>\n",
       "      <td>0</td>\n",
       "      <td>1</td>\n",
       "      <td>0</td>\n",
       "      <td>0</td>\n",
       "      <td>0</td>\n",
       "      <td>0</td>\n",
       "      <td>0</td>\n",
       "      <td>0</td>\n",
       "      <td>0</td>\n",
       "      <td>0</td>\n",
       "    </tr>\n",
       "    <tr>\n",
       "      <th>2</th>\n",
       "      <td>NCBITaxon:452922</td>\n",
       "      <td>0</td>\n",
       "      <td>0</td>\n",
       "      <td>0</td>\n",
       "      <td>0</td>\n",
       "      <td>0</td>\n",
       "      <td>0</td>\n",
       "      <td>0</td>\n",
       "      <td>0</td>\n",
       "      <td>0</td>\n",
       "      <td>...</td>\n",
       "      <td>1</td>\n",
       "      <td>1</td>\n",
       "      <td>0</td>\n",
       "      <td>0</td>\n",
       "      <td>0</td>\n",
       "      <td>0</td>\n",
       "      <td>0</td>\n",
       "      <td>0</td>\n",
       "      <td>0</td>\n",
       "      <td>0</td>\n",
       "    </tr>\n",
       "    <tr>\n",
       "      <th>3</th>\n",
       "      <td>NCBITaxon:447421</td>\n",
       "      <td>0</td>\n",
       "      <td>0</td>\n",
       "      <td>0</td>\n",
       "      <td>0</td>\n",
       "      <td>0</td>\n",
       "      <td>0</td>\n",
       "      <td>0</td>\n",
       "      <td>0</td>\n",
       "      <td>0</td>\n",
       "      <td>...</td>\n",
       "      <td>0</td>\n",
       "      <td>1</td>\n",
       "      <td>0</td>\n",
       "      <td>0</td>\n",
       "      <td>0</td>\n",
       "      <td>0</td>\n",
       "      <td>0</td>\n",
       "      <td>0</td>\n",
       "      <td>0</td>\n",
       "      <td>0</td>\n",
       "    </tr>\n",
       "    <tr>\n",
       "      <th>4</th>\n",
       "      <td>NCBITaxon:273384</td>\n",
       "      <td>0</td>\n",
       "      <td>0</td>\n",
       "      <td>0</td>\n",
       "      <td>0</td>\n",
       "      <td>0</td>\n",
       "      <td>0</td>\n",
       "      <td>0</td>\n",
       "      <td>0</td>\n",
       "      <td>0</td>\n",
       "      <td>...</td>\n",
       "      <td>0</td>\n",
       "      <td>1</td>\n",
       "      <td>0</td>\n",
       "      <td>0</td>\n",
       "      <td>0</td>\n",
       "      <td>0</td>\n",
       "      <td>0</td>\n",
       "      <td>0</td>\n",
       "      <td>0</td>\n",
       "      <td>0</td>\n",
       "    </tr>\n",
       "    <tr>\n",
       "      <th>...</th>\n",
       "      <td>...</td>\n",
       "      <td>...</td>\n",
       "      <td>...</td>\n",
       "      <td>...</td>\n",
       "      <td>...</td>\n",
       "      <td>...</td>\n",
       "      <td>...</td>\n",
       "      <td>...</td>\n",
       "      <td>...</td>\n",
       "      <td>...</td>\n",
       "      <td>...</td>\n",
       "      <td>...</td>\n",
       "      <td>...</td>\n",
       "      <td>...</td>\n",
       "      <td>...</td>\n",
       "      <td>...</td>\n",
       "      <td>...</td>\n",
       "      <td>...</td>\n",
       "      <td>...</td>\n",
       "      <td>...</td>\n",
       "      <td>...</td>\n",
       "    </tr>\n",
       "    <tr>\n",
       "      <th>1226</th>\n",
       "      <td>NCBITaxon:1465756</td>\n",
       "      <td>0</td>\n",
       "      <td>0</td>\n",
       "      <td>0</td>\n",
       "      <td>0</td>\n",
       "      <td>0</td>\n",
       "      <td>0</td>\n",
       "      <td>0</td>\n",
       "      <td>0</td>\n",
       "      <td>0</td>\n",
       "      <td>...</td>\n",
       "      <td>0</td>\n",
       "      <td>1</td>\n",
       "      <td>0</td>\n",
       "      <td>0</td>\n",
       "      <td>0</td>\n",
       "      <td>0</td>\n",
       "      <td>0</td>\n",
       "      <td>0</td>\n",
       "      <td>0</td>\n",
       "      <td>0</td>\n",
       "    </tr>\n",
       "    <tr>\n",
       "      <th>1227</th>\n",
       "      <td>NCBITaxon:872983</td>\n",
       "      <td>0</td>\n",
       "      <td>0</td>\n",
       "      <td>0</td>\n",
       "      <td>0</td>\n",
       "      <td>0</td>\n",
       "      <td>0</td>\n",
       "      <td>0</td>\n",
       "      <td>0</td>\n",
       "      <td>0</td>\n",
       "      <td>...</td>\n",
       "      <td>0</td>\n",
       "      <td>1</td>\n",
       "      <td>0</td>\n",
       "      <td>0</td>\n",
       "      <td>0</td>\n",
       "      <td>0</td>\n",
       "      <td>0</td>\n",
       "      <td>0</td>\n",
       "      <td>0</td>\n",
       "      <td>0</td>\n",
       "    </tr>\n",
       "    <tr>\n",
       "      <th>1228</th>\n",
       "      <td>NCBITaxon:184924</td>\n",
       "      <td>0</td>\n",
       "      <td>0</td>\n",
       "      <td>0</td>\n",
       "      <td>0</td>\n",
       "      <td>0</td>\n",
       "      <td>0</td>\n",
       "      <td>0</td>\n",
       "      <td>0</td>\n",
       "      <td>0</td>\n",
       "      <td>...</td>\n",
       "      <td>0</td>\n",
       "      <td>1</td>\n",
       "      <td>0</td>\n",
       "      <td>0</td>\n",
       "      <td>0</td>\n",
       "      <td>0</td>\n",
       "      <td>0</td>\n",
       "      <td>0</td>\n",
       "      <td>0</td>\n",
       "      <td>0</td>\n",
       "    </tr>\n",
       "    <tr>\n",
       "      <th>1229</th>\n",
       "      <td>NCBITaxon:1223526</td>\n",
       "      <td>0</td>\n",
       "      <td>0</td>\n",
       "      <td>0</td>\n",
       "      <td>0</td>\n",
       "      <td>0</td>\n",
       "      <td>0</td>\n",
       "      <td>0</td>\n",
       "      <td>0</td>\n",
       "      <td>0</td>\n",
       "      <td>...</td>\n",
       "      <td>0</td>\n",
       "      <td>1</td>\n",
       "      <td>0</td>\n",
       "      <td>0</td>\n",
       "      <td>0</td>\n",
       "      <td>0</td>\n",
       "      <td>0</td>\n",
       "      <td>0</td>\n",
       "      <td>0</td>\n",
       "      <td>0</td>\n",
       "    </tr>\n",
       "    <tr>\n",
       "      <th>1230</th>\n",
       "      <td>NCBITaxon:221126</td>\n",
       "      <td>0</td>\n",
       "      <td>0</td>\n",
       "      <td>0</td>\n",
       "      <td>0</td>\n",
       "      <td>0</td>\n",
       "      <td>0</td>\n",
       "      <td>0</td>\n",
       "      <td>0</td>\n",
       "      <td>0</td>\n",
       "      <td>...</td>\n",
       "      <td>1</td>\n",
       "      <td>1</td>\n",
       "      <td>0</td>\n",
       "      <td>0</td>\n",
       "      <td>0</td>\n",
       "      <td>0</td>\n",
       "      <td>0</td>\n",
       "      <td>0</td>\n",
       "      <td>0</td>\n",
       "      <td>0</td>\n",
       "    </tr>\n",
       "  </tbody>\n",
       "</table>\n",
       "<p>1231 rows × 569 columns</p>\n",
       "</div>"
      ],
      "text/plain": [
       "                subject  CHEBI:100147  CHEBI:12931  CHEBI:12936  CHEBI:132943  \\\n",
       "0     NCBITaxon:1122600             0            0            0             0   \n",
       "1      NCBITaxon:684552             0            0            0             0   \n",
       "2      NCBITaxon:452922             0            0            0             0   \n",
       "3      NCBITaxon:447421             0            0            0             0   \n",
       "4      NCBITaxon:273384             0            0            0             0   \n",
       "...                 ...           ...          ...          ...           ...   \n",
       "1226  NCBITaxon:1465756             0            0            0             0   \n",
       "1227   NCBITaxon:872983             0            0            0             0   \n",
       "1228   NCBITaxon:184924             0            0            0             0   \n",
       "1229  NCBITaxon:1223526             0            0            0             0   \n",
       "1230   NCBITaxon:221126             0            0            0             0   \n",
       "\n",
       "      CHEBI:132950  CHEBI:133748  CHEBI:13705  CHEBI:143136  CHEBI:14314  ...  \\\n",
       "0                0             0            0             0            0  ...   \n",
       "1                0             0            0             0            0  ...   \n",
       "2                0             0            0             0            0  ...   \n",
       "3                0             0            0             0            0  ...   \n",
       "4                0             0            0             0            0  ...   \n",
       "...            ...           ...          ...           ...          ...  ...   \n",
       "1226             0             0            0             0            0  ...   \n",
       "1227             0             0            0             0            0  ...   \n",
       "1228             0             0            0             0            0  ...   \n",
       "1229             0             0            0             0            0  ...   \n",
       "1230             0             0            0             0            0  ...   \n",
       "\n",
       "      temp_range:very_low  temperature:mesophilic  temperature:psychrophilic  \\\n",
       "0                       0                       1                          0   \n",
       "1                       0                       1                          0   \n",
       "2                       1                       1                          0   \n",
       "3                       0                       1                          0   \n",
       "4                       0                       1                          0   \n",
       "...                   ...                     ...                        ...   \n",
       "1226                    0                       1                          0   \n",
       "1227                    0                       1                          0   \n",
       "1228                    0                       1                          0   \n",
       "1229                    0                       1                          0   \n",
       "1230                    1                       1                          0   \n",
       "\n",
       "      temperature:thermophilic  trophic_type:chemoheterotrophy  \\\n",
       "0                            0                               0   \n",
       "1                            0                               0   \n",
       "2                            0                               0   \n",
       "3                            0                               0   \n",
       "4                            0                               0   \n",
       "...                        ...                             ...   \n",
       "1226                         0                               0   \n",
       "1227                         0                               0   \n",
       "1228                         0                               0   \n",
       "1229                         0                               0   \n",
       "1230                         0                               0   \n",
       "\n",
       "      trophic_type:chemoorganoheterotrophy  trophic_type:chemoorganotrophy  \\\n",
       "0                                        0                               0   \n",
       "1                                        0                               0   \n",
       "2                                        0                               0   \n",
       "3                                        0                               0   \n",
       "4                                        0                               0   \n",
       "...                                    ...                             ...   \n",
       "1226                                     0                               0   \n",
       "1227                                     0                               0   \n",
       "1228                                     0                               0   \n",
       "1229                                     0                               0   \n",
       "1230                                     0                               0   \n",
       "\n",
       "      trophic_type:chemotrophy  trophic_type:heterotrophy  \\\n",
       "0                            0                          0   \n",
       "1                            0                          0   \n",
       "2                            0                          0   \n",
       "3                            0                          0   \n",
       "4                            0                          0   \n",
       "...                        ...                        ...   \n",
       "1226                         0                          0   \n",
       "1227                         0                          0   \n",
       "1228                         0                          0   \n",
       "1229                         0                          0   \n",
       "1230                         0                          0   \n",
       "\n",
       "      trophic_type:organotrophy  \n",
       "0                             0  \n",
       "1                             0  \n",
       "2                             0  \n",
       "3                             0  \n",
       "4                             0  \n",
       "...                         ...  \n",
       "1226                          0  \n",
       "1227                          0  \n",
       "1228                          0  \n",
       "1229                          0  \n",
       "1230                          0  \n",
       "\n",
       "[1231 rows x 569 columns]"
      ]
     },
     "execution_count": 4,
     "metadata": {},
     "output_type": "execute_result"
    }
   ],
   "source": [
    "df = pd.read_csv(\"C:/Users/Dominika/Documents/SKOLA/ING/DIPLOMKA/output/test_data.tsv\", delimiter = \"\\t\")\n",
    "df"
   ]
  },
  {
   "cell_type": "code",
   "execution_count": 5,
   "metadata": {},
   "outputs": [],
   "source": [
    "taxons = []\n",
    "for i in range(len(df)): \n",
    "    taxons.append(df.iloc[i, 0])"
   ]
  },
  {
   "cell_type": "code",
   "execution_count": 6,
   "metadata": {},
   "outputs": [
    {
     "data": {
      "text/plain": [
       "1231"
      ]
     },
     "execution_count": 6,
     "metadata": {},
     "output_type": "execute_result"
    }
   ],
   "source": [
    "len(taxons)"
   ]
  },
  {
   "cell_type": "code",
   "execution_count": 7,
   "metadata": {},
   "outputs": [
    {
     "data": {
      "text/plain": [
       "1231"
      ]
     },
     "execution_count": 7,
     "metadata": {},
     "output_type": "execute_result"
    }
   ],
   "source": [
    "\n",
    "bioregistry_prefixes = {}\n",
    "f = open(\"C:/Users/Dominika/Documents/SKOLA/ING/DIPLOMKA/registry.json\")\n",
    "data = json.load(f)\n",
    "for entity in data.values():\n",
    "    bioregistry_prefixes[entity[\"prefix\"]] = {\"name\": entity[\"name\"], \"uri_format\": entity[\"uri_format\"]}\n",
    "f.close()\n",
    "del data\n",
    "\n",
    "\n",
    "\n",
    "def extract_uri(id: str):\n",
    "    uri_parts = id.split(\":\", 1)\n",
    "    if len(uri_parts) == 1:\n",
    "        encoded_id = urllib.parse.quote(id, safe=\"\")\n",
    "        return f\"urn:unknown:{encoded_id}\"\n",
    "    elif len(uri_parts) > 1:\n",
    "        prefix = uri_parts[0].lower()\n",
    "        def_prefix = bioregistry_prefixes.get(prefix)\n",
    "        if def_prefix is None:\n",
    "            encoded_id = urllib.parse.quote(id, safe=\"\")\n",
    "            return f\"urn:unknown:{encoded_id}\"\n",
    "        else:\n",
    "            uf = def_prefix[\"uri_format\"]  # type: str\n",
    "            if uf is None or \"$1\" not in uf:\n",
    "                return f\"https://bioregistry.io/{prefix}:{uri_parts[1]}\"\n",
    "            else:\n",
    "                return uf.replace(\"$1\", uri_parts[1])\n",
    "    return None\n",
    "\n",
    "\n",
    "taxons_prefixed = []\n",
    "for row in taxons:\n",
    "    uri_1 = extract_uri(row)\n",
    "    taxons_prefixed.append(uri_1)\n",
    "\n",
    "len(taxons_prefixed)"
   ]
  },
  {
   "cell_type": "code",
   "execution_count": 8,
   "metadata": {},
   "outputs": [
    {
     "name": "stdout",
     "output_type": "stream",
     "text": [
      "39049\n"
     ]
    }
   ],
   "source": [
    "query = \"\"\"\n",
    "SELECT ?s ?p ?o\n",
    "WHERE {\n",
    "  ?s ?p ?o .\n",
    "}\n",
    "\"\"\"\n",
    "new_graph = Graph()\n",
    "\n",
    "for row in taxons_prefixed:\n",
    "    subjectitos = rdflib.term.URIRef(row)\n",
    "    filtered_gq = g.query(query, initBindings = {\n",
    "        \"s\": subjectitos\n",
    "    })\n",
    "    new_graph += filtered_gq\n",
    "\n",
    "print(len(new_graph))\n",
    "\n"
   ]
  },
  {
   "cell_type": "code",
   "execution_count": null,
   "metadata": {},
   "outputs": [],
   "source": [
    "query = \"\"\"\n",
    "SELECT ?s ?p ?o\n",
    "WHERE {\n",
    "  ?s ?p ?o .\n",
    "}\n",
    "\"\"\"\n",
    "\n",
    "for row in taxons_prefixed:\n",
    "    objectitos = rdflib.term.URIRef(row)\n",
    "    filtered_gq = g.query(query, initBindings = {\n",
    "        \"o\": objectitos\n",
    "    })\n",
    "    new_graph += filtered_gq\n",
    "\n",
    "print(len(new_graph))"
   ]
  },
  {
   "cell_type": "code",
   "execution_count": 9,
   "metadata": {},
   "outputs": [
    {
     "data": {
      "text/plain": [
       "39049"
      ]
     },
     "execution_count": 9,
     "metadata": {},
     "output_type": "execute_result"
    }
   ],
   "source": [
    "new_real_graph = Graph()\n",
    "for row in new_graph:\n",
    "    new_real_graph.add(row)\n",
    "\n",
    "len(new_real_graph)"
   ]
  },
  {
   "cell_type": "code",
   "execution_count": 10,
   "metadata": {},
   "outputs": [],
   "source": [
    "for row in new_real_graph:\n",
    "    g.remove(row)"
   ]
  },
  {
   "cell_type": "code",
   "execution_count": 11,
   "metadata": {},
   "outputs": [
    {
     "data": {
      "text/plain": [
       "6788212"
      ]
     },
     "execution_count": 11,
     "metadata": {},
     "output_type": "execute_result"
    }
   ],
   "source": [
    "len(g)"
   ]
  },
  {
   "cell_type": "code",
   "execution_count": 12,
   "metadata": {},
   "outputs": [
    {
     "data": {
      "text/plain": [
       "<Graph identifier=Naa1cef661b914ad49718bd46e2c01577 (<class 'rdflib.graph.Graph'>)>"
      ]
     },
     "execution_count": 12,
     "metadata": {},
     "output_type": "execute_result"
    }
   ],
   "source": [
    "g.serialize(destination=\"train_data_from_spaqrl_onlysub.ttl\")"
   ]
  },
  {
   "cell_type": "code",
   "execution_count": 2,
   "metadata": {},
   "outputs": [
    {
     "ename": "KeyboardInterrupt",
     "evalue": "",
     "output_type": "error",
     "traceback": [
      "\u001b[1;31m---------------------------------------------------------------------------\u001b[0m",
      "\u001b[1;31mKeyboardInterrupt\u001b[0m                         Traceback (most recent call last)",
      "Cell \u001b[1;32mIn[2], line 3\u001b[0m\n\u001b[0;32m      1\u001b[0m g \u001b[38;5;241m=\u001b[39m Graph()\n\u001b[1;32m----> 3\u001b[0m \u001b[43mg\u001b[49m\u001b[38;5;241;43m.\u001b[39;49m\u001b[43mparse\u001b[49m\u001b[43m(\u001b[49m\u001b[38;5;124;43m\"\u001b[39;49m\u001b[38;5;124;43mtrain_data_from_spaqrl_onlysub.ttl\u001b[39;49m\u001b[38;5;124;43m\"\u001b[39;49m\u001b[43m)\u001b[49m\n",
      "File \u001b[1;32mc:\\Users\\Dominika\\anaconda3\\envs\\pyth12\\Lib\\site-packages\\rdflib\\graph.py:1492\u001b[0m, in \u001b[0;36mGraph.parse\u001b[1;34m(self, source, publicID, format, location, file, data, **args)\u001b[0m\n\u001b[0;32m   1489\u001b[0m parser \u001b[38;5;241m=\u001b[39m plugin\u001b[38;5;241m.\u001b[39mget(\u001b[38;5;28mformat\u001b[39m, Parser)()\n\u001b[0;32m   1490\u001b[0m \u001b[38;5;28;01mtry\u001b[39;00m:\n\u001b[0;32m   1491\u001b[0m     \u001b[38;5;66;03m# TODO FIXME: Parser.parse should have **kwargs argument.\u001b[39;00m\n\u001b[1;32m-> 1492\u001b[0m     \u001b[43mparser\u001b[49m\u001b[38;5;241;43m.\u001b[39;49m\u001b[43mparse\u001b[49m\u001b[43m(\u001b[49m\u001b[43msource\u001b[49m\u001b[43m,\u001b[49m\u001b[43m \u001b[49m\u001b[38;5;28;43mself\u001b[39;49m\u001b[43m,\u001b[49m\u001b[43m \u001b[49m\u001b[38;5;241;43m*\u001b[39;49m\u001b[38;5;241;43m*\u001b[39;49m\u001b[43margs\u001b[49m\u001b[43m)\u001b[49m\n\u001b[0;32m   1493\u001b[0m \u001b[38;5;28;01mexcept\u001b[39;00m \u001b[38;5;167;01mSyntaxError\u001b[39;00m \u001b[38;5;28;01mas\u001b[39;00m se:\n\u001b[0;32m   1494\u001b[0m     \u001b[38;5;28;01mif\u001b[39;00m could_not_guess_format:\n",
      "File \u001b[1;32mc:\\Users\\Dominika\\anaconda3\\envs\\pyth12\\Lib\\site-packages\\rdflib\\plugins\\parsers\\notation3.py:2021\u001b[0m, in \u001b[0;36mTurtleParser.parse\u001b[1;34m(self, source, graph, encoding, turtle)\u001b[0m\n\u001b[0;32m   2019\u001b[0m \u001b[38;5;28;01mif\u001b[39;00m \u001b[38;5;129;01mnot\u001b[39;00m stream:\n\u001b[0;32m   2020\u001b[0m     stream \u001b[38;5;241m=\u001b[39m source\u001b[38;5;241m.\u001b[39mgetByteStream()\n\u001b[1;32m-> 2021\u001b[0m \u001b[43mp\u001b[49m\u001b[38;5;241;43m.\u001b[39;49m\u001b[43mloadStream\u001b[49m\u001b[43m(\u001b[49m\u001b[43mstream\u001b[49m\u001b[43m)\u001b[49m\n\u001b[0;32m   2023\u001b[0m \u001b[38;5;28;01mfor\u001b[39;00m prefix, namespace \u001b[38;5;129;01min\u001b[39;00m p\u001b[38;5;241m.\u001b[39m_bindings\u001b[38;5;241m.\u001b[39mitems():\n\u001b[0;32m   2024\u001b[0m     graph\u001b[38;5;241m.\u001b[39mbind(prefix, namespace)\n",
      "File \u001b[1;32mc:\\Users\\Dominika\\anaconda3\\envs\\pyth12\\Lib\\site-packages\\rdflib\\plugins\\parsers\\notation3.py:479\u001b[0m, in \u001b[0;36mSinkParser.loadStream\u001b[1;34m(self, stream)\u001b[0m\n\u001b[0;32m    478\u001b[0m \u001b[38;5;28;01mdef\u001b[39;00m \u001b[38;5;21mloadStream\u001b[39m(\u001b[38;5;28mself\u001b[39m, stream: Union[IO[\u001b[38;5;28mstr\u001b[39m], IO[\u001b[38;5;28mbytes\u001b[39m]]) \u001b[38;5;241m-\u001b[39m\u001b[38;5;241m>\u001b[39m Optional[\u001b[38;5;124m\"\u001b[39m\u001b[38;5;124mFormula\u001b[39m\u001b[38;5;124m\"\u001b[39m]:\n\u001b[1;32m--> 479\u001b[0m     \u001b[38;5;28;01mreturn\u001b[39;00m \u001b[38;5;28;43mself\u001b[39;49m\u001b[38;5;241;43m.\u001b[39;49m\u001b[43mloadBuf\u001b[49m\u001b[43m(\u001b[49m\u001b[43mstream\u001b[49m\u001b[38;5;241;43m.\u001b[39;49m\u001b[43mread\u001b[49m\u001b[43m(\u001b[49m\u001b[43m)\u001b[49m\u001b[43m)\u001b[49m\n",
      "File \u001b[1;32mc:\\Users\\Dominika\\anaconda3\\envs\\pyth12\\Lib\\site-packages\\rdflib\\plugins\\parsers\\notation3.py:485\u001b[0m, in \u001b[0;36mSinkParser.loadBuf\u001b[1;34m(self, buf)\u001b[0m\n\u001b[0;32m    482\u001b[0m \u001b[38;5;250m\u001b[39m\u001b[38;5;124;03m\"\"\"Parses a buffer and returns its top level formula\"\"\"\u001b[39;00m\n\u001b[0;32m    483\u001b[0m \u001b[38;5;28mself\u001b[39m\u001b[38;5;241m.\u001b[39mstartDoc()\n\u001b[1;32m--> 485\u001b[0m \u001b[38;5;28;43mself\u001b[39;49m\u001b[38;5;241;43m.\u001b[39;49m\u001b[43mfeed\u001b[49m\u001b[43m(\u001b[49m\u001b[43mbuf\u001b[49m\u001b[43m)\u001b[49m\n\u001b[0;32m    486\u001b[0m \u001b[38;5;28;01mreturn\u001b[39;00m \u001b[38;5;28mself\u001b[39m\u001b[38;5;241m.\u001b[39mendDoc()\n",
      "File \u001b[1;32mc:\\Users\\Dominika\\anaconda3\\envs\\pyth12\\Lib\\site-packages\\rdflib\\plugins\\parsers\\notation3.py:511\u001b[0m, in \u001b[0;36mSinkParser.feed\u001b[1;34m(self, octets)\u001b[0m\n\u001b[0;32m    508\u001b[0m \u001b[38;5;28;01mif\u001b[39;00m j \u001b[38;5;241m<\u001b[39m \u001b[38;5;241m0\u001b[39m:\n\u001b[0;32m    509\u001b[0m     \u001b[38;5;28;01mreturn\u001b[39;00m\n\u001b[1;32m--> 511\u001b[0m i \u001b[38;5;241m=\u001b[39m \u001b[38;5;28;43mself\u001b[39;49m\u001b[38;5;241;43m.\u001b[39;49m\u001b[43mdirectiveOrStatement\u001b[49m\u001b[43m(\u001b[49m\u001b[43ms\u001b[49m\u001b[43m,\u001b[49m\u001b[43m \u001b[49m\u001b[43mj\u001b[49m\u001b[43m)\u001b[49m\n\u001b[0;32m    512\u001b[0m \u001b[38;5;28;01mif\u001b[39;00m i \u001b[38;5;241m<\u001b[39m \u001b[38;5;241m0\u001b[39m:\n\u001b[0;32m    513\u001b[0m     \u001b[38;5;66;03m# print(\"# next char: %s\" % s[j])\u001b[39;00m\n\u001b[0;32m    514\u001b[0m     \u001b[38;5;28mself\u001b[39m\u001b[38;5;241m.\u001b[39mBadSyntax(s, j, \u001b[38;5;124m\"\u001b[39m\u001b[38;5;124mexpected directive or statement\u001b[39m\u001b[38;5;124m\"\u001b[39m)\n",
      "File \u001b[1;32mc:\\Users\\Dominika\\anaconda3\\envs\\pyth12\\Lib\\site-packages\\rdflib\\plugins\\parsers\\notation3.py:530\u001b[0m, in \u001b[0;36mSinkParser.directiveOrStatement\u001b[1;34m(self, argstr, h)\u001b[0m\n\u001b[0;32m    527\u001b[0m \u001b[38;5;28;01mif\u001b[39;00m j \u001b[38;5;241m>\u001b[39m\u001b[38;5;241m=\u001b[39m \u001b[38;5;241m0\u001b[39m:\n\u001b[0;32m    528\u001b[0m     \u001b[38;5;28;01mreturn\u001b[39;00m \u001b[38;5;28mself\u001b[39m\u001b[38;5;241m.\u001b[39mcheckDot(argstr, j)\n\u001b[1;32m--> 530\u001b[0m j \u001b[38;5;241m=\u001b[39m \u001b[38;5;28;43mself\u001b[39;49m\u001b[38;5;241;43m.\u001b[39;49m\u001b[43mstatement\u001b[49m\u001b[43m(\u001b[49m\u001b[43margstr\u001b[49m\u001b[43m,\u001b[49m\u001b[43m \u001b[49m\u001b[43mi\u001b[49m\u001b[43m)\u001b[49m\n\u001b[0;32m    531\u001b[0m \u001b[38;5;28;01mif\u001b[39;00m j \u001b[38;5;241m>\u001b[39m\u001b[38;5;241m=\u001b[39m \u001b[38;5;241m0\u001b[39m:\n\u001b[0;32m    532\u001b[0m     \u001b[38;5;28;01mreturn\u001b[39;00m \u001b[38;5;28mself\u001b[39m\u001b[38;5;241m.\u001b[39mcheckDot(argstr, j)\n",
      "File \u001b[1;32mc:\\Users\\Dominika\\anaconda3\\envs\\pyth12\\Lib\\site-packages\\rdflib\\plugins\\parsers\\notation3.py:778\u001b[0m, in \u001b[0;36mSinkParser.statement\u001b[1;34m(self, argstr, i)\u001b[0m\n\u001b[0;32m    775\u001b[0m \u001b[38;5;28;01mif\u001b[39;00m i \u001b[38;5;241m<\u001b[39m \u001b[38;5;241m0\u001b[39m:\n\u001b[0;32m    776\u001b[0m     \u001b[38;5;28;01mreturn\u001b[39;00m i\n\u001b[1;32m--> 778\u001b[0m j \u001b[38;5;241m=\u001b[39m \u001b[38;5;28;43mself\u001b[39;49m\u001b[38;5;241;43m.\u001b[39;49m\u001b[43mproperty_list\u001b[49m\u001b[43m(\u001b[49m\u001b[43margstr\u001b[49m\u001b[43m,\u001b[49m\u001b[43m \u001b[49m\u001b[43mi\u001b[49m\u001b[43m,\u001b[49m\u001b[43m \u001b[49m\u001b[43mr\u001b[49m\u001b[43m[\u001b[49m\u001b[38;5;241;43m0\u001b[39;49m\u001b[43m]\u001b[49m\u001b[43m)\u001b[49m\n\u001b[0;32m    780\u001b[0m \u001b[38;5;28;01mif\u001b[39;00m j \u001b[38;5;241m<\u001b[39m \u001b[38;5;241m0\u001b[39m:\n\u001b[0;32m    781\u001b[0m     \u001b[38;5;28mself\u001b[39m\u001b[38;5;241m.\u001b[39mBadSyntax(argstr, i, \u001b[38;5;124m\"\u001b[39m\u001b[38;5;124mexpected propertylist\u001b[39m\u001b[38;5;124m\"\u001b[39m)\n",
      "File \u001b[1;32mc:\\Users\\Dominika\\anaconda3\\envs\\pyth12\\Lib\\site-packages\\rdflib\\plugins\\parsers\\notation3.py:1146\u001b[0m, in \u001b[0;36mSinkParser.property_list\u001b[1;34m(self, argstr, i, subj)\u001b[0m\n\u001b[0;32m   1144\u001b[0m dira, sym \u001b[38;5;241m=\u001b[39m v[\u001b[38;5;241m0\u001b[39m]\n\u001b[0;32m   1145\u001b[0m \u001b[38;5;28;01mif\u001b[39;00m dira \u001b[38;5;241m==\u001b[39m \u001b[38;5;124m\"\u001b[39m\u001b[38;5;124m->\u001b[39m\u001b[38;5;124m\"\u001b[39m:\n\u001b[1;32m-> 1146\u001b[0m     \u001b[38;5;28;43mself\u001b[39;49m\u001b[38;5;241;43m.\u001b[39;49m\u001b[43mmakeStatement\u001b[49m\u001b[43m(\u001b[49m\u001b[43m(\u001b[49m\u001b[38;5;28;43mself\u001b[39;49m\u001b[38;5;241;43m.\u001b[39;49m\u001b[43m_context\u001b[49m\u001b[43m,\u001b[49m\u001b[43m \u001b[49m\u001b[43msym\u001b[49m\u001b[43m,\u001b[49m\u001b[43m \u001b[49m\u001b[43msubj\u001b[49m\u001b[43m,\u001b[49m\u001b[43m \u001b[49m\u001b[43mobj\u001b[49m\u001b[43m)\u001b[49m\u001b[43m)\u001b[49m\n\u001b[0;32m   1147\u001b[0m \u001b[38;5;28;01melse\u001b[39;00m:\n\u001b[0;32m   1148\u001b[0m     \u001b[38;5;28mself\u001b[39m\u001b[38;5;241m.\u001b[39mmakeStatement((\u001b[38;5;28mself\u001b[39m\u001b[38;5;241m.\u001b[39m_context, sym, obj, subj))\n",
      "File \u001b[1;32mc:\\Users\\Dominika\\anaconda3\\envs\\pyth12\\Lib\\site-packages\\rdflib\\plugins\\parsers\\notation3.py:770\u001b[0m, in \u001b[0;36mSinkParser.makeStatement\u001b[1;34m(self, quadruple)\u001b[0m\n\u001b[0;32m    767\u001b[0m \u001b[38;5;28;01mdef\u001b[39;00m \u001b[38;5;21mmakeStatement\u001b[39m(\u001b[38;5;28mself\u001b[39m, quadruple) \u001b[38;5;241m-\u001b[39m\u001b[38;5;241m>\u001b[39m \u001b[38;5;28;01mNone\u001b[39;00m:\n\u001b[0;32m    768\u001b[0m     \u001b[38;5;66;03m# $$$$$$$$$$$$$$$$$$$$$\u001b[39;00m\n\u001b[0;32m    769\u001b[0m     \u001b[38;5;66;03m# print \"# Parser output: \", `quadruple`\u001b[39;00m\n\u001b[1;32m--> 770\u001b[0m     \u001b[38;5;28;43mself\u001b[39;49m\u001b[38;5;241;43m.\u001b[39;49m\u001b[43m_store\u001b[49m\u001b[38;5;241;43m.\u001b[39;49m\u001b[43mmakeStatement\u001b[49m\u001b[43m(\u001b[49m\u001b[43mquadruple\u001b[49m\u001b[43m,\u001b[49m\u001b[43m \u001b[49m\u001b[43mwhy\u001b[49m\u001b[38;5;241;43m=\u001b[39;49m\u001b[38;5;28;43mself\u001b[39;49m\u001b[38;5;241;43m.\u001b[39;49m\u001b[43m_reason2\u001b[49m\u001b[43m)\u001b[49m\n",
      "File \u001b[1;32mc:\\Users\\Dominika\\anaconda3\\envs\\pyth12\\Lib\\site-packages\\rdflib\\plugins\\parsers\\notation3.py:1885\u001b[0m, in \u001b[0;36mRDFSink.makeStatement\u001b[1;34m(self, quadruple, why)\u001b[0m\n\u001b[0;32m   1882\u001b[0m \u001b[38;5;28;01mdef\u001b[39;00m \u001b[38;5;21msetDefaultNamespace\u001b[39m(\u001b[38;5;28mself\u001b[39m, \u001b[38;5;241m*\u001b[39margs: \u001b[38;5;28mbytes\u001b[39m) \u001b[38;5;241m-\u001b[39m\u001b[38;5;241m>\u001b[39m \u001b[38;5;28mstr\u001b[39m:\n\u001b[0;32m   1883\u001b[0m     \u001b[38;5;28;01mreturn\u001b[39;00m \u001b[38;5;124m\"\u001b[39m\u001b[38;5;124m:\u001b[39m\u001b[38;5;124m\"\u001b[39m\u001b[38;5;241m.\u001b[39mjoin(\u001b[38;5;28mrepr\u001b[39m(n) \u001b[38;5;28;01mfor\u001b[39;00m n \u001b[38;5;129;01min\u001b[39;00m args)\n\u001b[1;32m-> 1885\u001b[0m \u001b[38;5;28;01mdef\u001b[39;00m \u001b[38;5;21mmakeStatement\u001b[39m(\n\u001b[0;32m   1886\u001b[0m     \u001b[38;5;28mself\u001b[39m,\n\u001b[0;32m   1887\u001b[0m     quadruple: Tuple[Optional[Union[Formula, Graph]], Node, Node, Node],\n\u001b[0;32m   1888\u001b[0m     why: Optional[Any] \u001b[38;5;241m=\u001b[39m \u001b[38;5;28;01mNone\u001b[39;00m,\n\u001b[0;32m   1889\u001b[0m ) \u001b[38;5;241m-\u001b[39m\u001b[38;5;241m>\u001b[39m \u001b[38;5;28;01mNone\u001b[39;00m:\n\u001b[0;32m   1890\u001b[0m     f, p, s, o \u001b[38;5;241m=\u001b[39m quadruple\n\u001b[0;32m   1892\u001b[0m     \u001b[38;5;28;01mif\u001b[39;00m \u001b[38;5;28mhasattr\u001b[39m(p, \u001b[38;5;124m\"\u001b[39m\u001b[38;5;124mformula\u001b[39m\u001b[38;5;124m\"\u001b[39m):\n",
      "\u001b[1;31mKeyboardInterrupt\u001b[0m: "
     ]
    }
   ],
   "source": [
    "g = Graph()\n",
    "\n",
    "g.parse(\"train_data_from_spaqrl_onlysub.ttl\")"
   ]
  },
  {
   "cell_type": "code",
   "execution_count": 5,
   "metadata": {},
   "outputs": [
    {
     "name": "stdout",
     "output_type": "stream",
     "text": [
      "3783982\n"
     ]
    }
   ],
   "source": [
    "q = \"\"\"\n",
    "SELECT ?s ?p ?o\n",
    "{\n",
    "    ?s ?p ?o\n",
    "}\n",
    "\"\"\"\n",
    "\n",
    "gq = g.query(q)\n",
    "\n",
    "\n",
    "train_taxons = []\n",
    "\n",
    "for row in gq:\n",
    "    if (row.s[0:40] == \"http://purl.obolibrary.org/obo/NCBITaxon\"):\n",
    "        train_taxons.append(rdflib.term.URIRef(row.s))\n",
    "\n",
    "print(len(train_taxons))"
   ]
  },
  {
   "cell_type": "code",
   "execution_count": 6,
   "metadata": {},
   "outputs": [],
   "source": [
    "import csv\n",
    "with open('train_taxonst_second_try.tsv', 'w', newline='\\n') as f:\n",
    "     \n",
    "    # using csv.writer method from CSV package\n",
    "    write = csv.writer(f)\n",
    "     \n",
    "    write.writerows([train_taxons])"
   ]
  },
  {
   "cell_type": "code",
   "execution_count": 3,
   "metadata": {},
   "outputs": [],
   "source": [
    "df = pd.read_csv(\"train_taxonst_second_try.tsv\", lineterminator = \",\", header=None)\n"
   ]
  },
  {
   "cell_type": "code",
   "execution_count": 4,
   "metadata": {},
   "outputs": [
    {
     "data": {
      "text/html": [
       "<div>\n",
       "<style scoped>\n",
       "    .dataframe tbody tr th:only-of-type {\n",
       "        vertical-align: middle;\n",
       "    }\n",
       "\n",
       "    .dataframe tbody tr th {\n",
       "        vertical-align: top;\n",
       "    }\n",
       "\n",
       "    .dataframe thead th {\n",
       "        text-align: right;\n",
       "    }\n",
       "</style>\n",
       "<table border=\"1\" class=\"dataframe\">\n",
       "  <thead>\n",
       "    <tr style=\"text-align: right;\">\n",
       "      <th></th>\n",
       "      <th>0</th>\n",
       "    </tr>\n",
       "  </thead>\n",
       "  <tbody>\n",
       "    <tr>\n",
       "      <th>0</th>\n",
       "      <td>http://purl.obolibrary.org/obo/NCBITaxon_1241306</td>\n",
       "    </tr>\n",
       "    <tr>\n",
       "      <th>1</th>\n",
       "      <td>http://purl.obolibrary.org/obo/NCBITaxon_2719337</td>\n",
       "    </tr>\n",
       "    <tr>\n",
       "      <th>2</th>\n",
       "      <td>http://purl.obolibrary.org/obo/NCBITaxon_1004261</td>\n",
       "    </tr>\n",
       "    <tr>\n",
       "      <th>3</th>\n",
       "      <td>http://purl.obolibrary.org/obo/NCBITaxon_1633686</td>\n",
       "    </tr>\n",
       "    <tr>\n",
       "      <th>4</th>\n",
       "      <td>http://purl.obolibrary.org/obo/NCBITaxon_2644557</td>\n",
       "    </tr>\n",
       "    <tr>\n",
       "      <th>...</th>\n",
       "      <td>...</td>\n",
       "    </tr>\n",
       "    <tr>\n",
       "      <th>3783977</th>\n",
       "      <td>http://purl.obolibrary.org/obo/NCBITaxon_1051666</td>\n",
       "    </tr>\n",
       "    <tr>\n",
       "      <th>3783978</th>\n",
       "      <td>http://purl.obolibrary.org/obo/NCBITaxon_1250044</td>\n",
       "    </tr>\n",
       "    <tr>\n",
       "      <th>3783979</th>\n",
       "      <td>http://purl.obolibrary.org/obo/NCBITaxon_1467204</td>\n",
       "    </tr>\n",
       "    <tr>\n",
       "      <th>3783980</th>\n",
       "      <td>http://purl.obolibrary.org/obo/NCBITaxon_2804029</td>\n",
       "    </tr>\n",
       "    <tr>\n",
       "      <th>3783981</th>\n",
       "      <td>http://purl.obolibrary.org/obo/NCBITaxon_15719...</td>\n",
       "    </tr>\n",
       "  </tbody>\n",
       "</table>\n",
       "<p>3783982 rows × 1 columns</p>\n",
       "</div>"
      ],
      "text/plain": [
       "                                                         0\n",
       "0         http://purl.obolibrary.org/obo/NCBITaxon_1241306\n",
       "1         http://purl.obolibrary.org/obo/NCBITaxon_2719337\n",
       "2         http://purl.obolibrary.org/obo/NCBITaxon_1004261\n",
       "3         http://purl.obolibrary.org/obo/NCBITaxon_1633686\n",
       "4         http://purl.obolibrary.org/obo/NCBITaxon_2644557\n",
       "...                                                    ...\n",
       "3783977   http://purl.obolibrary.org/obo/NCBITaxon_1051666\n",
       "3783978   http://purl.obolibrary.org/obo/NCBITaxon_1250044\n",
       "3783979   http://purl.obolibrary.org/obo/NCBITaxon_1467204\n",
       "3783980   http://purl.obolibrary.org/obo/NCBITaxon_2804029\n",
       "3783981  http://purl.obolibrary.org/obo/NCBITaxon_15719...\n",
       "\n",
       "[3783982 rows x 1 columns]"
      ]
     },
     "execution_count": 4,
     "metadata": {},
     "output_type": "execute_result"
    }
   ],
   "source": [
    "df"
   ]
  },
  {
   "cell_type": "code",
   "execution_count": 5,
   "metadata": {},
   "outputs": [
    {
     "data": {
      "text/plain": [
       "<Graph identifier=Nfcf0a50203ae47ff82aa712fa6ce8a8c (<class 'rdflib.graph.Graph'>)>"
      ]
     },
     "execution_count": 5,
     "metadata": {},
     "output_type": "execute_result"
    }
   ],
   "source": [
    "new_g = Graph()\n",
    "\n",
    "new_g.parse(\"kg-mic.ttl\")"
   ]
  },
  {
   "cell_type": "code",
   "execution_count": 6,
   "metadata": {},
   "outputs": [
    {
     "name": "stdout",
     "output_type": "stream",
     "text": [
      "zacatek:  6827261\n",
      "0\n",
      "100000\n",
      "200000\n",
      "300000\n",
      "400000\n",
      "500000\n",
      "600000\n",
      "700000\n",
      "800000\n",
      "900000\n",
      "1000000\n",
      "1100000\n",
      "1200000\n",
      "1300000\n",
      "1400000\n",
      "1500000\n",
      "1600000\n",
      "1700000\n",
      "1800000\n",
      "1900000\n",
      "2000000\n",
      "2100000\n",
      "2200000\n",
      "2300000\n",
      "2400000\n",
      "2500000\n",
      "2600000\n",
      "2700000\n",
      "2800000\n",
      "2900000\n",
      "3000000\n",
      "3100000\n",
      "3200000\n",
      "3300000\n",
      "3400000\n",
      "3500000\n",
      "3600000\n",
      "3700000\n",
      "konec:  3043279\n"
     ]
    }
   ],
   "source": [
    "query = \"\"\"\n",
    "SELECT ?s ?p ?o\n",
    "WHERE {\n",
    "  ?s ?p ?o .\n",
    "}\n",
    "\"\"\"\n",
    "print(\"zacatek: \",len(new_g))\n",
    "\n",
    "for i in range(len(df)): \n",
    "    subjectitos = rdflib.term.URIRef(df[0][i])\n",
    "    filtered_gq = new_g.query(query, initBindings = {\n",
    "        \"s\": subjectitos\n",
    "    })\n",
    "    for row in filtered_gq:\n",
    "        new_g.remove(row)\n",
    "    if i % 100000 == 0:\n",
    "        print(i)\n",
    "\n",
    "print(\"konec: \",len(new_g))"
   ]
  },
  {
   "cell_type": "code",
   "execution_count": 7,
   "metadata": {},
   "outputs": [
    {
     "data": {
      "text/plain": [
       "<Graph identifier=Nfcf0a50203ae47ff82aa712fa6ce8a8c (<class 'rdflib.graph.Graph'>)>"
      ]
     },
     "execution_count": 7,
     "metadata": {},
     "output_type": "execute_result"
    }
   ],
   "source": [
    "new_g.serialize(destination=\"test_data_from_spaqrl_onlysub.ttl\")"
   ]
  },
  {
   "cell_type": "code",
   "execution_count": 44,
   "metadata": {},
   "outputs": [
    {
     "name": "stdout",
     "output_type": "stream",
     "text": [
      "157\n"
     ]
    }
   ],
   "source": [
    "query = \"\"\"\n",
    "SELECT ?s ?p ?o\n",
    "WHERE {\n",
    "  ?s ?p ?o .\n",
    "}\n",
    "\"\"\"\n",
    "new_graph_train = Graph()\n",
    "\n",
    "filtered_gq = g.query(query, initBindings = {\n",
    "        \"o\": rdflib.term.URIRef(\"urn:unknown:medium%3A92\")\n",
    "    })\n",
    "\n",
    "print(len(filtered_gq))"
   ]
  },
  {
   "cell_type": "code",
   "execution_count": 45,
   "metadata": {},
   "outputs": [
    {
     "name": "stdout",
     "output_type": "stream",
     "text": [
      "42839\n"
     ]
    }
   ],
   "source": [
    "query = \"\"\"\n",
    "SELECT ?s ?p ?o\n",
    "WHERE {\n",
    "  ?s ?p ?o .\n",
    "}\n",
    "\"\"\"\n",
    "\n",
    "#new_graph_show = Graph()\n",
    "for row in filtered_gq:\n",
    "    filtered = g.query(query, initBindings = {\n",
    "        \"s\": rdflib.term.URIRef(row.s)\n",
    "    })\n",
    "    new_graph_show += filtered\n",
    "\n",
    "print(len(new_graph_show))"
   ]
  },
  {
   "cell_type": "code",
   "execution_count": 46,
   "metadata": {},
   "outputs": [
    {
     "name": "stdout",
     "output_type": "stream",
     "text": [
      "44917\n"
     ]
    }
   ],
   "source": [
    "query = \"\"\"\n",
    "SELECT ?s ?p ?o\n",
    "WHERE {\n",
    "  ?s ?p ?o .\n",
    "}\n",
    "\"\"\"\n",
    "\n",
    "for row in filtered_gq:\n",
    "    filtered = g.query(query, initBindings = {\n",
    "        \"o\": rdflib.term.URIRef(row.s)\n",
    "    })\n",
    "    new_graph_show += filtered\n",
    "\n",
    "print(len(new_graph_show))"
   ]
  },
  {
   "cell_type": "code",
   "execution_count": 47,
   "metadata": {},
   "outputs": [
    {
     "data": {
      "text/plain": [
       "44917"
      ]
     },
     "execution_count": 47,
     "metadata": {},
     "output_type": "execute_result"
    }
   ],
   "source": [
    "show_graph = Graph()\n",
    "for row in new_graph_show:\n",
    "    show_graph.add(row)\n",
    "\n",
    "len(show_graph)"
   ]
  },
  {
   "cell_type": "code",
   "execution_count": 48,
   "metadata": {},
   "outputs": [
    {
     "data": {
      "text/plain": [
       "<Graph identifier=N2e6f0ecb84e54dcf82d2825c5dd28301 (<class 'rdflib.graph.Graph'>)>"
      ]
     },
     "execution_count": 48,
     "metadata": {},
     "output_type": "execute_result"
    }
   ],
   "source": [
    "show_graph.serialize(destination=\"bestof_graph.ttl\")"
   ]
  },
  {
   "cell_type": "code",
   "execution_count": null,
   "metadata": {},
   "outputs": [],
   "source": []
  }
 ],
 "metadata": {
  "kernelspec": {
   "display_name": "pyth12",
   "language": "python",
   "name": "python3"
  },
  "language_info": {
   "codemirror_mode": {
    "name": "ipython",
    "version": 3
   },
   "file_extension": ".py",
   "mimetype": "text/x-python",
   "name": "python",
   "nbconvert_exporter": "python",
   "pygments_lexer": "ipython3",
   "version": "3.12.3"
  }
 },
 "nbformat": 4,
 "nbformat_minor": 2
}
