{
 "cells": [
  {
   "cell_type": "code",
   "execution_count": 1,
   "metadata": {},
   "outputs": [],
   "source": [
    "#!pip install rdflib\n",
    "import rdflib\n",
    "from rdflib import Graph\n",
    "import pandas as pd\n",
    "import json\n",
    "import urllib.parse"
   ]
  },
  {
   "cell_type": "code",
   "execution_count": 2,
   "metadata": {},
   "outputs": [],
   "source": [
    "with open('C:/Users/Dominika/Downloads/predicted test.json', 'r') as file:\n",
    "    ruleset = json.load(file)"
   ]
  },
  {
   "cell_type": "code",
   "execution_count": 3,
   "metadata": {},
   "outputs": [
    {
     "name": "stdout",
     "output_type": "stream",
     "text": [
      "243\n"
     ]
    }
   ],
   "source": [
    "maybeGood = []\n",
    "for rule in ruleset:\n",
    "    if (rule[\"candidates\"][0][\"predictedResult\"] == \"Positive\"):\n",
    "        maybeGood.append([rule[\"candidates\"][0][\"triple\"][\"subject\"][\"localName\"], rule[\"candidates\"][0][\"triple\"][\"object\"]])\n",
    "\n",
    "print(len(maybeGood))"
   ]
  },
  {
   "cell_type": "code",
   "execution_count": 4,
   "metadata": {},
   "outputs": [
    {
     "data": {
      "text/plain": [
       "[['NCBITaxon_1055466', '<urn:unknown:medium%3A65>'],\n",
       " ['NCBITaxon_233316', '<urn:unknown:medium%3A514>'],\n",
       " ['NCBITaxon_237656', '<urn:unknown:medium%3A65>'],\n",
       " ['NCBITaxon_323423', '<urn:unknown:medium%3A830>'],\n",
       " ['NCBITaxon_252305', '<urn:unknown:medium%3A514>'],\n",
       " ['NCBITaxon_561505', '<urn:unknown:medium%3A514>'],\n",
       " ['NCBITaxon_679319', '<urn:unknown:medium%3A65>'],\n",
       " ['NCBITaxon_1402', '<urn:unknown:medium%3A92>'],\n",
       " ['NCBITaxon_115561', '<urn:unknown:medium%3A514>'],\n",
       " ['NCBITaxon_1245475', '<urn:unknown:medium%3A65>'],\n",
       " ['NCBITaxon_2020703', '<urn:unknown:medium%3A65>'],\n",
       " ['NCBITaxon_1488406', '<urn:unknown:medium%3A65>'],\n",
       " ['NCBITaxon_359303', '<urn:unknown:medium%3A514>'],\n",
       " ['NCBITaxon_38746', '<urn:unknown:medium%3A1076b>'],\n",
       " ['NCBITaxon_546270', '<urn:unknown:medium%3A693>'],\n",
       " ['NCBITaxon_232', '<urn:unknown:medium%3A514>'],\n",
       " ['NCBITaxon_546365', '<urn:unknown:medium%3A65>'],\n",
       " ['NCBITaxon_1587527', '<urn:unknown:medium%3A514>'],\n",
       " ['NCBITaxon_319707', '<urn:unknown:medium%3A645>'],\n",
       " ['NCBITaxon_311194', '<urn:unknown:medium%3A514>'],\n",
       " ['NCBITaxon_588604', '<urn:unknown:medium%3A514>'],\n",
       " ['NCBITaxon_1348637', '<urn:unknown:medium%3A65>'],\n",
       " ['NCBITaxon_679663', '<urn:unknown:medium%3A693>'],\n",
       " ['NCBITaxon_1121954', '<urn:unknown:medium%3A830>'],\n",
       " ['NCBITaxon_663602', '<urn:unknown:medium%3A65>'],\n",
       " ['NCBITaxon_670863', '<urn:unknown:medium%3A514>'],\n",
       " ['NCBITaxon_1502943', '<urn:unknown:medium%3A693>'],\n",
       " ['NCBITaxon_1397475', '<urn:unknown:medium%3A514>'],\n",
       " ['NCBITaxon_882378', '<urn:unknown:medium%3A830>'],\n",
       " ['NCBITaxon_1159213', '<urn:unknown:medium%3A104>'],\n",
       " ['NCBITaxon_1505725', '<urn:unknown:medium%3A11>'],\n",
       " ['NCBITaxon_179819', '<urn:unknown:medium%3A65>'],\n",
       " ['NCBITaxon_657014', '<urn:unknown:medium%3A514>'],\n",
       " ['NCBITaxon_1343159', '<urn:unknown:medium%3A514>'],\n",
       " ['NCBITaxon_416873', '<urn:unknown:medium%3A514>'],\n",
       " ['NCBITaxon_1814128', '<urn:unknown:medium%3A693>'],\n",
       " ['NCBITaxon_1121924', '<urn:unknown:medium%3A92>'],\n",
       " ['NCBITaxon_1460371', '<urn:unknown:medium%3A65>'],\n",
       " ['NCBITaxon_394264', '<urn:unknown:medium%3A514>'],\n",
       " ['NCBITaxon_282402', '<urn:unknown:medium%3AJ14>'],\n",
       " ['NCBITaxon_715785', '<urn:unknown:medium%3A65>'],\n",
       " ['NCBITaxon_129921', '<urn:unknown:medium%3A65>'],\n",
       " ['NCBITaxon_72026', '<urn:unknown:medium%3A693>'],\n",
       " ['NCBITaxon_414050', '<urn:unknown:medium%3A830>'],\n",
       " ['NCBITaxon_1122617', '<urn:unknown:medium%3A514>'],\n",
       " ['NCBITaxon_1206721', '<urn:unknown:medium%3A65>'],\n",
       " ['NCBITaxon_1123498', '<urn:unknown:medium%3A514>'],\n",
       " ['NCBITaxon_280871', '<urn:unknown:medium%3A645>'],\n",
       " ['NCBITaxon_1460875', '<urn:unknown:medium%3A693>'],\n",
       " ['NCBITaxon_149015', '<urn:unknown:medium%3A92>'],\n",
       " ['NCBITaxon_435908', '<urn:unknown:medium%3A514>'],\n",
       " ['NCBITaxon_1121931', '<urn:unknown:medium%3A514>'],\n",
       " ['NCBITaxon_256702', '<urn:unknown:medium%3A92>'],\n",
       " ['NCBITaxon_1236530', '<urn:unknown:medium%3A693>'],\n",
       " ['NCBITaxon_745311', '<urn:unknown:medium%3A514>'],\n",
       " ['NCBITaxon_981336', '<urn:unknown:medium%3A693>'],\n",
       " ['NCBITaxon_46178', '<urn:unknown:medium%3A65>'],\n",
       " ['NCBITaxon_535904', '<urn:unknown:medium%3A830>'],\n",
       " ['NCBITaxon_1285929', '<urn:unknown:medium%3A830>'],\n",
       " ['NCBITaxon_258533', '<urn:unknown:medium%3A645>'],\n",
       " ['NCBITaxon_1434700', '<urn:unknown:medium%3A514>'],\n",
       " ['NCBITaxon_1490222', '<urn:unknown:medium%3A65>'],\n",
       " ['NCBITaxon_393060', '<urn:unknown:medium%3A514>'],\n",
       " ['NCBITaxon_75291', '<urn:unknown:medium%3A65>'],\n",
       " ['NCBITaxon_1094551', '<urn:unknown:medium%3A693>'],\n",
       " ['NCBITaxon_2801452', '<urn:unknown:medium%3A11>'],\n",
       " ['NCBITaxon_67385', '<urn:unknown:medium%3A65>'],\n",
       " ['NCBITaxon_1123267', '<urn:unknown:medium%3A830>'],\n",
       " ['NCBITaxon_681644', '<urn:unknown:medium%3A65>'],\n",
       " ['NCBITaxon_1780362', '<urn:unknown:medium%3A693>'],\n",
       " ['NCBITaxon_999611', '<urn:unknown:medium%3A514>'],\n",
       " ['NCBITaxon_714136', '<urn:unknown:medium%3A65>'],\n",
       " ['NCBITaxon_416872', '<urn:unknown:medium%3A514>'],\n",
       " ['NCBITaxon_34060', '<urn:unknown:medium%3A693>'],\n",
       " ['NCBITaxon_505252', '<urn:unknown:medium%3A514>'],\n",
       " ['NCBITaxon_1219043', '<urn:unknown:medium%3A830>'],\n",
       " ['NCBITaxon_1912094', '<urn:unknown:medium%3A514>'],\n",
       " ['NCBITaxon_67269', '<urn:unknown:medium%3A65>'],\n",
       " ['NCBITaxon_664639', '<urn:unknown:medium%3A92>'],\n",
       " ['NCBITaxon_81034', '<urn:unknown:medium%3A514>'],\n",
       " ['NCBITaxon_663386', '<urn:unknown:medium%3A65>'],\n",
       " ['NCBITaxon_859059', '<urn:unknown:medium%3A514>'],\n",
       " ['NCBITaxon_1566026', '<urn:unknown:medium%3A514>'],\n",
       " ['NCBITaxon_159450', '<urn:unknown:medium%3A830>'],\n",
       " ['NCBITaxon_29347', '<urn:unknown:medium%3AJ14>'],\n",
       " ['NCBITaxon_1423759', '<urn:unknown:medium%3A11>'],\n",
       " ['NCBITaxon_990712', '<urn:unknown:medium%3A514>'],\n",
       " ['NCBITaxon_435914', '<urn:unknown:medium%3A65>'],\n",
       " ['NCBITaxon_860233', '<urn:unknown:medium%3A65>'],\n",
       " ['NCBITaxon_155976', '<urn:unknown:medium%3A65>'],\n",
       " ['NCBITaxon_447422', '<urn:unknown:medium%3A514>'],\n",
       " ['NCBITaxon_1223504', '<urn:unknown:medium%3A693>'],\n",
       " ['NCBITaxon_1359', '<urn:unknown:medium%3A92>'],\n",
       " ['NCBITaxon_2666047', '<urn:unknown:medium%3A830>'],\n",
       " ['NCBITaxon_2291022', '<urn:unknown:medium%3A92>'],\n",
       " ['NCBITaxon_1450649', '<urn:unknown:medium%3A11>'],\n",
       " ['NCBITaxon_1121382', '<urn:unknown:medium%3A830>'],\n",
       " ['NCBITaxon_1965231', '<urn:unknown:medium%3A693>'],\n",
       " ['NCBITaxon_661493', '<urn:unknown:medium%3A830>'],\n",
       " ['NCBITaxon_1393034', '<urn:unknown:medium%3A693>'],\n",
       " ['NCBITaxon_204891', '<urn:unknown:medium%3A65>'],\n",
       " ['NCBITaxon_1403347', '<urn:unknown:medium%3A92>'],\n",
       " ['NCBITaxon_1665', '<urn:unknown:medium%3A92>'],\n",
       " ['NCBITaxon_985055', '<urn:unknown:medium%3A514>'],\n",
       " ['NCBITaxon_1181882', '<urn:unknown:medium%3A65>'],\n",
       " ['NCBITaxon_138300', '<urn:unknown:medium%3A92>'],\n",
       " ['NCBITaxon_1107316', '<urn:unknown:medium%3A693>'],\n",
       " ['NCBITaxon_529005', '<urn:unknown:medium%3A830>'],\n",
       " ['NCBITaxon_44935', '<urn:unknown:medium%3A514>'],\n",
       " ['NCBITaxon_66854', '<urn:unknown:medium%3A65>'],\n",
       " ['NCBITaxon_1286148', '<urn:unknown:medium%3A514>'],\n",
       " ['NCBITaxon_556055', '<urn:unknown:medium%3A830>'],\n",
       " ['NCBITaxon_2115', '<urn:unknown:medium%3A1076b>'],\n",
       " ['NCBITaxon_947835', '<urn:unknown:medium%3A11>'],\n",
       " ['NCBITaxon_349064', '<urn:unknown:medium%3A514>'],\n",
       " ['NCBITaxon_1707527', '<urn:unknown:medium%3A830>'],\n",
       " ['NCBITaxon_1217715', '<urn:unknown:medium%3A693>'],\n",
       " ['NCBITaxon_1384509', '<urn:unknown:medium%3A693>'],\n",
       " ['NCBITaxon_945550', '<urn:unknown:medium%3A514>'],\n",
       " ['NCBITaxon_1122212', '<urn:unknown:medium%3A514>'],\n",
       " ['NCBITaxon_264027', '<urn:unknown:medium%3A514>'],\n",
       " ['NCBITaxon_75292', '<urn:unknown:medium%3A65>'],\n",
       " ['NCBITaxon_1123366', '<urn:unknown:medium%3A514>'],\n",
       " ['NCBITaxon_626223', '<urn:unknown:medium%3A514>'],\n",
       " ['NCBITaxon_1564158', '<urn:unknown:medium%3A65>'],\n",
       " ['NCBITaxon_1123076', '<urn:unknown:medium%3A830>'],\n",
       " ['NCBITaxon_1710544', '<urn:unknown:medium%3A92>'],\n",
       " ['NCBITaxon_1210100', '<urn:unknown:medium%3A65>'],\n",
       " ['NCBITaxon_1233170', '<urn:unknown:medium%3AJ14>'],\n",
       " ['NCBITaxon_2759526', '<urn:unknown:medium%3A830>'],\n",
       " ['NCBITaxon_907463', '<urn:unknown:medium%3A65>'],\n",
       " ['NCBITaxon_1869', '<urn:unknown:medium%3A65>'],\n",
       " ['NCBITaxon_129578', '<urn:unknown:medium%3A514>'],\n",
       " ['NCBITaxon_75985', '<urn:unknown:medium%3A693>'],\n",
       " ['NCBITaxon_1265313', '<urn:unknown:medium%3A514>'],\n",
       " ['NCBITaxon_1942', '<urn:unknown:medium%3A65>'],\n",
       " ['NCBITaxon_1117320', '<urn:unknown:medium%3A514>'],\n",
       " ['NCBITaxon_416874', '<urn:unknown:medium%3A514>'],\n",
       " ['NCBITaxon_1121370', '<urn:unknown:medium%3A693>'],\n",
       " ['NCBITaxon_930854', '<urn:unknown:medium%3A693>'],\n",
       " ['NCBITaxon_701175', '<urn:unknown:medium%3A514>'],\n",
       " ['NCBITaxon_363837', '<urn:unknown:medium%3A830>'],\n",
       " ['NCBITaxon_1117318', '<urn:unknown:medium%3A514>'],\n",
       " ['NCBITaxon_1280846', '<urn:unknown:medium%3A514>'],\n",
       " ['NCBITaxon_363843', '<urn:unknown:medium%3A830>'],\n",
       " ['NCBITaxon_1315283', '<urn:unknown:medium%3A514>'],\n",
       " ['NCBITaxon_661492', '<urn:unknown:medium%3A830>'],\n",
       " ['NCBITaxon_81037', '<urn:unknown:medium%3A514>'],\n",
       " ['NCBITaxon_190892', '<urn:unknown:medium%3A514>'],\n",
       " ['NCBITaxon_1206724', '<urn:unknown:medium%3A65>'],\n",
       " ['NCBITaxon_273032', '<urn:unknown:medium%3A514>'],\n",
       " ['NCBITaxon_351345', '<urn:unknown:medium%3A830>'],\n",
       " ['NCBITaxon_620889', '<urn:unknown:medium%3A514>'],\n",
       " ['NCBITaxon_135948', '<urn:unknown:medium%3A65>'],\n",
       " ['NCBITaxon_386911', '<urn:unknown:medium%3A645>'],\n",
       " ['NCBITaxon_264739', '<urn:unknown:medium%3A514>'],\n",
       " ['NCBITaxon_1162633', '<urn:unknown:medium%3A11>'],\n",
       " ['NCBITaxon_2024860', '<urn:unknown:medium%3A514>'],\n",
       " ['NCBITaxon_416943', '<urn:unknown:medium%3A830>'],\n",
       " ['NCBITaxon_728005', '<urn:unknown:medium%3A830>'],\n",
       " ['NCBITaxon_33910', '<urn:unknown:medium%3A65>'],\n",
       " ['NCBITaxon_215743', '<urn:unknown:medium%3A514>'],\n",
       " ['NCBITaxon_1217988', '<urn:unknown:medium%3A693>'],\n",
       " ['NCBITaxon_501010', '<urn:unknown:medium%3A65>'],\n",
       " ['NCBITaxon_53458', '<urn:unknown:medium%3A92>'],\n",
       " ['NCBITaxon_1639118', '<urn:unknown:medium%3A514>'],\n",
       " ['NCBITaxon_66904', '<urn:unknown:medium%3A65>'],\n",
       " ['NCBITaxon_1122133', '<urn:unknown:medium%3A830>'],\n",
       " ['NCBITaxon_1871111', '<urn:unknown:medium%3A693>'],\n",
       " ['NCBITaxon_2212479', '<urn:unknown:medium%3A645>'],\n",
       " ['NCBITaxon_1055355', '<urn:unknown:medium%3A830>'],\n",
       " ['NCBITaxon_1161099', '<urn:unknown:medium%3A693>'],\n",
       " ['NCBITaxon_228230', '<urn:unknown:medium%3A645>'],\n",
       " ['NCBITaxon_52131', '<urn:unknown:medium%3A98>'],\n",
       " ['NCBITaxon_1028750', '<urn:unknown:medium%3A514>'],\n",
       " ['NCBITaxon_1806669', '<urn:unknown:medium%3A514>'],\n",
       " ['NCBITaxon_1121937', '<urn:unknown:medium%3A514>'],\n",
       " ['NCBITaxon_1267754', '<urn:unknown:medium%3A693>'],\n",
       " ['NCBITaxon_442562', '<urn:unknown:medium%3A830>'],\n",
       " ['NCBITaxon_1816', '<urn:unknown:medium%3A65>'],\n",
       " ['NCBITaxon_1120953', '<urn:unknown:medium%3A514>'],\n",
       " ['NCBITaxon_1120947', '<urn:unknown:medium%3A693>'],\n",
       " ['NCBITaxon_145996', '<urn:unknown:medium%3A65>'],\n",
       " ['NCBITaxon_1328867', '<urn:unknown:medium%3A92>'],\n",
       " ['NCBITaxon_67377', '<urn:unknown:medium%3A65>'],\n",
       " ['NCBITaxon_1315282', '<urn:unknown:medium%3A514>'],\n",
       " ['NCBITaxon_1549945', '<urn:unknown:medium%3A98>'],\n",
       " ['NCBITaxon_391619', '<urn:unknown:medium%3A514>'],\n",
       " ['NCBITaxon_1079859', '<urn:unknown:medium%3A830>'],\n",
       " ['NCBITaxon_1120964', '<urn:unknown:medium%3A514>'],\n",
       " ['NCBITaxon_394193', '<urn:unknown:medium%3A65>'],\n",
       " ['NCBITaxon_502394', '<urn:unknown:medium%3A92>'],\n",
       " ['NCBITaxon_266809', '<urn:unknown:medium%3A514>'],\n",
       " ['NCBITaxon_1932117', '<urn:unknown:medium%3A830>'],\n",
       " ['NCBITaxon_688270', '<urn:unknown:medium%3A514>'],\n",
       " ['NCBITaxon_1486859', '<urn:unknown:medium%3A514>'],\n",
       " ['NCBITaxon_865937', '<urn:unknown:medium%3A514>'],\n",
       " ['NCBITaxon_1005928', '<urn:unknown:medium%3A514>'],\n",
       " ['NCBITaxon_68238', '<urn:unknown:medium%3A65>'],\n",
       " ['NCBITaxon_525337', '<urn:unknown:medium%3A11>'],\n",
       " ['NCBITaxon_568818', '<urn:unknown:medium%3A65>'],\n",
       " ['NCBITaxon_545123', '<urn:unknown:medium%3A65>'],\n",
       " ['NCBITaxon_987045', '<urn:unknown:medium%3A65>'],\n",
       " ['NCBITaxon_60520', '<urn:unknown:medium%3A11>'],\n",
       " ['NCBITaxon_53249', '<urn:unknown:medium%3A514>'],\n",
       " ['NCBITaxon_1397108', '<urn:unknown:medium%3A514>'],\n",
       " ['NCBITaxon_1080227', '<urn:unknown:medium%3A514>'],\n",
       " ['NCBITaxon_930130', '<urn:unknown:medium%3A514>'],\n",
       " ['NCBITaxon_520092', '<urn:unknown:medium%3A830>'],\n",
       " ['NCBITaxon_280618', '<urn:unknown:medium%3A65>'],\n",
       " ['NCBITaxon_1217420', '<urn:unknown:medium%3A11>'],\n",
       " ['NCBITaxon_1004326', '<urn:unknown:medium%3A514>'],\n",
       " ['NCBITaxon_624383', '<urn:unknown:medium%3A65>'],\n",
       " ['NCBITaxon_1905676', '<urn:unknown:medium%3A514>'],\n",
       " ['NCBITaxon_712036', '<urn:unknown:medium%3A514>'],\n",
       " ['NCBITaxon_243061', '<urn:unknown:medium%3A645>'],\n",
       " ['NCBITaxon_653357', '<urn:unknown:medium%3A65>'],\n",
       " ['NCBITaxon_29305', '<urn:unknown:medium%3A65>'],\n",
       " ['NCBITaxon_236508', '<urn:unknown:medium%3A65>'],\n",
       " ['NCBITaxon_403638', '<urn:unknown:medium%3A65>'],\n",
       " ['NCBITaxon_226011', '<urn:unknown:medium%3A514>'],\n",
       " ['NCBITaxon_574349', '<urn:unknown:medium%3A514>'],\n",
       " ['NCBITaxon_576117', '<urn:unknown:medium%3A514>'],\n",
       " ['NCBITaxon_1571224', '<urn:unknown:medium%3A514>'],\n",
       " ['NCBITaxon_1123322', '<urn:unknown:medium%3A65>'],\n",
       " ['NCBITaxon_413306', '<urn:unknown:medium%3A65>'],\n",
       " ['NCBITaxon_355243', '<urn:unknown:medium%3A514>'],\n",
       " ['NCBITaxon_1120945', '<urn:unknown:medium%3A693>'],\n",
       " ['NCBITaxon_948106', '<urn:unknown:medium%3A830>'],\n",
       " ['NCBITaxon_338584', '<urn:unknown:medium%3A65>'],\n",
       " ['NCBITaxon_469799', '<urn:unknown:medium%3A92>'],\n",
       " ['NCBITaxon_84158', '<urn:unknown:medium%3A514>'],\n",
       " ['NCBITaxon_2358193', '<urn:unknown:medium%3A645>'],\n",
       " ['NCBITaxon_1347342', '<urn:unknown:medium%3A514>'],\n",
       " ['NCBITaxon_329993', '<urn:unknown:medium%3A514>'],\n",
       " ['NCBITaxon_88233', '<urn:unknown:medium%3A11>'],\n",
       " ['NCBITaxon_460870', '<urn:unknown:medium%3A11>'],\n",
       " ['NCBITaxon_281738', '<urn:unknown:medium%3A514>'],\n",
       " ['NCBITaxon_1219070', '<urn:unknown:medium%3A514>'],\n",
       " ['NCBITaxon_633', '<urn:unknown:medium%3A693>'],\n",
       " ['NCBITaxon_931533', '<urn:unknown:medium%3A11>'],\n",
       " ['NCBITaxon_215', '<urn:unknown:medium%3A693>'],\n",
       " ['NCBITaxon_1897614', '<urn:unknown:medium%3A514>']]"
      ]
     },
     "execution_count": 4,
     "metadata": {},
     "output_type": "execute_result"
    }
   ],
   "source": [
    "maybeGood"
   ]
  },
  {
   "cell_type": "code",
   "execution_count": 5,
   "metadata": {},
   "outputs": [
    {
     "data": {
      "text/plain": [
       "<Graph identifier=Nb5c8114edc0b41f6a3e92ded631e2c70 (<class 'rdflib.graph.Graph'>)>"
      ]
     },
     "execution_count": 5,
     "metadata": {},
     "output_type": "execute_result"
    }
   ],
   "source": [
    "g = Graph()\n",
    "g.parse(\"original_test_true.ttl\")"
   ]
  },
  {
   "cell_type": "code",
   "execution_count": 6,
   "metadata": {},
   "outputs": [],
   "source": [
    "df = pd.read_csv(\"top40_old.csv\", header=None)\n",
    "top40 = df[0].tolist()\n",
    "for i in range(len(top40)):\n",
    "    top40[i] = rdflib.term.URIRef(top40[i])"
   ]
  },
  {
   "cell_type": "code",
   "execution_count": 7,
   "metadata": {},
   "outputs": [],
   "source": [
    "support = dict.fromkeys(top40, 0)"
   ]
  },
  {
   "cell_type": "code",
   "execution_count": 8,
   "metadata": {},
   "outputs": [
    {
     "name": "stdout",
     "output_type": "stream",
     "text": [
      "0\n"
     ]
    }
   ],
   "source": [
    "query = \"\"\"\n",
    "SELECT ?s ?p ?o\n",
    "WHERE {\n",
    "  ?s ?p ?o .\n",
    "}\n",
    "\"\"\"\n",
    "\n",
    "i = 0\n",
    "not_predicted_media = []\n",
    "\n",
    "for row in maybeGood:\n",
    "   sub = \"http://purl.obolibrary.org/obo/\" + row[0]\n",
    "   obj = rdflib.term.URIRef(str(row[1]).split(\"<\")[1].split(\">\")[0])\n",
    "   filtered_gq = g.query(query, initBindings = {\n",
    "      \"s\": rdflib.term.URIRef(sub),\n",
    "      \"p\": rdflib.term.URIRef(\"https://w3id.org/biolink/vocab/occurs_in\"),\n",
    "      #\"o\": rdflib.term.URIRef(obj)\n",
    "    })\n",
    "   for triple in filtered_gq:\n",
    "      #not_predicted_media.append([triple.s, triple.o])\n",
    "      try:\n",
    "        support[triple.o] = support[triple.o] + 1\n",
    "      except:\n",
    "         i = i + 1\n",
    "         print(triple.o)\n",
    "         not_predicted_media.append(triple.o)\n",
    "      #print(triple)\n",
    "\n",
    "print(i)\n"
   ]
  },
  {
   "cell_type": "code",
   "execution_count": 11,
   "metadata": {},
   "outputs": [
    {
     "data": {
      "text/plain": [
       "[]"
      ]
     },
     "execution_count": 11,
     "metadata": {},
     "output_type": "execute_result"
    }
   ],
   "source": [
    "not_predicted_media"
   ]
  },
  {
   "cell_type": "code",
   "execution_count": 9,
   "metadata": {},
   "outputs": [
    {
     "data": {
      "text/plain": [
       "{rdflib.term.URIRef('urn:unknown:medium%3A65'): 56,\n",
       " rdflib.term.URIRef('urn:unknown:medium%3A514'): 86,\n",
       " rdflib.term.URIRef('urn:unknown:medium%3A693'): 28,\n",
       " rdflib.term.URIRef('urn:unknown:medium%3A830'): 30,\n",
       " rdflib.term.URIRef('urn:unknown:medium%3A92'): 15,\n",
       " rdflib.term.URIRef('urn:unknown:medium%3A11'): 12,\n",
       " rdflib.term.URIRef('urn:unknown:medium%3A645'): 8,\n",
       " rdflib.term.URIRef('urn:unknown:medium%3A104'): 0,\n",
       " rdflib.term.URIRef('urn:unknown:medium%3AJ14'): 4,\n",
       " rdflib.term.URIRef('urn:unknown:medium%3A1a'): 0,\n",
       " rdflib.term.URIRef('urn:unknown:medium%3A110'): 0,\n",
       " rdflib.term.URIRef('urn:unknown:medium%3A372'): 0,\n",
       " rdflib.term.URIRef('urn:unknown:medium%3A58'): 0,\n",
       " rdflib.term.URIRef('urn:unknown:medium%3A1076b'): 2,\n",
       " rdflib.term.URIRef('urn:unknown:medium%3A545'): 0,\n",
       " rdflib.term.URIRef('urn:unknown:medium%3A830c'): 0,\n",
       " rdflib.term.URIRef('urn:unknown:medium%3A553'): 0,\n",
       " rdflib.term.URIRef('urn:unknown:medium%3A104b'): 0,\n",
       " rdflib.term.URIRef('urn:unknown:medium%3A98'): 2,\n",
       " rdflib.term.URIRef('urn:unknown:medium%3A514c'): 0,\n",
       " rdflib.term.URIRef('urn:unknown:medium%3A215'): 0,\n",
       " rdflib.term.URIRef('urn:unknown:medium%3A63'): 0,\n",
       " rdflib.term.URIRef('urn:unknown:medium%3A78'): 0,\n",
       " rdflib.term.URIRef('urn:unknown:medium%3A119'): 0,\n",
       " rdflib.term.URIRef('urn:unknown:medium%3A381'): 0,\n",
       " rdflib.term.URIRef('urn:unknown:medium%3A27'): 0,\n",
       " rdflib.term.URIRef('urn:unknown:medium%3A641'): 0,\n",
       " rdflib.term.URIRef('urn:unknown:medium%3AJ574'): 0,\n",
       " rdflib.term.URIRef('urn:unknown:medium%3A514b'): 0,\n",
       " rdflib.term.URIRef('urn:unknown:medium%3A84'): 0,\n",
       " rdflib.term.URIRef('urn:unknown:medium%3A535b'): 0,\n",
       " rdflib.term.URIRef('urn:unknown:medium%3A104c'): 0,\n",
       " rdflib.term.URIRef('urn:unknown:medium%3A760'): 0,\n",
       " rdflib.term.URIRef('urn:unknown:medium%3A339'): 0,\n",
       " rdflib.term.URIRef('urn:unknown:medium%3A554'): 0,\n",
       " rdflib.term.URIRef('urn:unknown:medium%3A1560'): 0,\n",
       " rdflib.term.URIRef('urn:unknown:medium%3A195c'): 0,\n",
       " rdflib.term.URIRef('urn:unknown:medium%3A28'): 0,\n",
       " rdflib.term.URIRef('urn:unknown:medium%3A141'): 0,\n",
       " rdflib.term.URIRef('urn:unknown:medium%3A503'): 0}"
      ]
     },
     "execution_count": 9,
     "metadata": {},
     "output_type": "execute_result"
    }
   ],
   "source": [
    "support"
   ]
  },
  {
   "cell_type": "code",
   "execution_count": 10,
   "metadata": {},
   "outputs": [
    {
     "data": {
      "text/plain": [
       "{rdflib.term.URIRef('urn:unknown:medium%3A514'): 86,\n",
       " rdflib.term.URIRef('urn:unknown:medium%3A65'): 56,\n",
       " rdflib.term.URIRef('urn:unknown:medium%3A830'): 30,\n",
       " rdflib.term.URIRef('urn:unknown:medium%3A693'): 28,\n",
       " rdflib.term.URIRef('urn:unknown:medium%3A92'): 15,\n",
       " rdflib.term.URIRef('urn:unknown:medium%3A11'): 12,\n",
       " rdflib.term.URIRef('urn:unknown:medium%3A645'): 8,\n",
       " rdflib.term.URIRef('urn:unknown:medium%3AJ14'): 4,\n",
       " rdflib.term.URIRef('urn:unknown:medium%3A1076b'): 2,\n",
       " rdflib.term.URIRef('urn:unknown:medium%3A98'): 2,\n",
       " rdflib.term.URIRef('urn:unknown:medium%3A104'): 0,\n",
       " rdflib.term.URIRef('urn:unknown:medium%3A1a'): 0,\n",
       " rdflib.term.URIRef('urn:unknown:medium%3A110'): 0,\n",
       " rdflib.term.URIRef('urn:unknown:medium%3A372'): 0,\n",
       " rdflib.term.URIRef('urn:unknown:medium%3A58'): 0,\n",
       " rdflib.term.URIRef('urn:unknown:medium%3A545'): 0,\n",
       " rdflib.term.URIRef('urn:unknown:medium%3A830c'): 0,\n",
       " rdflib.term.URIRef('urn:unknown:medium%3A553'): 0,\n",
       " rdflib.term.URIRef('urn:unknown:medium%3A104b'): 0,\n",
       " rdflib.term.URIRef('urn:unknown:medium%3A514c'): 0,\n",
       " rdflib.term.URIRef('urn:unknown:medium%3A215'): 0,\n",
       " rdflib.term.URIRef('urn:unknown:medium%3A63'): 0,\n",
       " rdflib.term.URIRef('urn:unknown:medium%3A78'): 0,\n",
       " rdflib.term.URIRef('urn:unknown:medium%3A119'): 0,\n",
       " rdflib.term.URIRef('urn:unknown:medium%3A381'): 0,\n",
       " rdflib.term.URIRef('urn:unknown:medium%3A27'): 0,\n",
       " rdflib.term.URIRef('urn:unknown:medium%3A641'): 0,\n",
       " rdflib.term.URIRef('urn:unknown:medium%3AJ574'): 0,\n",
       " rdflib.term.URIRef('urn:unknown:medium%3A514b'): 0,\n",
       " rdflib.term.URIRef('urn:unknown:medium%3A84'): 0,\n",
       " rdflib.term.URIRef('urn:unknown:medium%3A535b'): 0,\n",
       " rdflib.term.URIRef('urn:unknown:medium%3A104c'): 0,\n",
       " rdflib.term.URIRef('urn:unknown:medium%3A760'): 0,\n",
       " rdflib.term.URIRef('urn:unknown:medium%3A339'): 0,\n",
       " rdflib.term.URIRef('urn:unknown:medium%3A554'): 0,\n",
       " rdflib.term.URIRef('urn:unknown:medium%3A1560'): 0,\n",
       " rdflib.term.URIRef('urn:unknown:medium%3A195c'): 0,\n",
       " rdflib.term.URIRef('urn:unknown:medium%3A28'): 0,\n",
       " rdflib.term.URIRef('urn:unknown:medium%3A141'): 0,\n",
       " rdflib.term.URIRef('urn:unknown:medium%3A503'): 0}"
      ]
     },
     "execution_count": 10,
     "metadata": {},
     "output_type": "execute_result"
    }
   ],
   "source": [
    "data_sorted = {k: v for k, v in sorted(support.items(), key=lambda x: x[1], reverse=True)}\n",
    "data_sorted"
   ]
  },
  {
   "cell_type": "code",
   "execution_count": 22,
   "metadata": {},
   "outputs": [],
   "source": [
    "wrong = dict.fromkeys(top40, 0)\n",
    "for row in maybeGood:\n",
    "    wrong[rdflib.term.URIRef(row[1].split(\"<\")[1].split(\">\")[0])] = wrong[rdflib.term.URIRef(row[1].split(\"<\")[1].split(\">\")[0])] + 1"
   ]
  },
  {
   "cell_type": "code",
   "execution_count": 23,
   "metadata": {},
   "outputs": [
    {
     "data": {
      "text/plain": [
       "{rdflib.term.URIRef('urn:unknown:medium%3A65'): 44,\n",
       " rdflib.term.URIRef('urn:unknown:medium%3A514'): 32,\n",
       " rdflib.term.URIRef('urn:unknown:medium%3A693'): 31,\n",
       " rdflib.term.URIRef('urn:unknown:medium%3A830'): 22,\n",
       " rdflib.term.URIRef('urn:unknown:medium%3A92'): 23,\n",
       " rdflib.term.URIRef('urn:unknown:medium%3A11'): 0,\n",
       " rdflib.term.URIRef('urn:unknown:medium%3A645'): 0,\n",
       " rdflib.term.URIRef('urn:unknown:medium%3A104'): 0,\n",
       " rdflib.term.URIRef('urn:unknown:medium%3AJ14'): 3,\n",
       " rdflib.term.URIRef('urn:unknown:medium%3A1a'): 1,\n",
       " rdflib.term.URIRef('urn:unknown:medium%3A110'): 0,\n",
       " rdflib.term.URIRef('urn:unknown:medium%3A372'): 0,\n",
       " rdflib.term.URIRef('urn:unknown:medium%3A58'): 0,\n",
       " rdflib.term.URIRef('urn:unknown:medium%3A1076b'): 0,\n",
       " rdflib.term.URIRef('urn:unknown:medium%3A545'): 0,\n",
       " rdflib.term.URIRef('urn:unknown:medium%3A830c'): 0,\n",
       " rdflib.term.URIRef('urn:unknown:medium%3A553'): 0,\n",
       " rdflib.term.URIRef('urn:unknown:medium%3A104b'): 0,\n",
       " rdflib.term.URIRef('urn:unknown:medium%3A98'): 0,\n",
       " rdflib.term.URIRef('urn:unknown:medium%3A514c'): 2,\n",
       " rdflib.term.URIRef('urn:unknown:medium%3A215'): 0,\n",
       " rdflib.term.URIRef('urn:unknown:medium%3A63'): 0,\n",
       " rdflib.term.URIRef('urn:unknown:medium%3A78'): 0,\n",
       " rdflib.term.URIRef('urn:unknown:medium%3A119'): 0,\n",
       " rdflib.term.URIRef('urn:unknown:medium%3A381'): 0,\n",
       " rdflib.term.URIRef('urn:unknown:medium%3A27'): 0,\n",
       " rdflib.term.URIRef('urn:unknown:medium%3A641'): 1,\n",
       " rdflib.term.URIRef('urn:unknown:medium%3AJ574'): 0,\n",
       " rdflib.term.URIRef('urn:unknown:medium%3A514b'): 0,\n",
       " rdflib.term.URIRef('urn:unknown:medium%3A84'): 2,\n",
       " rdflib.term.URIRef('urn:unknown:medium%3A535b'): 0,\n",
       " rdflib.term.URIRef('urn:unknown:medium%3A104c'): 0,\n",
       " rdflib.term.URIRef('urn:unknown:medium%3A760'): 0,\n",
       " rdflib.term.URIRef('urn:unknown:medium%3A339'): 0,\n",
       " rdflib.term.URIRef('urn:unknown:medium%3A554'): 3,\n",
       " rdflib.term.URIRef('urn:unknown:medium%3A1560'): 0,\n",
       " rdflib.term.URIRef('urn:unknown:medium%3A195c'): 0,\n",
       " rdflib.term.URIRef('urn:unknown:medium%3A28'): 0,\n",
       " rdflib.term.URIRef('urn:unknown:medium%3A141'): 0,\n",
       " rdflib.term.URIRef('urn:unknown:medium%3A503'): 0}"
      ]
     },
     "execution_count": 23,
     "metadata": {},
     "output_type": "execute_result"
    }
   ],
   "source": [
    "wrong"
   ]
  },
  {
   "cell_type": "code",
   "execution_count": 24,
   "metadata": {},
   "outputs": [
    {
     "data": {
      "text/plain": [
       "{rdflib.term.URIRef('urn:unknown:medium%3A65'): 44,\n",
       " rdflib.term.URIRef('urn:unknown:medium%3A514'): 32,\n",
       " rdflib.term.URIRef('urn:unknown:medium%3A693'): 31,\n",
       " rdflib.term.URIRef('urn:unknown:medium%3A92'): 23,\n",
       " rdflib.term.URIRef('urn:unknown:medium%3A830'): 22,\n",
       " rdflib.term.URIRef('urn:unknown:medium%3AJ14'): 3,\n",
       " rdflib.term.URIRef('urn:unknown:medium%3A554'): 3,\n",
       " rdflib.term.URIRef('urn:unknown:medium%3A514c'): 2,\n",
       " rdflib.term.URIRef('urn:unknown:medium%3A84'): 2,\n",
       " rdflib.term.URIRef('urn:unknown:medium%3A1a'): 1,\n",
       " rdflib.term.URIRef('urn:unknown:medium%3A641'): 1,\n",
       " rdflib.term.URIRef('urn:unknown:medium%3A11'): 0,\n",
       " rdflib.term.URIRef('urn:unknown:medium%3A645'): 0,\n",
       " rdflib.term.URIRef('urn:unknown:medium%3A104'): 0,\n",
       " rdflib.term.URIRef('urn:unknown:medium%3A110'): 0,\n",
       " rdflib.term.URIRef('urn:unknown:medium%3A372'): 0,\n",
       " rdflib.term.URIRef('urn:unknown:medium%3A58'): 0,\n",
       " rdflib.term.URIRef('urn:unknown:medium%3A1076b'): 0,\n",
       " rdflib.term.URIRef('urn:unknown:medium%3A545'): 0,\n",
       " rdflib.term.URIRef('urn:unknown:medium%3A830c'): 0,\n",
       " rdflib.term.URIRef('urn:unknown:medium%3A553'): 0,\n",
       " rdflib.term.URIRef('urn:unknown:medium%3A104b'): 0,\n",
       " rdflib.term.URIRef('urn:unknown:medium%3A98'): 0,\n",
       " rdflib.term.URIRef('urn:unknown:medium%3A215'): 0,\n",
       " rdflib.term.URIRef('urn:unknown:medium%3A63'): 0,\n",
       " rdflib.term.URIRef('urn:unknown:medium%3A78'): 0,\n",
       " rdflib.term.URIRef('urn:unknown:medium%3A119'): 0,\n",
       " rdflib.term.URIRef('urn:unknown:medium%3A381'): 0,\n",
       " rdflib.term.URIRef('urn:unknown:medium%3A27'): 0,\n",
       " rdflib.term.URIRef('urn:unknown:medium%3AJ574'): 0,\n",
       " rdflib.term.URIRef('urn:unknown:medium%3A514b'): 0,\n",
       " rdflib.term.URIRef('urn:unknown:medium%3A535b'): 0,\n",
       " rdflib.term.URIRef('urn:unknown:medium%3A104c'): 0,\n",
       " rdflib.term.URIRef('urn:unknown:medium%3A760'): 0,\n",
       " rdflib.term.URIRef('urn:unknown:medium%3A339'): 0,\n",
       " rdflib.term.URIRef('urn:unknown:medium%3A1560'): 0,\n",
       " rdflib.term.URIRef('urn:unknown:medium%3A195c'): 0,\n",
       " rdflib.term.URIRef('urn:unknown:medium%3A28'): 0,\n",
       " rdflib.term.URIRef('urn:unknown:medium%3A141'): 0,\n",
       " rdflib.term.URIRef('urn:unknown:medium%3A503'): 0}"
      ]
     },
     "execution_count": 24,
     "metadata": {},
     "output_type": "execute_result"
    }
   ],
   "source": [
    "wrong_sorted = {k: v for k, v in sorted(wrong.items(), key=lambda x: x[1], reverse=True)}\n",
    "wrong_sorted"
   ]
  },
  {
   "cell_type": "code",
   "execution_count": 25,
   "metadata": {},
   "outputs": [
    {
     "data": {
      "text/plain": [
       "{rdflib.term.URIRef('urn:unknown:medium%3A830'): 51,\n",
       " rdflib.term.URIRef('urn:unknown:medium%3A92'): 37,\n",
       " rdflib.term.URIRef('urn:unknown:medium%3A514'): 32,\n",
       " rdflib.term.URIRef('urn:unknown:medium%3A693'): 14,\n",
       " rdflib.term.URIRef('urn:unknown:medium%3A65'): 10,\n",
       " rdflib.term.URIRef('urn:unknown:medium%3A11'): 6,\n",
       " rdflib.term.URIRef('urn:unknown:medium%3AJ14'): 4,\n",
       " rdflib.term.URIRef('urn:unknown:medium%3A1076b'): 4,\n",
       " rdflib.term.URIRef('urn:unknown:medium%3A645'): 3,\n",
       " rdflib.term.URIRef('urn:unknown:medium%3A98'): 3,\n",
       " rdflib.term.URIRef('urn:unknown:medium%3A104'): 0,\n",
       " rdflib.term.URIRef('urn:unknown:medium%3A1a'): 0,\n",
       " rdflib.term.URIRef('urn:unknown:medium%3A110'): 0,\n",
       " rdflib.term.URIRef('urn:unknown:medium%3A372'): 0,\n",
       " rdflib.term.URIRef('urn:unknown:medium%3A58'): 0,\n",
       " rdflib.term.URIRef('urn:unknown:medium%3A545'): 0,\n",
       " rdflib.term.URIRef('urn:unknown:medium%3A830c'): 0,\n",
       " rdflib.term.URIRef('urn:unknown:medium%3A553'): 0,\n",
       " rdflib.term.URIRef('urn:unknown:medium%3A104b'): 0,\n",
       " rdflib.term.URIRef('urn:unknown:medium%3A514c'): 0,\n",
       " rdflib.term.URIRef('urn:unknown:medium%3A215'): 0,\n",
       " rdflib.term.URIRef('urn:unknown:medium%3A63'): 0,\n",
       " rdflib.term.URIRef('urn:unknown:medium%3A78'): 0,\n",
       " rdflib.term.URIRef('urn:unknown:medium%3A119'): 0,\n",
       " rdflib.term.URIRef('urn:unknown:medium%3A381'): 0,\n",
       " rdflib.term.URIRef('urn:unknown:medium%3A27'): 0,\n",
       " rdflib.term.URIRef('urn:unknown:medium%3A641'): 0,\n",
       " rdflib.term.URIRef('urn:unknown:medium%3AJ574'): 0,\n",
       " rdflib.term.URIRef('urn:unknown:medium%3A514b'): 0,\n",
       " rdflib.term.URIRef('urn:unknown:medium%3A84'): 0,\n",
       " rdflib.term.URIRef('urn:unknown:medium%3A535b'): 0,\n",
       " rdflib.term.URIRef('urn:unknown:medium%3A104c'): 0,\n",
       " rdflib.term.URIRef('urn:unknown:medium%3A760'): 0,\n",
       " rdflib.term.URIRef('urn:unknown:medium%3A339'): 0,\n",
       " rdflib.term.URIRef('urn:unknown:medium%3A554'): 0,\n",
       " rdflib.term.URIRef('urn:unknown:medium%3A1560'): 0,\n",
       " rdflib.term.URIRef('urn:unknown:medium%3A195c'): 0,\n",
       " rdflib.term.URIRef('urn:unknown:medium%3A28'): 0,\n",
       " rdflib.term.URIRef('urn:unknown:medium%3A141'): 0,\n",
       " rdflib.term.URIRef('urn:unknown:medium%3A503'): 0}"
      ]
     },
     "execution_count": 25,
     "metadata": {},
     "output_type": "execute_result"
    }
   ],
   "source": [
    "data_sorted"
   ]
  },
  {
   "cell_type": "code",
   "execution_count": 71,
   "metadata": {},
   "outputs": [
    {
     "data": {
      "text/plain": [
       "34"
      ]
     },
     "execution_count": 71,
     "metadata": {},
     "output_type": "execute_result"
    }
   ],
   "source": [
    "len(data_sorted)"
   ]
  },
  {
   "cell_type": "code",
   "execution_count": 74,
   "metadata": {},
   "outputs": [],
   "source": [
    "for row in not_predicted_media:\n",
    "    f = open(\"C:/Users/Dominika/Documents/SKOLA/ING/DIPLOMKA/output/new_media_rules.csv\", \"a\")\n",
    "    f.write(str(row)+\"\\n\")\n",
    "    f.close()"
   ]
  },
  {
   "cell_type": "code",
   "execution_count": null,
   "metadata": {},
   "outputs": [],
   "source": []
  }
 ],
 "metadata": {
  "kernelspec": {
   "display_name": "pyth12",
   "language": "python",
   "name": "python3"
  },
  "language_info": {
   "codemirror_mode": {
    "name": "ipython",
    "version": 3
   },
   "file_extension": ".py",
   "mimetype": "text/x-python",
   "name": "python",
   "nbconvert_exporter": "python",
   "pygments_lexer": "ipython3",
   "version": "3.12.3"
  }
 },
 "nbformat": 4,
 "nbformat_minor": 2
}
