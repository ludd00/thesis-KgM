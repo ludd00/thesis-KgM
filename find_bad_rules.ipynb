{
 "cells": [
  {
   "cell_type": "code",
   "execution_count": 21,
   "metadata": {},
   "outputs": [],
   "source": [
    "import json"
   ]
  },
  {
   "cell_type": "code",
   "execution_count": 22,
   "metadata": {},
   "outputs": [],
   "source": [
    "with open('C:/Users/Dominika/Downloads/predictionTasks(2).json', 'r') as file:\n",
    "    ruleset = json.load(file)"
   ]
  },
  {
   "cell_type": "code",
   "execution_count": 23,
   "metadata": {},
   "outputs": [
    {
     "name": "stdout",
     "output_type": "stream",
     "text": [
      "578\n",
      "578\n"
     ]
    }
   ],
   "source": [
    "not_prdicted = []\n",
    "i = 0\n",
    "for rule in ruleset:\n",
    "    if not rule[\"candidates\"]:\n",
    "        i += 1\n",
    "        not_prdicted.append(rule[\"predictionTask\"][\"c\"][\"s\"][\"localName\"])\n",
    "print(i)\n",
    "print(len(not_prdicted))"
   ]
  },
  {
   "cell_type": "code",
   "execution_count": 24,
   "metadata": {},
   "outputs": [],
   "source": [
    "import csv\n",
    "with open('not_prdicted_1020.csv', 'w', newline='\\n') as f:\n",
    "     \n",
    "    write = csv.writer(f)\n",
    "     \n",
    "    write.writerows([not_prdicted])"
   ]
  },
  {
   "cell_type": "code",
   "execution_count": 5,
   "metadata": {},
   "outputs": [],
   "source": [
    "#!pip install rdflib\n",
    "import rdflib\n",
    "from rdflib import Graph\n",
    "import pandas as pd\n",
    "import json\n",
    "import urllib.parse"
   ]
  },
  {
   "cell_type": "code",
   "execution_count": 6,
   "metadata": {},
   "outputs": [
    {
     "data": {
      "text/plain": [
       "<Graph identifier=N7dd91cdb3b584cf7921a22164c18b830 (<class 'rdflib.graph.Graph'>)>"
      ]
     },
     "execution_count": 6,
     "metadata": {},
     "output_type": "execute_result"
    }
   ],
   "source": [
    "g = Graph()\n",
    "g.parse(\"kg-mic.ttl\")"
   ]
  },
  {
   "cell_type": "code",
   "execution_count": 25,
   "metadata": {},
   "outputs": [
    {
     "name": "stdout",
     "output_type": "stream",
     "text": [
      "578\n"
     ]
    }
   ],
   "source": [
    "\n",
    "bioregistry_prefixes = {}\n",
    "f = open(\"C:/Users/Dominika/Documents/SKOLA/ING/DIPLOMKA/registry.json\")\n",
    "data = json.load(f)\n",
    "for entity in data.values():\n",
    "    bioregistry_prefixes[entity[\"prefix\"]] = {\"name\": entity[\"name\"], \"uri_format\": entity[\"uri_format\"]}\n",
    "f.close()\n",
    "del data\n",
    "\n",
    "\n",
    "\n",
    "def extract_uri(id: str):\n",
    "    def_prefix = bioregistry_prefixes.get(\"obo\")\n",
    "    uf = def_prefix[\"uri_format\"]  # type: str\n",
    "    return uf.replace(\"$1\", id)\n",
    "\n",
    "\n",
    "taxons_prefixed = []\n",
    "for row in not_prdicted:\n",
    "    uri_1 = extract_uri(row)\n",
    "    taxons_prefixed.append(uri_1)\n",
    "\n",
    "print(len(taxons_prefixed))"
   ]
  },
  {
   "cell_type": "code",
   "execution_count": 26,
   "metadata": {},
   "outputs": [
    {
     "name": "stdout",
     "output_type": "stream",
     "text": [
      "999\n"
     ]
    }
   ],
   "source": [
    "query = \"\"\"\n",
    "SELECT ?s ?p ?o\n",
    "WHERE {\n",
    "  ?s ?p ?o .\n",
    "}\n",
    "\"\"\"\n",
    "\n",
    "bad_rule_media = []\n",
    "\n",
    "for row in taxons_prefixed:\n",
    "    subjectitos = rdflib.term.URIRef(row)\n",
    "    filtered_gq = g.query(query, initBindings = {\n",
    "        \"s\": subjectitos,\n",
    "        \"p\": rdflib.term.URIRef(\"https://w3id.org/biolink/vocab/occurs_in\")\n",
    "    })\n",
    "    for row in filtered_gq:\n",
    "        bad_rule_media.append(row.o)\n",
    "\n",
    "print(len(bad_rule_media))\n",
    "\n"
   ]
  },
  {
   "cell_type": "code",
   "execution_count": 27,
   "metadata": {},
   "outputs": [],
   "source": [
    "bad_media_dict = dict.fromkeys(bad_rule_media, 0)\n",
    "for row in bad_rule_media:\n",
    "    bad_media_dict[row] = bad_media_dict[row] + 1"
   ]
  },
  {
   "cell_type": "code",
   "execution_count": 28,
   "metadata": {},
   "outputs": [
    {
     "name": "stdout",
     "output_type": "stream",
     "text": [
      "{rdflib.term.URIRef('urn:unknown:medium%3A514'): 171, rdflib.term.URIRef('urn:unknown:medium%3A830'): 107, rdflib.term.URIRef('urn:unknown:medium%3A92'): 94, rdflib.term.URIRef('urn:unknown:medium%3A65'): 85, rdflib.term.URIRef('urn:unknown:medium%3A693'): 58, rdflib.term.URIRef('urn:unknown:medium%3AJ118'): 51, rdflib.term.URIRef('urn:unknown:medium%3AJ26'): 48, rdflib.term.URIRef('urn:unknown:medium%3A535'): 37, rdflib.term.URIRef('urn:unknown:medium%3AJ43'): 31, rdflib.term.URIRef('urn:unknown:medium%3A11'): 22, rdflib.term.URIRef('urn:unknown:medium%3AJ346'): 21, rdflib.term.URIRef('urn:unknown:medium%3A1'): 21, rdflib.term.URIRef('urn:unknown:medium%3A553'): 17, rdflib.term.URIRef('urn:unknown:medium%3AJ28'): 16, rdflib.term.URIRef('urn:unknown:medium%3AJ14'): 15, rdflib.term.URIRef('urn:unknown:medium%3A215'): 14, rdflib.term.URIRef('urn:unknown:medium%3A645'): 13, rdflib.term.URIRef('urn:unknown:medium%3A104'): 10, rdflib.term.URIRef('urn:unknown:medium%3AJ386'): 10, rdflib.term.URIRef('urn:unknown:medium%3A1076b'): 9, rdflib.term.URIRef('urn:unknown:medium%3AJ51'): 9, rdflib.term.URIRef('urn:unknown:medium%3AJ475'): 9, rdflib.term.URIRef('urn:unknown:medium%3AJ22'): 9, rdflib.term.URIRef('urn:unknown:medium%3A220'): 8, rdflib.term.URIRef('urn:unknown:medium%3AJ256'): 8, rdflib.term.URIRef('urn:unknown:medium%3A83'): 7, rdflib.term.URIRef('urn:unknown:medium%3A535a'): 6, rdflib.term.URIRef('urn:unknown:medium%3A381'): 5, rdflib.term.URIRef('urn:unknown:medium%3AJ57'): 5, rdflib.term.URIRef('urn:unknown:medium%3AJ66'): 5, rdflib.term.URIRef('urn:unknown:medium%3AJ27'): 4, rdflib.term.URIRef('urn:unknown:medium%3AJ49'): 4, rdflib.term.URIRef('urn:unknown:medium%3A545'): 4, rdflib.term.URIRef('urn:unknown:medium%3A98'): 4, rdflib.term.URIRef('urn:unknown:medium%3AJ42'): 4, rdflib.term.URIRef('urn:unknown:medium%3AJ443'): 4, rdflib.term.URIRef('urn:unknown:medium%3AJ13'): 3, rdflib.term.URIRef('urn:unknown:medium%3AJ75'): 3, rdflib.term.URIRef('urn:unknown:medium%3AJ104'): 3, rdflib.term.URIRef('urn:unknown:medium%3AJ74'): 3, rdflib.term.URIRef('urn:unknown:medium%3AJ12'): 3, rdflib.term.URIRef('urn:unknown:medium%3A250'): 3, rdflib.term.URIRef('urn:unknown:medium%3AJ61'): 3, rdflib.term.URIRef('urn:unknown:medium%3A656'): 2, rdflib.term.URIRef('urn:unknown:medium%3A252'): 2, rdflib.term.URIRef('urn:unknown:medium%3A1a'): 2, rdflib.term.URIRef('urn:unknown:medium%3A830c'): 2, rdflib.term.URIRef('urn:unknown:medium%3A67'): 2, rdflib.term.URIRef('urn:unknown:medium%3AJ569'): 1, rdflib.term.URIRef('urn:unknown:medium%3A248'): 1, rdflib.term.URIRef('urn:unknown:medium%3AJ50'): 1, rdflib.term.URIRef('urn:unknown:medium%3AJ82'): 1, rdflib.term.URIRef('urn:unknown:medium%3A548'): 1, rdflib.term.URIRef('urn:unknown:medium%3AJ55'): 1, rdflib.term.URIRef('urn:unknown:medium%3AJ282'): 1, rdflib.term.URIRef('urn:unknown:medium%3A246'): 1, rdflib.term.URIRef('urn:unknown:medium%3A101'): 1, rdflib.term.URIRef('urn:unknown:medium%3AJ162'): 1, rdflib.term.URIRef('urn:unknown:medium%3A123'): 1, rdflib.term.URIRef('urn:unknown:medium%3AJ48'): 1, rdflib.term.URIRef('urn:unknown:medium%3AJ528'): 1, rdflib.term.URIRef('urn:unknown:medium%3AJ44'): 1, rdflib.term.URIRef('urn:unknown:medium%3A118'): 1, rdflib.term.URIRef('urn:unknown:medium%3A31'): 1, rdflib.term.URIRef('urn:unknown:medium%3AJ70'): 1, rdflib.term.URIRef('urn:unknown:medium%3A1203'): 1, rdflib.term.URIRef('urn:unknown:medium%3AJ302'): 1, rdflib.term.URIRef('urn:unknown:medium%3AJ1099'): 1, rdflib.term.URIRef('urn:unknown:medium%3AJ804'): 1, rdflib.term.URIRef('urn:unknown:medium%3AJ677'): 1, rdflib.term.URIRef('urn:unknown:medium%3AJ58'): 1}\n"
     ]
    }
   ],
   "source": [
    "data_sorted = {k: v for k, v in sorted(bad_media_dict.items(), key=lambda x: x[1], reverse=True)}\n",
    "print(data_sorted)"
   ]
  },
  {
   "cell_type": "code",
   "execution_count": 29,
   "metadata": {},
   "outputs": [
    {
     "data": {
      "text/plain": [
       "{rdflib.term.URIRef('urn:unknown:medium%3A514'): 171,\n",
       " rdflib.term.URIRef('urn:unknown:medium%3A830'): 107,\n",
       " rdflib.term.URIRef('urn:unknown:medium%3A92'): 94,\n",
       " rdflib.term.URIRef('urn:unknown:medium%3A65'): 85,\n",
       " rdflib.term.URIRef('urn:unknown:medium%3A693'): 58,\n",
       " rdflib.term.URIRef('urn:unknown:medium%3AJ118'): 51,\n",
       " rdflib.term.URIRef('urn:unknown:medium%3AJ26'): 48,\n",
       " rdflib.term.URIRef('urn:unknown:medium%3A535'): 37,\n",
       " rdflib.term.URIRef('urn:unknown:medium%3AJ43'): 31,\n",
       " rdflib.term.URIRef('urn:unknown:medium%3A11'): 22,\n",
       " rdflib.term.URIRef('urn:unknown:medium%3AJ346'): 21,\n",
       " rdflib.term.URIRef('urn:unknown:medium%3A1'): 21,\n",
       " rdflib.term.URIRef('urn:unknown:medium%3A553'): 17,\n",
       " rdflib.term.URIRef('urn:unknown:medium%3AJ28'): 16,\n",
       " rdflib.term.URIRef('urn:unknown:medium%3AJ14'): 15,\n",
       " rdflib.term.URIRef('urn:unknown:medium%3A215'): 14,\n",
       " rdflib.term.URIRef('urn:unknown:medium%3A645'): 13,\n",
       " rdflib.term.URIRef('urn:unknown:medium%3A104'): 10,\n",
       " rdflib.term.URIRef('urn:unknown:medium%3AJ386'): 10,\n",
       " rdflib.term.URIRef('urn:unknown:medium%3A1076b'): 9,\n",
       " rdflib.term.URIRef('urn:unknown:medium%3AJ51'): 9,\n",
       " rdflib.term.URIRef('urn:unknown:medium%3AJ475'): 9,\n",
       " rdflib.term.URIRef('urn:unknown:medium%3AJ22'): 9,\n",
       " rdflib.term.URIRef('urn:unknown:medium%3A220'): 8,\n",
       " rdflib.term.URIRef('urn:unknown:medium%3AJ256'): 8,\n",
       " rdflib.term.URIRef('urn:unknown:medium%3A83'): 7,\n",
       " rdflib.term.URIRef('urn:unknown:medium%3A535a'): 6,\n",
       " rdflib.term.URIRef('urn:unknown:medium%3A381'): 5,\n",
       " rdflib.term.URIRef('urn:unknown:medium%3AJ57'): 5,\n",
       " rdflib.term.URIRef('urn:unknown:medium%3AJ66'): 5,\n",
       " rdflib.term.URIRef('urn:unknown:medium%3AJ27'): 4,\n",
       " rdflib.term.URIRef('urn:unknown:medium%3AJ49'): 4,\n",
       " rdflib.term.URIRef('urn:unknown:medium%3A545'): 4,\n",
       " rdflib.term.URIRef('urn:unknown:medium%3A98'): 4,\n",
       " rdflib.term.URIRef('urn:unknown:medium%3AJ42'): 4,\n",
       " rdflib.term.URIRef('urn:unknown:medium%3AJ443'): 4,\n",
       " rdflib.term.URIRef('urn:unknown:medium%3AJ13'): 3,\n",
       " rdflib.term.URIRef('urn:unknown:medium%3AJ75'): 3,\n",
       " rdflib.term.URIRef('urn:unknown:medium%3AJ104'): 3,\n",
       " rdflib.term.URIRef('urn:unknown:medium%3AJ74'): 3,\n",
       " rdflib.term.URIRef('urn:unknown:medium%3AJ12'): 3,\n",
       " rdflib.term.URIRef('urn:unknown:medium%3A250'): 3,\n",
       " rdflib.term.URIRef('urn:unknown:medium%3AJ61'): 3,\n",
       " rdflib.term.URIRef('urn:unknown:medium%3A656'): 2,\n",
       " rdflib.term.URIRef('urn:unknown:medium%3A252'): 2,\n",
       " rdflib.term.URIRef('urn:unknown:medium%3A1a'): 2,\n",
       " rdflib.term.URIRef('urn:unknown:medium%3A830c'): 2,\n",
       " rdflib.term.URIRef('urn:unknown:medium%3A67'): 2,\n",
       " rdflib.term.URIRef('urn:unknown:medium%3AJ569'): 1,\n",
       " rdflib.term.URIRef('urn:unknown:medium%3A248'): 1,\n",
       " rdflib.term.URIRef('urn:unknown:medium%3AJ50'): 1,\n",
       " rdflib.term.URIRef('urn:unknown:medium%3AJ82'): 1,\n",
       " rdflib.term.URIRef('urn:unknown:medium%3A548'): 1,\n",
       " rdflib.term.URIRef('urn:unknown:medium%3AJ55'): 1,\n",
       " rdflib.term.URIRef('urn:unknown:medium%3AJ282'): 1,\n",
       " rdflib.term.URIRef('urn:unknown:medium%3A246'): 1,\n",
       " rdflib.term.URIRef('urn:unknown:medium%3A101'): 1,\n",
       " rdflib.term.URIRef('urn:unknown:medium%3AJ162'): 1,\n",
       " rdflib.term.URIRef('urn:unknown:medium%3A123'): 1,\n",
       " rdflib.term.URIRef('urn:unknown:medium%3AJ48'): 1,\n",
       " rdflib.term.URIRef('urn:unknown:medium%3AJ528'): 1,\n",
       " rdflib.term.URIRef('urn:unknown:medium%3AJ44'): 1,\n",
       " rdflib.term.URIRef('urn:unknown:medium%3A118'): 1,\n",
       " rdflib.term.URIRef('urn:unknown:medium%3A31'): 1,\n",
       " rdflib.term.URIRef('urn:unknown:medium%3AJ70'): 1,\n",
       " rdflib.term.URIRef('urn:unknown:medium%3A1203'): 1,\n",
       " rdflib.term.URIRef('urn:unknown:medium%3AJ302'): 1,\n",
       " rdflib.term.URIRef('urn:unknown:medium%3AJ1099'): 1,\n",
       " rdflib.term.URIRef('urn:unknown:medium%3AJ804'): 1,\n",
       " rdflib.term.URIRef('urn:unknown:medium%3AJ677'): 1,\n",
       " rdflib.term.URIRef('urn:unknown:medium%3AJ58'): 1}"
      ]
     },
     "execution_count": 29,
     "metadata": {},
     "output_type": "execute_result"
    }
   ],
   "source": [
    "data_sorted"
   ]
  },
  {
   "cell_type": "code",
   "execution_count": 30,
   "metadata": {},
   "outputs": [],
   "source": [
    "import json\n",
    "with open(\"bad_media_1020.json\", \"w\") as outfile: \n",
    "    json.dump(data_sorted, outfile)"
   ]
  },
  {
   "cell_type": "code",
   "execution_count": null,
   "metadata": {},
   "outputs": [],
   "source": []
  }
 ],
 "metadata": {
  "kernelspec": {
   "display_name": "pyth12",
   "language": "python",
   "name": "python3"
  },
  "language_info": {
   "codemirror_mode": {
    "name": "ipython",
    "version": 3
   },
   "file_extension": ".py",
   "mimetype": "text/x-python",
   "name": "python",
   "nbconvert_exporter": "python",
   "pygments_lexer": "ipython3",
   "version": "3.12.3"
  }
 },
 "nbformat": 4,
 "nbformat_minor": 2
}
